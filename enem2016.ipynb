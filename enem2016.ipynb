{
  "nbformat": 4,
  "nbformat_minor": 0,
  "metadata": {
    "colab": {
      "name": "enem2016.ipynb",
      "provenance": [],
      "authorship_tag": "ABX9TyMd3D06GARxjyyzfmxmXcYM",
      "include_colab_link": true
    },
    "kernelspec": {
      "name": "python3",
      "display_name": "Python 3"
    }
  },
  "cells": [
    {
      "cell_type": "markdown",
      "metadata": {
        "id": "view-in-github",
        "colab_type": "text"
      },
      "source": [
        "<a href=\"https://colab.research.google.com/github/BomfimThiago/Portfolio-Data-Science/blob/master/enem2016.ipynb\" target=\"_parent\"><img src=\"https://colab.research.google.com/assets/colab-badge.svg\" alt=\"Open In Colab\"/></a>"
      ]
    },
    {
      "cell_type": "markdown",
      "metadata": {
        "id": "bU2_2CaQEr5Q",
        "colab_type": "text"
      },
      "source": [
        "# Análise das Notas do Enem 2016!\n",
        "Neste notebook vamos analisar as notas do enem de 2016 e construir um modelo que nos diga,com precisão, quais serão as notas de matemática dos alunos.\n",
        "\n",
        "Construiremos nosso modelo no devido tempo mas antes vamos aproveitar esse dataset e responder algumas perguntas que achei interessante e tentar extrair algumas informações do nosso dataset.\n",
        "\n",
        "<h5><b> Perguntas:<h5></b>\n",
        "<ul>\n",
        "  <li> Os alunos de escola Federal ou Privada tem uma média maior do que os alunos de escola municipal ou estadual?</li>\n",
        "  <li> Os alunos que trabalham teriam menor desempenho  no enem, visto que provavelmente teriam menos tempo para estudar?\n",
        "  <li>Quem está no terceiro ano do ensino médio se sai melhor no enem do que quem já concluiu o ensino médio?teoricamente os alunos do 3° ano estariam com a matéria mais fresca.\n",
        "  <li> Qual a região do Brasil com maior média no enem?\n",
        "\n",
        "  <li>Será que os candidatos casados tiveram menor aproveitamento que os solteiros?teoricamente os casados tem maiores tarefas diárias e isso poderia limitar o tempo de estudo.\n",
        "</ul>\n",
        "\n",
        "Bom, para responder essas perguntas e criar nosso modelo vamos seguir essas etapas:\n",
        "<ol>\n",
        "  <li>Tratamento dos Dados</li>\n",
        "  <li>Análise dos dados(Responderemos as perguntas)</li>\n",
        "  <li>Criação e treinamento do modelo</li>\n",
        "  <li>Predição das notas de matemática dos alunos e avaliação da perfomance do modelo.</li>\n",
        "</ol>\n"
      ]
    },
    {
      "cell_type": "markdown",
      "metadata": {
        "id": "CScf9qr1m1uJ",
        "colab_type": "text"
      },
      "source": [
        "# **1- Tratamento dos Dados**\n",
        "Para começar vamos importar os dados e dar uma olhada em suas características\n"
      ]
    },
    {
      "cell_type": "code",
      "metadata": {
        "id": "lZyMcdlPnO5Z",
        "colab_type": "code",
        "colab": {}
      },
      "source": [
        "import pandas as pd \n",
        "import numpy as np\n",
        "import seaborn as sns\n",
        "import matplotlib.pyplot as plt\n",
        "\n",
        "base = pd.read_csv(\"enem_train.csv\").drop(columns=['Unnamed: 0'])"
      ],
      "execution_count": 0,
      "outputs": []
    },
    {
      "cell_type": "code",
      "metadata": {
        "id": "_3DSFav8oJJW",
        "colab_type": "code",
        "outputId": "ae012f1d-bad8-4685-da2c-3c5977827020",
        "colab": {
          "base_uri": "https://localhost:8080/",
          "height": 224
        }
      },
      "source": [
        "pd.set_option(\"display.max_rows\", 2000)\n",
        "pd.set_option(\"display.max_columns\", 2000)\n",
        "base.head()"
      ],
      "execution_count": 0,
      "outputs": [
        {
          "output_type": "execute_result",
          "data": {
            "text/html": [
              "<div>\n",
              "<style scoped>\n",
              "    .dataframe tbody tr th:only-of-type {\n",
              "        vertical-align: middle;\n",
              "    }\n",
              "\n",
              "    .dataframe tbody tr th {\n",
              "        vertical-align: top;\n",
              "    }\n",
              "\n",
              "    .dataframe thead th {\n",
              "        text-align: right;\n",
              "    }\n",
              "</style>\n",
              "<table border=\"1\" class=\"dataframe\">\n",
              "  <thead>\n",
              "    <tr style=\"text-align: right;\">\n",
              "      <th></th>\n",
              "      <th>NU_INSCRICAO</th>\n",
              "      <th>NU_ANO</th>\n",
              "      <th>CO_MUNICIPIO_RESIDENCIA</th>\n",
              "      <th>NO_MUNICIPIO_RESIDENCIA</th>\n",
              "      <th>CO_UF_RESIDENCIA</th>\n",
              "      <th>SG_UF_RESIDENCIA</th>\n",
              "      <th>NU_IDADE</th>\n",
              "      <th>TP_SEXO</th>\n",
              "      <th>TP_ESTADO_CIVIL</th>\n",
              "      <th>TP_COR_RACA</th>\n",
              "      <th>TP_NACIONALIDADE</th>\n",
              "      <th>CO_MUNICIPIO_NASCIMENTO</th>\n",
              "      <th>NO_MUNICIPIO_NASCIMENTO</th>\n",
              "      <th>CO_UF_NASCIMENTO</th>\n",
              "      <th>SG_UF_NASCIMENTO</th>\n",
              "      <th>TP_ST_CONCLUSAO</th>\n",
              "      <th>TP_ANO_CONCLUIU</th>\n",
              "      <th>TP_ESCOLA</th>\n",
              "      <th>TP_ENSINO</th>\n",
              "      <th>IN_TREINEIRO</th>\n",
              "      <th>CO_ESCOLA</th>\n",
              "      <th>CO_MUNICIPIO_ESC</th>\n",
              "      <th>NO_MUNICIPIO_ESC</th>\n",
              "      <th>CO_UF_ESC</th>\n",
              "      <th>SG_UF_ESC</th>\n",
              "      <th>TP_DEPENDENCIA_ADM_ESC</th>\n",
              "      <th>TP_LOCALIZACAO_ESC</th>\n",
              "      <th>TP_SIT_FUNC_ESC</th>\n",
              "      <th>IN_BAIXA_VISAO</th>\n",
              "      <th>IN_CEGUEIRA</th>\n",
              "      <th>IN_SURDEZ</th>\n",
              "      <th>IN_DEFICIENCIA_AUDITIVA</th>\n",
              "      <th>IN_SURDO_CEGUEIRA</th>\n",
              "      <th>IN_DEFICIENCIA_FISICA</th>\n",
              "      <th>IN_DEFICIENCIA_MENTAL</th>\n",
              "      <th>IN_DEFICIT_ATENCAO</th>\n",
              "      <th>IN_DISLEXIA</th>\n",
              "      <th>IN_DISCALCULIA</th>\n",
              "      <th>IN_AUTISMO</th>\n",
              "      <th>IN_VISAO_MONOCULAR</th>\n",
              "      <th>IN_OUTRA_DEF</th>\n",
              "      <th>IN_SABATISTA</th>\n",
              "      <th>IN_GESTANTE</th>\n",
              "      <th>IN_LACTANTE</th>\n",
              "      <th>IN_IDOSO</th>\n",
              "      <th>IN_ESTUDA_CLASSE_HOSPITALAR</th>\n",
              "      <th>IN_SEM_RECURSO</th>\n",
              "      <th>IN_BRAILLE</th>\n",
              "      <th>IN_AMPLIADA_24</th>\n",
              "      <th>IN_AMPLIADA_18</th>\n",
              "      <th>IN_LEDOR</th>\n",
              "      <th>IN_ACESSO</th>\n",
              "      <th>IN_TRANSCRICAO</th>\n",
              "      <th>IN_LIBRAS</th>\n",
              "      <th>IN_LEITURA_LABIAL</th>\n",
              "      <th>IN_MESA_CADEIRA_RODAS</th>\n",
              "      <th>IN_MESA_CADEIRA_SEPARADA</th>\n",
              "      <th>IN_APOIO_PERNA</th>\n",
              "      <th>IN_GUIA_INTERPRETE</th>\n",
              "      <th>IN_MACA</th>\n",
              "      <th>IN_COMPUTADOR</th>\n",
              "      <th>IN_CADEIRA_ESPECIAL</th>\n",
              "      <th>IN_CADEIRA_CANHOTO</th>\n",
              "      <th>IN_CADEIRA_ACOLCHOADA</th>\n",
              "      <th>IN_PROVA_DEITADO</th>\n",
              "      <th>IN_MOBILIARIO_OBESO</th>\n",
              "      <th>IN_LAMINA_OVERLAY</th>\n",
              "      <th>IN_PROTETOR_AURICULAR</th>\n",
              "      <th>IN_MEDIDOR_GLICOSE</th>\n",
              "      <th>IN_MAQUINA_BRAILE</th>\n",
              "      <th>IN_SOROBAN</th>\n",
              "      <th>IN_MARCA_PASSO</th>\n",
              "      <th>IN_SONDA</th>\n",
              "      <th>IN_MEDICAMENTOS</th>\n",
              "      <th>IN_SALA_INDIVIDUAL</th>\n",
              "      <th>IN_SALA_ESPECIAL</th>\n",
              "      <th>IN_SALA_ACOMPANHANTE</th>\n",
              "      <th>IN_MOBILIARIO_ESPECIFICO</th>\n",
              "      <th>IN_MATERIAL_ESPECIFICO</th>\n",
              "      <th>IN_NOME_SOCIAL</th>\n",
              "      <th>IN_CERTIFICADO</th>\n",
              "      <th>NO_ENTIDADE_CERTIFICACAO</th>\n",
              "      <th>CO_UF_ENTIDADE_CERTIFICACAO</th>\n",
              "      <th>SG_UF_ENTIDADE_CERTIFICACAO</th>\n",
              "      <th>CO_MUNICIPIO_PROVA</th>\n",
              "      <th>NO_MUNICIPIO_PROVA</th>\n",
              "      <th>CO_UF_PROVA</th>\n",
              "      <th>SG_UF_PROVA</th>\n",
              "      <th>TP_PRESENCA_CN</th>\n",
              "      <th>TP_PRESENCA_CH</th>\n",
              "      <th>TP_PRESENCA_LC</th>\n",
              "      <th>TP_PRESENCA_MT</th>\n",
              "      <th>CO_PROVA_CN</th>\n",
              "      <th>CO_PROVA_CH</th>\n",
              "      <th>CO_PROVA_LC</th>\n",
              "      <th>CO_PROVA_MT</th>\n",
              "      <th>NU_NOTA_CN</th>\n",
              "      <th>NU_NOTA_CH</th>\n",
              "      <th>NU_NOTA_LC</th>\n",
              "      <th>NU_NOTA_MT</th>\n",
              "      <th>TX_RESPOSTAS_CN</th>\n",
              "      <th>TX_RESPOSTAS_CH</th>\n",
              "      <th>TX_RESPOSTAS_LC</th>\n",
              "      <th>TX_RESPOSTAS_MT</th>\n",
              "      <th>TP_LINGUA</th>\n",
              "      <th>TX_GABARITO_CN</th>\n",
              "      <th>TX_GABARITO_CH</th>\n",
              "      <th>TX_GABARITO_LC</th>\n",
              "      <th>TX_GABARITO_MT</th>\n",
              "      <th>TP_STATUS_REDACAO</th>\n",
              "      <th>NU_NOTA_COMP1</th>\n",
              "      <th>NU_NOTA_COMP2</th>\n",
              "      <th>NU_NOTA_COMP3</th>\n",
              "      <th>NU_NOTA_COMP4</th>\n",
              "      <th>NU_NOTA_COMP5</th>\n",
              "      <th>NU_NOTA_REDACAO</th>\n",
              "      <th>Q001</th>\n",
              "      <th>Q002</th>\n",
              "      <th>Q003</th>\n",
              "      <th>Q004</th>\n",
              "      <th>Q005</th>\n",
              "      <th>Q006</th>\n",
              "      <th>Q007</th>\n",
              "      <th>Q008</th>\n",
              "      <th>Q009</th>\n",
              "      <th>Q010</th>\n",
              "      <th>Q011</th>\n",
              "      <th>Q012</th>\n",
              "      <th>Q013</th>\n",
              "      <th>Q014</th>\n",
              "      <th>Q015</th>\n",
              "      <th>Q016</th>\n",
              "      <th>Q017</th>\n",
              "      <th>Q018</th>\n",
              "      <th>Q019</th>\n",
              "      <th>Q020</th>\n",
              "      <th>Q021</th>\n",
              "      <th>Q022</th>\n",
              "      <th>Q023</th>\n",
              "      <th>Q024</th>\n",
              "      <th>Q025</th>\n",
              "      <th>Q026</th>\n",
              "      <th>Q027</th>\n",
              "      <th>Q028</th>\n",
              "      <th>Q029</th>\n",
              "      <th>Q030</th>\n",
              "      <th>Q031</th>\n",
              "      <th>Q032</th>\n",
              "      <th>Q033</th>\n",
              "      <th>Q034</th>\n",
              "      <th>Q035</th>\n",
              "      <th>Q036</th>\n",
              "      <th>Q037</th>\n",
              "      <th>Q038</th>\n",
              "      <th>Q039</th>\n",
              "      <th>Q040</th>\n",
              "      <th>Q041</th>\n",
              "      <th>Q042</th>\n",
              "      <th>Q043</th>\n",
              "      <th>Q044</th>\n",
              "      <th>Q045</th>\n",
              "      <th>Q046</th>\n",
              "      <th>Q047</th>\n",
              "      <th>Q048</th>\n",
              "      <th>Q049</th>\n",
              "      <th>Q050</th>\n",
              "    </tr>\n",
              "  </thead>\n",
              "  <tbody>\n",
              "    <tr>\n",
              "      <th>0</th>\n",
              "      <td>ed50e8aaa58e7a806c337585efee9ca41f1eb1ad</td>\n",
              "      <td>2016</td>\n",
              "      <td>4314902</td>\n",
              "      <td>Porto Alegre</td>\n",
              "      <td>43</td>\n",
              "      <td>RS</td>\n",
              "      <td>24</td>\n",
              "      <td>M</td>\n",
              "      <td>0.0</td>\n",
              "      <td>1</td>\n",
              "      <td>1</td>\n",
              "      <td>4314902.0</td>\n",
              "      <td>Porto Alegre</td>\n",
              "      <td>43.0</td>\n",
              "      <td>RS</td>\n",
              "      <td>1</td>\n",
              "      <td>4</td>\n",
              "      <td>1</td>\n",
              "      <td>NaN</td>\n",
              "      <td>0</td>\n",
              "      <td>NaN</td>\n",
              "      <td>NaN</td>\n",
              "      <td>NaN</td>\n",
              "      <td>NaN</td>\n",
              "      <td>NaN</td>\n",
              "      <td>NaN</td>\n",
              "      <td>NaN</td>\n",
              "      <td>NaN</td>\n",
              "      <td>0</td>\n",
              "      <td>0</td>\n",
              "      <td>0</td>\n",
              "      <td>0</td>\n",
              "      <td>0</td>\n",
              "      <td>0</td>\n",
              "      <td>0</td>\n",
              "      <td>0</td>\n",
              "      <td>0</td>\n",
              "      <td>0</td>\n",
              "      <td>0</td>\n",
              "      <td>0</td>\n",
              "      <td>0</td>\n",
              "      <td>0</td>\n",
              "      <td>0</td>\n",
              "      <td>0</td>\n",
              "      <td>0</td>\n",
              "      <td>0</td>\n",
              "      <td>0</td>\n",
              "      <td>0</td>\n",
              "      <td>0</td>\n",
              "      <td>0</td>\n",
              "      <td>0</td>\n",
              "      <td>0</td>\n",
              "      <td>0</td>\n",
              "      <td>0</td>\n",
              "      <td>0</td>\n",
              "      <td>0</td>\n",
              "      <td>0</td>\n",
              "      <td>0</td>\n",
              "      <td>0</td>\n",
              "      <td>0</td>\n",
              "      <td>0</td>\n",
              "      <td>0</td>\n",
              "      <td>0</td>\n",
              "      <td>0</td>\n",
              "      <td>0</td>\n",
              "      <td>0</td>\n",
              "      <td>0</td>\n",
              "      <td>0</td>\n",
              "      <td>0</td>\n",
              "      <td>0</td>\n",
              "      <td>0</td>\n",
              "      <td>0</td>\n",
              "      <td>0</td>\n",
              "      <td>0</td>\n",
              "      <td>0</td>\n",
              "      <td>0</td>\n",
              "      <td>0</td>\n",
              "      <td>0</td>\n",
              "      <td>0</td>\n",
              "      <td>0</td>\n",
              "      <td>0</td>\n",
              "      <td>NaN</td>\n",
              "      <td>NaN</td>\n",
              "      <td>NaN</td>\n",
              "      <td>4314902</td>\n",
              "      <td>Porto Alegre</td>\n",
              "      <td>43</td>\n",
              "      <td>RS</td>\n",
              "      <td>1</td>\n",
              "      <td>1</td>\n",
              "      <td>1</td>\n",
              "      <td>1</td>\n",
              "      <td>16f84b7b3d2aeaff7d2f01297e6b3d0e25c77bb2</td>\n",
              "      <td>9cd70f1b922e02bd33453b3f607f5a644fb9b1b8</td>\n",
              "      <td>01af53cd161a420fff1767129c10de560cc264dd</td>\n",
              "      <td>97caab1e1533dba217deb7ef41490f52e459ab01</td>\n",
              "      <td>436.3</td>\n",
              "      <td>495.4</td>\n",
              "      <td>581.2</td>\n",
              "      <td>399.4</td>\n",
              "      <td>ABACCABDBEDEDEEDDDBBBDAABABECDCCCAAABCBEEABCA</td>\n",
              "      <td>BBEBCAEBCEDBDDEBCACDBCBDABDDCDBEDCEAEABCAADAC</td>\n",
              "      <td>99999DCABCABCBBCADBCBBABAEADBEEBEDAAABAEAECCBB...</td>\n",
              "      <td>AECCCBABDCADDBCBCCADADBBAADEBCEEBABCDDEAABCAA</td>\n",
              "      <td>1</td>\n",
              "      <td>BCADBCEDCCBADBDCADBEBDBEADCCAEACDBEDBCACAEBEE</td>\n",
              "      <td>BCBCCADCCBEDDBEEADBDCECCBBECAEEDDADCDDACAADBA</td>\n",
              "      <td>CEDEACCBEBDBABECABDADEADCEDCBEBBCEBAAEBAAECBBC...</td>\n",
              "      <td>DADCCECBDECADCBACDBCEEABDDAABDBCEADDBECEBAEBC</td>\n",
              "      <td>1.0</td>\n",
              "      <td>120.0</td>\n",
              "      <td>120.0</td>\n",
              "      <td>120.0</td>\n",
              "      <td>80.0</td>\n",
              "      <td>80.0</td>\n",
              "      <td>520.0</td>\n",
              "      <td>D</td>\n",
              "      <td>D</td>\n",
              "      <td>B</td>\n",
              "      <td>B</td>\n",
              "      <td>3</td>\n",
              "      <td>C</td>\n",
              "      <td>A</td>\n",
              "      <td>B</td>\n",
              "      <td>B</td>\n",
              "      <td>B</td>\n",
              "      <td>A</td>\n",
              "      <td>B</td>\n",
              "      <td>A</td>\n",
              "      <td>A</td>\n",
              "      <td>A</td>\n",
              "      <td>A</td>\n",
              "      <td>A</td>\n",
              "      <td>A</td>\n",
              "      <td>B</td>\n",
              "      <td>A</td>\n",
              "      <td>A</td>\n",
              "      <td>C</td>\n",
              "      <td>A</td>\n",
              "      <td>A</td>\n",
              "      <td>A</td>\n",
              "      <td>C</td>\n",
              "      <td>H</td>\n",
              "      <td>E</td>\n",
              "      <td>5.0</td>\n",
              "      <td>5.0</td>\n",
              "      <td>1.0</td>\n",
              "      <td>0.0</td>\n",
              "      <td>0.0</td>\n",
              "      <td>5</td>\n",
              "      <td>5</td>\n",
              "      <td>0</td>\n",
              "      <td>5</td>\n",
              "      <td>5</td>\n",
              "      <td>5</td>\n",
              "      <td>5</td>\n",
              "      <td>5.0</td>\n",
              "      <td>A</td>\n",
              "      <td>A</td>\n",
              "      <td>A</td>\n",
              "      <td>A</td>\n",
              "      <td>A</td>\n",
              "      <td>A</td>\n",
              "      <td>A</td>\n",
              "      <td>B</td>\n",
              "      <td>D</td>\n",
              "    </tr>\n",
              "    <tr>\n",
              "      <th>1</th>\n",
              "      <td>2c3acac4b33ec2b195d77e7c04a2d75727fad723</td>\n",
              "      <td>2016</td>\n",
              "      <td>2304707</td>\n",
              "      <td>Granja</td>\n",
              "      <td>23</td>\n",
              "      <td>CE</td>\n",
              "      <td>17</td>\n",
              "      <td>F</td>\n",
              "      <td>0.0</td>\n",
              "      <td>3</td>\n",
              "      <td>1</td>\n",
              "      <td>2304707.0</td>\n",
              "      <td>Granja</td>\n",
              "      <td>23.0</td>\n",
              "      <td>CE</td>\n",
              "      <td>2</td>\n",
              "      <td>0</td>\n",
              "      <td>2</td>\n",
              "      <td>1.0</td>\n",
              "      <td>0</td>\n",
              "      <td>23005157.0</td>\n",
              "      <td>2304707.0</td>\n",
              "      <td>Granja</td>\n",
              "      <td>23.0</td>\n",
              "      <td>CE</td>\n",
              "      <td>2.0</td>\n",
              "      <td>1.0</td>\n",
              "      <td>1.0</td>\n",
              "      <td>0</td>\n",
              "      <td>0</td>\n",
              "      <td>0</td>\n",
              "      <td>0</td>\n",
              "      <td>0</td>\n",
              "      <td>0</td>\n",
              "      <td>0</td>\n",
              "      <td>0</td>\n",
              "      <td>0</td>\n",
              "      <td>0</td>\n",
              "      <td>0</td>\n",
              "      <td>0</td>\n",
              "      <td>0</td>\n",
              "      <td>0</td>\n",
              "      <td>0</td>\n",
              "      <td>0</td>\n",
              "      <td>0</td>\n",
              "      <td>0</td>\n",
              "      <td>0</td>\n",
              "      <td>0</td>\n",
              "      <td>0</td>\n",
              "      <td>0</td>\n",
              "      <td>0</td>\n",
              "      <td>0</td>\n",
              "      <td>0</td>\n",
              "      <td>0</td>\n",
              "      <td>0</td>\n",
              "      <td>0</td>\n",
              "      <td>0</td>\n",
              "      <td>0</td>\n",
              "      <td>0</td>\n",
              "      <td>0</td>\n",
              "      <td>0</td>\n",
              "      <td>0</td>\n",
              "      <td>0</td>\n",
              "      <td>0</td>\n",
              "      <td>0</td>\n",
              "      <td>0</td>\n",
              "      <td>0</td>\n",
              "      <td>0</td>\n",
              "      <td>0</td>\n",
              "      <td>0</td>\n",
              "      <td>0</td>\n",
              "      <td>0</td>\n",
              "      <td>0</td>\n",
              "      <td>0</td>\n",
              "      <td>0</td>\n",
              "      <td>0</td>\n",
              "      <td>0</td>\n",
              "      <td>0</td>\n",
              "      <td>0</td>\n",
              "      <td>0</td>\n",
              "      <td>0</td>\n",
              "      <td>NaN</td>\n",
              "      <td>NaN</td>\n",
              "      <td>NaN</td>\n",
              "      <td>2304707</td>\n",
              "      <td>Granja</td>\n",
              "      <td>23</td>\n",
              "      <td>CE</td>\n",
              "      <td>1</td>\n",
              "      <td>1</td>\n",
              "      <td>1</td>\n",
              "      <td>1</td>\n",
              "      <td>b9b06ce8c319a3df2158ea3d0aef0f7d3eecaed7</td>\n",
              "      <td>909237ab0d84688e10c0470e2997348aff585273</td>\n",
              "      <td>01af53cd161a420fff1767129c10de560cc264dd</td>\n",
              "      <td>97caab1e1533dba217deb7ef41490f52e459ab01</td>\n",
              "      <td>474.5</td>\n",
              "      <td>544.1</td>\n",
              "      <td>599.0</td>\n",
              "      <td>459.8</td>\n",
              "      <td>EDAAABDABADBCCAEDCDDECABADBEECBBAEEDCABCAABBC</td>\n",
              "      <td>ADCAABAADCEDAACDACEEDACBDCBACEDEDBACAADADABDC</td>\n",
              "      <td>99999ACBACDBDBCEADDAEEADCCEACEEDBECAAAACBECDAC...</td>\n",
              "      <td>AEDACBDECEDAEEAEDDEBDECDCECACADCACACAABDACEAB</td>\n",
              "      <td>1</td>\n",
              "      <td>EBEECADBCABECDDBEADCCABDEABEBCADBADDCCCEDBBCA</td>\n",
              "      <td>DCECBAAADCBBECAEDCEDDACCBDDACEDDBADBCADBCBCEE</td>\n",
              "      <td>CEDEACCBEBDBABECABDADEADCEDCBEBBCEBAAEBAAECBBC...</td>\n",
              "      <td>DADCCECBDECADCBACDBCEEABDDAABDBCEADDBECEBAEBC</td>\n",
              "      <td>1.0</td>\n",
              "      <td>140.0</td>\n",
              "      <td>120.0</td>\n",
              "      <td>120.0</td>\n",
              "      <td>120.0</td>\n",
              "      <td>80.0</td>\n",
              "      <td>580.0</td>\n",
              "      <td>A</td>\n",
              "      <td>A</td>\n",
              "      <td>A</td>\n",
              "      <td>A</td>\n",
              "      <td>5</td>\n",
              "      <td>B</td>\n",
              "      <td>A</td>\n",
              "      <td>B</td>\n",
              "      <td>B</td>\n",
              "      <td>A</td>\n",
              "      <td>A</td>\n",
              "      <td>B</td>\n",
              "      <td>A</td>\n",
              "      <td>A</td>\n",
              "      <td>A</td>\n",
              "      <td>A</td>\n",
              "      <td>A</td>\n",
              "      <td>A</td>\n",
              "      <td>B</td>\n",
              "      <td>A</td>\n",
              "      <td>A</td>\n",
              "      <td>A</td>\n",
              "      <td>A</td>\n",
              "      <td>A</td>\n",
              "      <td>A</td>\n",
              "      <td>A</td>\n",
              "      <td>NaN</td>\n",
              "      <td>NaN</td>\n",
              "      <td>NaN</td>\n",
              "      <td>NaN</td>\n",
              "      <td>NaN</td>\n",
              "      <td>NaN</td>\n",
              "      <td>NaN</td>\n",
              "      <td>5</td>\n",
              "      <td>5</td>\n",
              "      <td>1</td>\n",
              "      <td>1</td>\n",
              "      <td>1</td>\n",
              "      <td>1</td>\n",
              "      <td>1</td>\n",
              "      <td>NaN</td>\n",
              "      <td>A</td>\n",
              "      <td>A</td>\n",
              "      <td>C</td>\n",
              "      <td>A</td>\n",
              "      <td>B</td>\n",
              "      <td>A</td>\n",
              "      <td>A</td>\n",
              "      <td>C</td>\n",
              "      <td>A</td>\n",
              "    </tr>\n",
              "    <tr>\n",
              "      <th>2</th>\n",
              "      <td>f4545f8ccb9ff5c8aad7d32951b3f251a26e6568</td>\n",
              "      <td>2016</td>\n",
              "      <td>2304400</td>\n",
              "      <td>Fortaleza</td>\n",
              "      <td>23</td>\n",
              "      <td>CE</td>\n",
              "      <td>21</td>\n",
              "      <td>F</td>\n",
              "      <td>0.0</td>\n",
              "      <td>3</td>\n",
              "      <td>1</td>\n",
              "      <td>2304400.0</td>\n",
              "      <td>Fortaleza</td>\n",
              "      <td>23.0</td>\n",
              "      <td>CE</td>\n",
              "      <td>3</td>\n",
              "      <td>0</td>\n",
              "      <td>1</td>\n",
              "      <td>NaN</td>\n",
              "      <td>0</td>\n",
              "      <td>NaN</td>\n",
              "      <td>NaN</td>\n",
              "      <td>NaN</td>\n",
              "      <td>NaN</td>\n",
              "      <td>NaN</td>\n",
              "      <td>NaN</td>\n",
              "      <td>NaN</td>\n",
              "      <td>NaN</td>\n",
              "      <td>0</td>\n",
              "      <td>0</td>\n",
              "      <td>0</td>\n",
              "      <td>0</td>\n",
              "      <td>0</td>\n",
              "      <td>0</td>\n",
              "      <td>0</td>\n",
              "      <td>0</td>\n",
              "      <td>0</td>\n",
              "      <td>0</td>\n",
              "      <td>0</td>\n",
              "      <td>0</td>\n",
              "      <td>0</td>\n",
              "      <td>0</td>\n",
              "      <td>0</td>\n",
              "      <td>0</td>\n",
              "      <td>0</td>\n",
              "      <td>0</td>\n",
              "      <td>0</td>\n",
              "      <td>0</td>\n",
              "      <td>0</td>\n",
              "      <td>0</td>\n",
              "      <td>0</td>\n",
              "      <td>0</td>\n",
              "      <td>0</td>\n",
              "      <td>0</td>\n",
              "      <td>0</td>\n",
              "      <td>0</td>\n",
              "      <td>0</td>\n",
              "      <td>0</td>\n",
              "      <td>0</td>\n",
              "      <td>0</td>\n",
              "      <td>0</td>\n",
              "      <td>0</td>\n",
              "      <td>0</td>\n",
              "      <td>0</td>\n",
              "      <td>0</td>\n",
              "      <td>0</td>\n",
              "      <td>0</td>\n",
              "      <td>0</td>\n",
              "      <td>0</td>\n",
              "      <td>0</td>\n",
              "      <td>0</td>\n",
              "      <td>0</td>\n",
              "      <td>0</td>\n",
              "      <td>0</td>\n",
              "      <td>0</td>\n",
              "      <td>0</td>\n",
              "      <td>0</td>\n",
              "      <td>0</td>\n",
              "      <td>0</td>\n",
              "      <td>0</td>\n",
              "      <td>0</td>\n",
              "      <td>NaN</td>\n",
              "      <td>NaN</td>\n",
              "      <td>NaN</td>\n",
              "      <td>2304400</td>\n",
              "      <td>Fortaleza</td>\n",
              "      <td>23</td>\n",
              "      <td>CE</td>\n",
              "      <td>0</td>\n",
              "      <td>0</td>\n",
              "      <td>0</td>\n",
              "      <td>0</td>\n",
              "      <td>2d22ac1d42e6187f09ee6c578df187a760123ccf</td>\n",
              "      <td>2d22ac1d42e6187f09ee6c578df187a760123ccf</td>\n",
              "      <td>2d22ac1d42e6187f09ee6c578df187a760123ccf</td>\n",
              "      <td>2d22ac1d42e6187f09ee6c578df187a760123ccf</td>\n",
              "      <td>NaN</td>\n",
              "      <td>NaN</td>\n",
              "      <td>NaN</td>\n",
              "      <td>NaN</td>\n",
              "      <td>NaN</td>\n",
              "      <td>NaN</td>\n",
              "      <td>NaN</td>\n",
              "      <td>NaN</td>\n",
              "      <td>1</td>\n",
              "      <td>NaN</td>\n",
              "      <td>NaN</td>\n",
              "      <td>NaN</td>\n",
              "      <td>NaN</td>\n",
              "      <td>NaN</td>\n",
              "      <td>NaN</td>\n",
              "      <td>NaN</td>\n",
              "      <td>NaN</td>\n",
              "      <td>NaN</td>\n",
              "      <td>NaN</td>\n",
              "      <td>NaN</td>\n",
              "      <td>D</td>\n",
              "      <td>D</td>\n",
              "      <td>B</td>\n",
              "      <td>B</td>\n",
              "      <td>4</td>\n",
              "      <td>C</td>\n",
              "      <td>A</td>\n",
              "      <td>B</td>\n",
              "      <td>C</td>\n",
              "      <td>A</td>\n",
              "      <td>A</td>\n",
              "      <td>B</td>\n",
              "      <td>A</td>\n",
              "      <td>A</td>\n",
              "      <td>A</td>\n",
              "      <td>A</td>\n",
              "      <td>A</td>\n",
              "      <td>A</td>\n",
              "      <td>B</td>\n",
              "      <td>A</td>\n",
              "      <td>A</td>\n",
              "      <td>B</td>\n",
              "      <td>A</td>\n",
              "      <td>A</td>\n",
              "      <td>A</td>\n",
              "      <td>A</td>\n",
              "      <td>NaN</td>\n",
              "      <td>NaN</td>\n",
              "      <td>NaN</td>\n",
              "      <td>NaN</td>\n",
              "      <td>NaN</td>\n",
              "      <td>NaN</td>\n",
              "      <td>NaN</td>\n",
              "      <td>5</td>\n",
              "      <td>5</td>\n",
              "      <td>5</td>\n",
              "      <td>5</td>\n",
              "      <td>5</td>\n",
              "      <td>5</td>\n",
              "      <td>5</td>\n",
              "      <td>NaN</td>\n",
              "      <td>A</td>\n",
              "      <td>A</td>\n",
              "      <td>A</td>\n",
              "      <td>A</td>\n",
              "      <td>C</td>\n",
              "      <td>A</td>\n",
              "      <td>A</td>\n",
              "      <td>B</td>\n",
              "      <td>A</td>\n",
              "    </tr>\n",
              "    <tr>\n",
              "      <th>3</th>\n",
              "      <td>3d6ec248fef899c414e77f82d5c6d2bffbeaf7fe</td>\n",
              "      <td>2016</td>\n",
              "      <td>3304557</td>\n",
              "      <td>Rio de Janeiro</td>\n",
              "      <td>33</td>\n",
              "      <td>RJ</td>\n",
              "      <td>25</td>\n",
              "      <td>F</td>\n",
              "      <td>0.0</td>\n",
              "      <td>0</td>\n",
              "      <td>1</td>\n",
              "      <td>3304557.0</td>\n",
              "      <td>Rio de Janeiro</td>\n",
              "      <td>33.0</td>\n",
              "      <td>RJ</td>\n",
              "      <td>1</td>\n",
              "      <td>9</td>\n",
              "      <td>1</td>\n",
              "      <td>NaN</td>\n",
              "      <td>0</td>\n",
              "      <td>NaN</td>\n",
              "      <td>NaN</td>\n",
              "      <td>NaN</td>\n",
              "      <td>NaN</td>\n",
              "      <td>NaN</td>\n",
              "      <td>NaN</td>\n",
              "      <td>NaN</td>\n",
              "      <td>NaN</td>\n",
              "      <td>0</td>\n",
              "      <td>0</td>\n",
              "      <td>0</td>\n",
              "      <td>0</td>\n",
              "      <td>0</td>\n",
              "      <td>0</td>\n",
              "      <td>0</td>\n",
              "      <td>0</td>\n",
              "      <td>0</td>\n",
              "      <td>0</td>\n",
              "      <td>0</td>\n",
              "      <td>0</td>\n",
              "      <td>0</td>\n",
              "      <td>0</td>\n",
              "      <td>0</td>\n",
              "      <td>0</td>\n",
              "      <td>0</td>\n",
              "      <td>0</td>\n",
              "      <td>0</td>\n",
              "      <td>0</td>\n",
              "      <td>0</td>\n",
              "      <td>0</td>\n",
              "      <td>0</td>\n",
              "      <td>0</td>\n",
              "      <td>0</td>\n",
              "      <td>0</td>\n",
              "      <td>0</td>\n",
              "      <td>0</td>\n",
              "      <td>0</td>\n",
              "      <td>0</td>\n",
              "      <td>0</td>\n",
              "      <td>0</td>\n",
              "      <td>0</td>\n",
              "      <td>0</td>\n",
              "      <td>0</td>\n",
              "      <td>0</td>\n",
              "      <td>0</td>\n",
              "      <td>0</td>\n",
              "      <td>0</td>\n",
              "      <td>0</td>\n",
              "      <td>0</td>\n",
              "      <td>0</td>\n",
              "      <td>0</td>\n",
              "      <td>0</td>\n",
              "      <td>0</td>\n",
              "      <td>0</td>\n",
              "      <td>0</td>\n",
              "      <td>0</td>\n",
              "      <td>0</td>\n",
              "      <td>0</td>\n",
              "      <td>0</td>\n",
              "      <td>0</td>\n",
              "      <td>0</td>\n",
              "      <td>NaN</td>\n",
              "      <td>NaN</td>\n",
              "      <td>NaN</td>\n",
              "      <td>3304557</td>\n",
              "      <td>Rio de Janeiro</td>\n",
              "      <td>33</td>\n",
              "      <td>RJ</td>\n",
              "      <td>0</td>\n",
              "      <td>0</td>\n",
              "      <td>0</td>\n",
              "      <td>0</td>\n",
              "      <td>2d22ac1d42e6187f09ee6c578df187a760123ccf</td>\n",
              "      <td>2d22ac1d42e6187f09ee6c578df187a760123ccf</td>\n",
              "      <td>2d22ac1d42e6187f09ee6c578df187a760123ccf</td>\n",
              "      <td>2d22ac1d42e6187f09ee6c578df187a760123ccf</td>\n",
              "      <td>NaN</td>\n",
              "      <td>NaN</td>\n",
              "      <td>NaN</td>\n",
              "      <td>NaN</td>\n",
              "      <td>NaN</td>\n",
              "      <td>NaN</td>\n",
              "      <td>NaN</td>\n",
              "      <td>NaN</td>\n",
              "      <td>0</td>\n",
              "      <td>NaN</td>\n",
              "      <td>NaN</td>\n",
              "      <td>NaN</td>\n",
              "      <td>NaN</td>\n",
              "      <td>NaN</td>\n",
              "      <td>NaN</td>\n",
              "      <td>NaN</td>\n",
              "      <td>NaN</td>\n",
              "      <td>NaN</td>\n",
              "      <td>NaN</td>\n",
              "      <td>NaN</td>\n",
              "      <td>H</td>\n",
              "      <td>E</td>\n",
              "      <td>D</td>\n",
              "      <td>B</td>\n",
              "      <td>4</td>\n",
              "      <td>E</td>\n",
              "      <td>A</td>\n",
              "      <td>C</td>\n",
              "      <td>C</td>\n",
              "      <td>C</td>\n",
              "      <td>A</td>\n",
              "      <td>B</td>\n",
              "      <td>B</td>\n",
              "      <td>B</td>\n",
              "      <td>A</td>\n",
              "      <td>B</td>\n",
              "      <td>A</td>\n",
              "      <td>B</td>\n",
              "      <td>C</td>\n",
              "      <td>A</td>\n",
              "      <td>B</td>\n",
              "      <td>D</td>\n",
              "      <td>B</td>\n",
              "      <td>C</td>\n",
              "      <td>B</td>\n",
              "      <td>C</td>\n",
              "      <td>F</td>\n",
              "      <td>C</td>\n",
              "      <td>2.0</td>\n",
              "      <td>0.0</td>\n",
              "      <td>5.0</td>\n",
              "      <td>5.0</td>\n",
              "      <td>5.0</td>\n",
              "      <td>5</td>\n",
              "      <td>5</td>\n",
              "      <td>5</td>\n",
              "      <td>5</td>\n",
              "      <td>2</td>\n",
              "      <td>5</td>\n",
              "      <td>5</td>\n",
              "      <td>5.0</td>\n",
              "      <td>C</td>\n",
              "      <td>A</td>\n",
              "      <td>A</td>\n",
              "      <td>A</td>\n",
              "      <td>A</td>\n",
              "      <td>D</td>\n",
              "      <td>A</td>\n",
              "      <td>A</td>\n",
              "      <td>A</td>\n",
              "    </tr>\n",
              "    <tr>\n",
              "      <th>4</th>\n",
              "      <td>bf896ac8d3ecadd6dba1dfbf50110afcbf5d3268</td>\n",
              "      <td>2016</td>\n",
              "      <td>1302603</td>\n",
              "      <td>Manaus</td>\n",
              "      <td>13</td>\n",
              "      <td>AM</td>\n",
              "      <td>28</td>\n",
              "      <td>M</td>\n",
              "      <td>0.0</td>\n",
              "      <td>2</td>\n",
              "      <td>1</td>\n",
              "      <td>1505304.0</td>\n",
              "      <td>Oriximiná</td>\n",
              "      <td>15.0</td>\n",
              "      <td>PA</td>\n",
              "      <td>1</td>\n",
              "      <td>4</td>\n",
              "      <td>1</td>\n",
              "      <td>NaN</td>\n",
              "      <td>0</td>\n",
              "      <td>NaN</td>\n",
              "      <td>NaN</td>\n",
              "      <td>NaN</td>\n",
              "      <td>NaN</td>\n",
              "      <td>NaN</td>\n",
              "      <td>NaN</td>\n",
              "      <td>NaN</td>\n",
              "      <td>NaN</td>\n",
              "      <td>0</td>\n",
              "      <td>0</td>\n",
              "      <td>0</td>\n",
              "      <td>0</td>\n",
              "      <td>0</td>\n",
              "      <td>0</td>\n",
              "      <td>0</td>\n",
              "      <td>0</td>\n",
              "      <td>0</td>\n",
              "      <td>0</td>\n",
              "      <td>0</td>\n",
              "      <td>0</td>\n",
              "      <td>0</td>\n",
              "      <td>0</td>\n",
              "      <td>0</td>\n",
              "      <td>0</td>\n",
              "      <td>0</td>\n",
              "      <td>0</td>\n",
              "      <td>0</td>\n",
              "      <td>0</td>\n",
              "      <td>0</td>\n",
              "      <td>0</td>\n",
              "      <td>0</td>\n",
              "      <td>0</td>\n",
              "      <td>0</td>\n",
              "      <td>0</td>\n",
              "      <td>0</td>\n",
              "      <td>0</td>\n",
              "      <td>0</td>\n",
              "      <td>0</td>\n",
              "      <td>0</td>\n",
              "      <td>0</td>\n",
              "      <td>0</td>\n",
              "      <td>0</td>\n",
              "      <td>0</td>\n",
              "      <td>0</td>\n",
              "      <td>0</td>\n",
              "      <td>0</td>\n",
              "      <td>0</td>\n",
              "      <td>0</td>\n",
              "      <td>0</td>\n",
              "      <td>0</td>\n",
              "      <td>0</td>\n",
              "      <td>0</td>\n",
              "      <td>0</td>\n",
              "      <td>0</td>\n",
              "      <td>0</td>\n",
              "      <td>0</td>\n",
              "      <td>0</td>\n",
              "      <td>0</td>\n",
              "      <td>0</td>\n",
              "      <td>0</td>\n",
              "      <td>0</td>\n",
              "      <td>NaN</td>\n",
              "      <td>NaN</td>\n",
              "      <td>NaN</td>\n",
              "      <td>1302603</td>\n",
              "      <td>Manaus</td>\n",
              "      <td>13</td>\n",
              "      <td>AM</td>\n",
              "      <td>0</td>\n",
              "      <td>0</td>\n",
              "      <td>0</td>\n",
              "      <td>0</td>\n",
              "      <td>2d22ac1d42e6187f09ee6c578df187a760123ccf</td>\n",
              "      <td>2d22ac1d42e6187f09ee6c578df187a760123ccf</td>\n",
              "      <td>2d22ac1d42e6187f09ee6c578df187a760123ccf</td>\n",
              "      <td>2d22ac1d42e6187f09ee6c578df187a760123ccf</td>\n",
              "      <td>NaN</td>\n",
              "      <td>NaN</td>\n",
              "      <td>NaN</td>\n",
              "      <td>NaN</td>\n",
              "      <td>NaN</td>\n",
              "      <td>NaN</td>\n",
              "      <td>NaN</td>\n",
              "      <td>NaN</td>\n",
              "      <td>1</td>\n",
              "      <td>NaN</td>\n",
              "      <td>NaN</td>\n",
              "      <td>NaN</td>\n",
              "      <td>NaN</td>\n",
              "      <td>NaN</td>\n",
              "      <td>NaN</td>\n",
              "      <td>NaN</td>\n",
              "      <td>NaN</td>\n",
              "      <td>NaN</td>\n",
              "      <td>NaN</td>\n",
              "      <td>NaN</td>\n",
              "      <td>E</td>\n",
              "      <td>D</td>\n",
              "      <td>C</td>\n",
              "      <td>C</td>\n",
              "      <td>4</td>\n",
              "      <td>C</td>\n",
              "      <td>A</td>\n",
              "      <td>B</td>\n",
              "      <td>C</td>\n",
              "      <td>A</td>\n",
              "      <td>A</td>\n",
              "      <td>B</td>\n",
              "      <td>A</td>\n",
              "      <td>B</td>\n",
              "      <td>A</td>\n",
              "      <td>A</td>\n",
              "      <td>A</td>\n",
              "      <td>A</td>\n",
              "      <td>B</td>\n",
              "      <td>A</td>\n",
              "      <td>A</td>\n",
              "      <td>B</td>\n",
              "      <td>A</td>\n",
              "      <td>A</td>\n",
              "      <td>A</td>\n",
              "      <td>B</td>\n",
              "      <td>F</td>\n",
              "      <td>D</td>\n",
              "      <td>5.0</td>\n",
              "      <td>4.0</td>\n",
              "      <td>3.0</td>\n",
              "      <td>5.0</td>\n",
              "      <td>4.0</td>\n",
              "      <td>5</td>\n",
              "      <td>5</td>\n",
              "      <td>4</td>\n",
              "      <td>3</td>\n",
              "      <td>1</td>\n",
              "      <td>4</td>\n",
              "      <td>5</td>\n",
              "      <td>NaN</td>\n",
              "      <td>A</td>\n",
              "      <td>A</td>\n",
              "      <td>A</td>\n",
              "      <td>A</td>\n",
              "      <td>A</td>\n",
              "      <td>A</td>\n",
              "      <td>A</td>\n",
              "      <td>A</td>\n",
              "      <td>A</td>\n",
              "    </tr>\n",
              "  </tbody>\n",
              "</table>\n",
              "</div>"
            ],
            "text/plain": [
              "                               NU_INSCRICAO  NU_ANO  CO_MUNICIPIO_RESIDENCIA  \\\n",
              "0  ed50e8aaa58e7a806c337585efee9ca41f1eb1ad    2016                  4314902   \n",
              "1  2c3acac4b33ec2b195d77e7c04a2d75727fad723    2016                  2304707   \n",
              "2  f4545f8ccb9ff5c8aad7d32951b3f251a26e6568    2016                  2304400   \n",
              "3  3d6ec248fef899c414e77f82d5c6d2bffbeaf7fe    2016                  3304557   \n",
              "4  bf896ac8d3ecadd6dba1dfbf50110afcbf5d3268    2016                  1302603   \n",
              "\n",
              "  NO_MUNICIPIO_RESIDENCIA  CO_UF_RESIDENCIA SG_UF_RESIDENCIA  NU_IDADE  \\\n",
              "0            Porto Alegre                43               RS        24   \n",
              "1                  Granja                23               CE        17   \n",
              "2               Fortaleza                23               CE        21   \n",
              "3          Rio de Janeiro                33               RJ        25   \n",
              "4                  Manaus                13               AM        28   \n",
              "\n",
              "  TP_SEXO  TP_ESTADO_CIVIL  TP_COR_RACA  TP_NACIONALIDADE  \\\n",
              "0       M              0.0            1                 1   \n",
              "1       F              0.0            3                 1   \n",
              "2       F              0.0            3                 1   \n",
              "3       F              0.0            0                 1   \n",
              "4       M              0.0            2                 1   \n",
              "\n",
              "   CO_MUNICIPIO_NASCIMENTO NO_MUNICIPIO_NASCIMENTO  CO_UF_NASCIMENTO  \\\n",
              "0                4314902.0            Porto Alegre              43.0   \n",
              "1                2304707.0                  Granja              23.0   \n",
              "2                2304400.0               Fortaleza              23.0   \n",
              "3                3304557.0          Rio de Janeiro              33.0   \n",
              "4                1505304.0               Oriximiná              15.0   \n",
              "\n",
              "  SG_UF_NASCIMENTO  TP_ST_CONCLUSAO  TP_ANO_CONCLUIU  TP_ESCOLA  TP_ENSINO  \\\n",
              "0               RS                1                4          1        NaN   \n",
              "1               CE                2                0          2        1.0   \n",
              "2               CE                3                0          1        NaN   \n",
              "3               RJ                1                9          1        NaN   \n",
              "4               PA                1                4          1        NaN   \n",
              "\n",
              "   IN_TREINEIRO   CO_ESCOLA  CO_MUNICIPIO_ESC NO_MUNICIPIO_ESC  CO_UF_ESC  \\\n",
              "0             0         NaN               NaN              NaN        NaN   \n",
              "1             0  23005157.0         2304707.0           Granja       23.0   \n",
              "2             0         NaN               NaN              NaN        NaN   \n",
              "3             0         NaN               NaN              NaN        NaN   \n",
              "4             0         NaN               NaN              NaN        NaN   \n",
              "\n",
              "  SG_UF_ESC  TP_DEPENDENCIA_ADM_ESC  TP_LOCALIZACAO_ESC  TP_SIT_FUNC_ESC  \\\n",
              "0       NaN                     NaN                 NaN              NaN   \n",
              "1        CE                     2.0                 1.0              1.0   \n",
              "2       NaN                     NaN                 NaN              NaN   \n",
              "3       NaN                     NaN                 NaN              NaN   \n",
              "4       NaN                     NaN                 NaN              NaN   \n",
              "\n",
              "   IN_BAIXA_VISAO  IN_CEGUEIRA  IN_SURDEZ  IN_DEFICIENCIA_AUDITIVA  \\\n",
              "0               0            0          0                        0   \n",
              "1               0            0          0                        0   \n",
              "2               0            0          0                        0   \n",
              "3               0            0          0                        0   \n",
              "4               0            0          0                        0   \n",
              "\n",
              "   IN_SURDO_CEGUEIRA  IN_DEFICIENCIA_FISICA  IN_DEFICIENCIA_MENTAL  \\\n",
              "0                  0                      0                      0   \n",
              "1                  0                      0                      0   \n",
              "2                  0                      0                      0   \n",
              "3                  0                      0                      0   \n",
              "4                  0                      0                      0   \n",
              "\n",
              "   IN_DEFICIT_ATENCAO  IN_DISLEXIA  IN_DISCALCULIA  IN_AUTISMO  \\\n",
              "0                   0            0               0           0   \n",
              "1                   0            0               0           0   \n",
              "2                   0            0               0           0   \n",
              "3                   0            0               0           0   \n",
              "4                   0            0               0           0   \n",
              "\n",
              "   IN_VISAO_MONOCULAR  IN_OUTRA_DEF  IN_SABATISTA  IN_GESTANTE  IN_LACTANTE  \\\n",
              "0                   0             0             0            0            0   \n",
              "1                   0             0             0            0            0   \n",
              "2                   0             0             0            0            0   \n",
              "3                   0             0             0            0            0   \n",
              "4                   0             0             0            0            0   \n",
              "\n",
              "   IN_IDOSO  IN_ESTUDA_CLASSE_HOSPITALAR  IN_SEM_RECURSO  IN_BRAILLE  \\\n",
              "0         0                            0               0           0   \n",
              "1         0                            0               0           0   \n",
              "2         0                            0               0           0   \n",
              "3         0                            0               0           0   \n",
              "4         0                            0               0           0   \n",
              "\n",
              "   IN_AMPLIADA_24  IN_AMPLIADA_18  IN_LEDOR  IN_ACESSO  IN_TRANSCRICAO  \\\n",
              "0               0               0         0          0               0   \n",
              "1               0               0         0          0               0   \n",
              "2               0               0         0          0               0   \n",
              "3               0               0         0          0               0   \n",
              "4               0               0         0          0               0   \n",
              "\n",
              "   IN_LIBRAS  IN_LEITURA_LABIAL  IN_MESA_CADEIRA_RODAS  \\\n",
              "0          0                  0                      0   \n",
              "1          0                  0                      0   \n",
              "2          0                  0                      0   \n",
              "3          0                  0                      0   \n",
              "4          0                  0                      0   \n",
              "\n",
              "   IN_MESA_CADEIRA_SEPARADA  IN_APOIO_PERNA  IN_GUIA_INTERPRETE  IN_MACA  \\\n",
              "0                         0               0                   0        0   \n",
              "1                         0               0                   0        0   \n",
              "2                         0               0                   0        0   \n",
              "3                         0               0                   0        0   \n",
              "4                         0               0                   0        0   \n",
              "\n",
              "   IN_COMPUTADOR  IN_CADEIRA_ESPECIAL  IN_CADEIRA_CANHOTO  \\\n",
              "0              0                    0                   0   \n",
              "1              0                    0                   0   \n",
              "2              0                    0                   0   \n",
              "3              0                    0                   0   \n",
              "4              0                    0                   0   \n",
              "\n",
              "   IN_CADEIRA_ACOLCHOADA  IN_PROVA_DEITADO  IN_MOBILIARIO_OBESO  \\\n",
              "0                      0                 0                    0   \n",
              "1                      0                 0                    0   \n",
              "2                      0                 0                    0   \n",
              "3                      0                 0                    0   \n",
              "4                      0                 0                    0   \n",
              "\n",
              "   IN_LAMINA_OVERLAY  IN_PROTETOR_AURICULAR  IN_MEDIDOR_GLICOSE  \\\n",
              "0                  0                      0                   0   \n",
              "1                  0                      0                   0   \n",
              "2                  0                      0                   0   \n",
              "3                  0                      0                   0   \n",
              "4                  0                      0                   0   \n",
              "\n",
              "   IN_MAQUINA_BRAILE  IN_SOROBAN  IN_MARCA_PASSO  IN_SONDA  IN_MEDICAMENTOS  \\\n",
              "0                  0           0               0         0                0   \n",
              "1                  0           0               0         0                0   \n",
              "2                  0           0               0         0                0   \n",
              "3                  0           0               0         0                0   \n",
              "4                  0           0               0         0                0   \n",
              "\n",
              "   IN_SALA_INDIVIDUAL  IN_SALA_ESPECIAL  IN_SALA_ACOMPANHANTE  \\\n",
              "0                   0                 0                     0   \n",
              "1                   0                 0                     0   \n",
              "2                   0                 0                     0   \n",
              "3                   0                 0                     0   \n",
              "4                   0                 0                     0   \n",
              "\n",
              "   IN_MOBILIARIO_ESPECIFICO  IN_MATERIAL_ESPECIFICO  IN_NOME_SOCIAL  \\\n",
              "0                         0                       0               0   \n",
              "1                         0                       0               0   \n",
              "2                         0                       0               0   \n",
              "3                         0                       0               0   \n",
              "4                         0                       0               0   \n",
              "\n",
              "   IN_CERTIFICADO NO_ENTIDADE_CERTIFICACAO  CO_UF_ENTIDADE_CERTIFICACAO  \\\n",
              "0               0                      NaN                          NaN   \n",
              "1               0                      NaN                          NaN   \n",
              "2               0                      NaN                          NaN   \n",
              "3               0                      NaN                          NaN   \n",
              "4               0                      NaN                          NaN   \n",
              "\n",
              "  SG_UF_ENTIDADE_CERTIFICACAO  CO_MUNICIPIO_PROVA NO_MUNICIPIO_PROVA  \\\n",
              "0                         NaN             4314902       Porto Alegre   \n",
              "1                         NaN             2304707             Granja   \n",
              "2                         NaN             2304400          Fortaleza   \n",
              "3                         NaN             3304557     Rio de Janeiro   \n",
              "4                         NaN             1302603             Manaus   \n",
              "\n",
              "   CO_UF_PROVA SG_UF_PROVA  TP_PRESENCA_CN  TP_PRESENCA_CH  TP_PRESENCA_LC  \\\n",
              "0           43          RS               1               1               1   \n",
              "1           23          CE               1               1               1   \n",
              "2           23          CE               0               0               0   \n",
              "3           33          RJ               0               0               0   \n",
              "4           13          AM               0               0               0   \n",
              "\n",
              "   TP_PRESENCA_MT                               CO_PROVA_CN  \\\n",
              "0               1  16f84b7b3d2aeaff7d2f01297e6b3d0e25c77bb2   \n",
              "1               1  b9b06ce8c319a3df2158ea3d0aef0f7d3eecaed7   \n",
              "2               0  2d22ac1d42e6187f09ee6c578df187a760123ccf   \n",
              "3               0  2d22ac1d42e6187f09ee6c578df187a760123ccf   \n",
              "4               0  2d22ac1d42e6187f09ee6c578df187a760123ccf   \n",
              "\n",
              "                                CO_PROVA_CH  \\\n",
              "0  9cd70f1b922e02bd33453b3f607f5a644fb9b1b8   \n",
              "1  909237ab0d84688e10c0470e2997348aff585273   \n",
              "2  2d22ac1d42e6187f09ee6c578df187a760123ccf   \n",
              "3  2d22ac1d42e6187f09ee6c578df187a760123ccf   \n",
              "4  2d22ac1d42e6187f09ee6c578df187a760123ccf   \n",
              "\n",
              "                                CO_PROVA_LC  \\\n",
              "0  01af53cd161a420fff1767129c10de560cc264dd   \n",
              "1  01af53cd161a420fff1767129c10de560cc264dd   \n",
              "2  2d22ac1d42e6187f09ee6c578df187a760123ccf   \n",
              "3  2d22ac1d42e6187f09ee6c578df187a760123ccf   \n",
              "4  2d22ac1d42e6187f09ee6c578df187a760123ccf   \n",
              "\n",
              "                                CO_PROVA_MT  NU_NOTA_CN  NU_NOTA_CH  \\\n",
              "0  97caab1e1533dba217deb7ef41490f52e459ab01       436.3       495.4   \n",
              "1  97caab1e1533dba217deb7ef41490f52e459ab01       474.5       544.1   \n",
              "2  2d22ac1d42e6187f09ee6c578df187a760123ccf         NaN         NaN   \n",
              "3  2d22ac1d42e6187f09ee6c578df187a760123ccf         NaN         NaN   \n",
              "4  2d22ac1d42e6187f09ee6c578df187a760123ccf         NaN         NaN   \n",
              "\n",
              "   NU_NOTA_LC  NU_NOTA_MT                                TX_RESPOSTAS_CN  \\\n",
              "0       581.2       399.4  ABACCABDBEDEDEEDDDBBBDAABABECDCCCAAABCBEEABCA   \n",
              "1       599.0       459.8  EDAAABDABADBCCAEDCDDECABADBEECBBAEEDCABCAABBC   \n",
              "2         NaN         NaN                                            NaN   \n",
              "3         NaN         NaN                                            NaN   \n",
              "4         NaN         NaN                                            NaN   \n",
              "\n",
              "                                 TX_RESPOSTAS_CH  \\\n",
              "0  BBEBCAEBCEDBDDEBCACDBCBDABDDCDBEDCEAEABCAADAC   \n",
              "1  ADCAABAADCEDAACDACEEDACBDCBACEDEDBACAADADABDC   \n",
              "2                                            NaN   \n",
              "3                                            NaN   \n",
              "4                                            NaN   \n",
              "\n",
              "                                     TX_RESPOSTAS_LC  \\\n",
              "0  99999DCABCABCBBCADBCBBABAEADBEEBEDAAABAEAECCBB...   \n",
              "1  99999ACBACDBDBCEADDAEEADCCEACEEDBECAAAACBECDAC...   \n",
              "2                                                NaN   \n",
              "3                                                NaN   \n",
              "4                                                NaN   \n",
              "\n",
              "                                 TX_RESPOSTAS_MT  TP_LINGUA  \\\n",
              "0  AECCCBABDCADDBCBCCADADBBAADEBCEEBABCDDEAABCAA          1   \n",
              "1  AEDACBDECEDAEEAEDDEBDECDCECACADCACACAABDACEAB          1   \n",
              "2                                            NaN          1   \n",
              "3                                            NaN          0   \n",
              "4                                            NaN          1   \n",
              "\n",
              "                                  TX_GABARITO_CN  \\\n",
              "0  BCADBCEDCCBADBDCADBEBDBEADCCAEACDBEDBCACAEBEE   \n",
              "1  EBEECADBCABECDDBEADCCABDEABEBCADBADDCCCEDBBCA   \n",
              "2                                            NaN   \n",
              "3                                            NaN   \n",
              "4                                            NaN   \n",
              "\n",
              "                                  TX_GABARITO_CH  \\\n",
              "0  BCBCCADCCBEDDBEEADBDCECCBBECAEEDDADCDDACAADBA   \n",
              "1  DCECBAAADCBBECAEDCEDDACCBDDACEDDBADBCADBCBCEE   \n",
              "2                                            NaN   \n",
              "3                                            NaN   \n",
              "4                                            NaN   \n",
              "\n",
              "                                      TX_GABARITO_LC  \\\n",
              "0  CEDEACCBEBDBABECABDADEADCEDCBEBBCEBAAEBAAECBBC...   \n",
              "1  CEDEACCBEBDBABECABDADEADCEDCBEBBCEBAAEBAAECBBC...   \n",
              "2                                                NaN   \n",
              "3                                                NaN   \n",
              "4                                                NaN   \n",
              "\n",
              "                                  TX_GABARITO_MT  TP_STATUS_REDACAO  \\\n",
              "0  DADCCECBDECADCBACDBCEEABDDAABDBCEADDBECEBAEBC                1.0   \n",
              "1  DADCCECBDECADCBACDBCEEABDDAABDBCEADDBECEBAEBC                1.0   \n",
              "2                                            NaN                NaN   \n",
              "3                                            NaN                NaN   \n",
              "4                                            NaN                NaN   \n",
              "\n",
              "   NU_NOTA_COMP1  NU_NOTA_COMP2  NU_NOTA_COMP3  NU_NOTA_COMP4  NU_NOTA_COMP5  \\\n",
              "0          120.0          120.0          120.0           80.0           80.0   \n",
              "1          140.0          120.0          120.0          120.0           80.0   \n",
              "2            NaN            NaN            NaN            NaN            NaN   \n",
              "3            NaN            NaN            NaN            NaN            NaN   \n",
              "4            NaN            NaN            NaN            NaN            NaN   \n",
              "\n",
              "   NU_NOTA_REDACAO Q001 Q002 Q003 Q004  Q005 Q006 Q007 Q008 Q009 Q010 Q011  \\\n",
              "0            520.0    D    D    B    B     3    C    A    B    B    B    A   \n",
              "1            580.0    A    A    A    A     5    B    A    B    B    A    A   \n",
              "2              NaN    D    D    B    B     4    C    A    B    C    A    A   \n",
              "3              NaN    H    E    D    B     4    E    A    C    C    C    A   \n",
              "4              NaN    E    D    C    C     4    C    A    B    C    A    A   \n",
              "\n",
              "  Q012 Q013 Q014 Q015 Q016 Q017 Q018 Q019 Q020 Q021 Q022 Q023 Q024 Q025 Q026  \\\n",
              "0    B    A    A    A    A    A    A    B    A    A    C    A    A    A    C   \n",
              "1    B    A    A    A    A    A    A    B    A    A    A    A    A    A    A   \n",
              "2    B    A    A    A    A    A    A    B    A    A    B    A    A    A    A   \n",
              "3    B    B    B    A    B    A    B    C    A    B    D    B    C    B    C   \n",
              "4    B    A    B    A    A    A    A    B    A    A    B    A    A    A    B   \n",
              "\n",
              "  Q027 Q028  Q029  Q030  Q031  Q032  Q033  Q034  Q035  Q036  Q037  Q038  Q039  \\\n",
              "0    H    E   5.0   5.0   1.0   0.0   0.0     5     5     0     5     5     5   \n",
              "1  NaN  NaN   NaN   NaN   NaN   NaN   NaN     5     5     1     1     1     1   \n",
              "2  NaN  NaN   NaN   NaN   NaN   NaN   NaN     5     5     5     5     5     5   \n",
              "3    F    C   2.0   0.0   5.0   5.0   5.0     5     5     5     5     2     5   \n",
              "4    F    D   5.0   4.0   3.0   5.0   4.0     5     5     4     3     1     4   \n",
              "\n",
              "   Q040  Q041 Q042 Q043 Q044 Q045 Q046 Q047 Q048 Q049 Q050  \n",
              "0     5   5.0    A    A    A    A    A    A    A    B    D  \n",
              "1     1   NaN    A    A    C    A    B    A    A    C    A  \n",
              "2     5   NaN    A    A    A    A    C    A    A    B    A  \n",
              "3     5   5.0    C    A    A    A    A    D    A    A    A  \n",
              "4     5   NaN    A    A    A    A    A    A    A    A    A  "
            ]
          },
          "metadata": {
            "tags": []
          },
          "execution_count": 106
        }
      ]
    },
    {
      "cell_type": "code",
      "metadata": {
        "id": "um5B8trLoODp",
        "colab_type": "code",
        "outputId": "eb9ce56e-47a1-4aa8-d4a7-09531007dd65",
        "colab": {
          "base_uri": "https://localhost:8080/",
          "height": 34
        }
      },
      "source": [
        "base.shape"
      ],
      "execution_count": 0,
      "outputs": [
        {
          "output_type": "execute_result",
          "data": {
            "text/plain": [
              "(13730, 166)"
            ]
          },
          "metadata": {
            "tags": []
          },
          "execution_count": 107
        }
      ]
    },
    {
      "cell_type": "markdown",
      "metadata": {
        "id": "csw-1X06pLJ3",
        "colab_type": "text"
      },
      "source": [
        "Como podemos ver temos um dataset extenso com 166 colunas, para agilizar nosso entendimento vamos selecionar apenas aquelas que nos interessam.se você desejar, vou deixar disponível na área de arquivos o dicionário de todas essas colunas para você entender quais podem interessar para a sua análise ."
      ]
    },
    {
      "cell_type": "code",
      "metadata": {
        "id": "tw9-RG7hpXwi",
        "colab_type": "code",
        "colab": {}
      },
      "source": [
        "atributos_selecionados = ['NU_IDADE','TP_ST_CONCLUSAO','TP_SEXO','TP_DEPENDENCIA_ADM_ESC','SG_UF_PROVA','TP_PRESENCA_CN','TP_PRESENCA_CH','TP_PRESENCA_LC','TP_PRESENCA_MT','NU_NOTA_MT','NU_NOTA_CH','NU_NOTA_LC','NU_NOTA_CN','NU_NOTA_REDACAO','TP_ESTADO_CIVIL','NU_NOTA_COMP1','NU_NOTA_COMP2','NU_NOTA_COMP3','NU_NOTA_COMP4','NU_NOTA_COMP5','Q026']"
      ],
      "execution_count": 0,
      "outputs": []
    },
    {
      "cell_type": "code",
      "metadata": {
        "id": "TzTa-8uVtJrF",
        "colab_type": "code",
        "outputId": "77a676e1-e885-4f7c-9061-657e25ab3c9b",
        "colab": {
          "base_uri": "https://localhost:8080/",
          "height": 374
        }
      },
      "source": [
        "atributos_selecionados\n"
      ],
      "execution_count": 0,
      "outputs": [
        {
          "output_type": "execute_result",
          "data": {
            "text/plain": [
              "['NU_IDADE',\n",
              " 'TP_ST_CONCLUSAO',\n",
              " 'TP_SEXO',\n",
              " 'TP_DEPENDENCIA_ADM_ESC',\n",
              " 'SG_UF_PROVA',\n",
              " 'TP_PRESENCA_CN',\n",
              " 'TP_PRESENCA_CH',\n",
              " 'TP_PRESENCA_LC',\n",
              " 'TP_PRESENCA_MT',\n",
              " 'NU_NOTA_MT',\n",
              " 'NU_NOTA_CH',\n",
              " 'NU_NOTA_LC',\n",
              " 'NU_NOTA_CN',\n",
              " 'NU_NOTA_REDACAO',\n",
              " 'TP_ESTADO_CIVIL',\n",
              " 'NU_NOTA_COMP1',\n",
              " 'NU_NOTA_COMP2',\n",
              " 'NU_NOTA_COMP3',\n",
              " 'NU_NOTA_COMP4',\n",
              " 'NU_NOTA_COMP5',\n",
              " 'Q026']"
            ]
          },
          "metadata": {
            "tags": []
          },
          "execution_count": 109
        }
      ]
    },
    {
      "cell_type": "code",
      "metadata": {
        "id": "b0HfGKKhtL29",
        "colab_type": "code",
        "colab": {}
      },
      "source": [
        "base = base[atributos_selecionados]"
      ],
      "execution_count": 0,
      "outputs": []
    },
    {
      "cell_type": "code",
      "metadata": {
        "id": "4hw-dTjCtUt4",
        "colab_type": "code",
        "outputId": "ce6b35a8-373a-489e-b32a-19c5450ce1a6",
        "colab": {
          "base_uri": "https://localhost:8080/",
          "height": 224
        }
      },
      "source": [
        "base.head()"
      ],
      "execution_count": 0,
      "outputs": [
        {
          "output_type": "execute_result",
          "data": {
            "text/html": [
              "<div>\n",
              "<style scoped>\n",
              "    .dataframe tbody tr th:only-of-type {\n",
              "        vertical-align: middle;\n",
              "    }\n",
              "\n",
              "    .dataframe tbody tr th {\n",
              "        vertical-align: top;\n",
              "    }\n",
              "\n",
              "    .dataframe thead th {\n",
              "        text-align: right;\n",
              "    }\n",
              "</style>\n",
              "<table border=\"1\" class=\"dataframe\">\n",
              "  <thead>\n",
              "    <tr style=\"text-align: right;\">\n",
              "      <th></th>\n",
              "      <th>NU_IDADE</th>\n",
              "      <th>TP_ST_CONCLUSAO</th>\n",
              "      <th>TP_SEXO</th>\n",
              "      <th>TP_DEPENDENCIA_ADM_ESC</th>\n",
              "      <th>SG_UF_PROVA</th>\n",
              "      <th>TP_PRESENCA_CN</th>\n",
              "      <th>TP_PRESENCA_CH</th>\n",
              "      <th>TP_PRESENCA_LC</th>\n",
              "      <th>TP_PRESENCA_MT</th>\n",
              "      <th>NU_NOTA_MT</th>\n",
              "      <th>NU_NOTA_CH</th>\n",
              "      <th>NU_NOTA_LC</th>\n",
              "      <th>NU_NOTA_CN</th>\n",
              "      <th>NU_NOTA_REDACAO</th>\n",
              "      <th>TP_ESTADO_CIVIL</th>\n",
              "      <th>NU_NOTA_COMP1</th>\n",
              "      <th>NU_NOTA_COMP2</th>\n",
              "      <th>NU_NOTA_COMP3</th>\n",
              "      <th>NU_NOTA_COMP4</th>\n",
              "      <th>NU_NOTA_COMP5</th>\n",
              "      <th>Q026</th>\n",
              "    </tr>\n",
              "  </thead>\n",
              "  <tbody>\n",
              "    <tr>\n",
              "      <th>0</th>\n",
              "      <td>24</td>\n",
              "      <td>1</td>\n",
              "      <td>M</td>\n",
              "      <td>NaN</td>\n",
              "      <td>RS</td>\n",
              "      <td>1</td>\n",
              "      <td>1</td>\n",
              "      <td>1</td>\n",
              "      <td>1</td>\n",
              "      <td>399.4</td>\n",
              "      <td>495.4</td>\n",
              "      <td>581.2</td>\n",
              "      <td>436.3</td>\n",
              "      <td>520.0</td>\n",
              "      <td>0.0</td>\n",
              "      <td>120.0</td>\n",
              "      <td>120.0</td>\n",
              "      <td>120.0</td>\n",
              "      <td>80.0</td>\n",
              "      <td>80.0</td>\n",
              "      <td>C</td>\n",
              "    </tr>\n",
              "    <tr>\n",
              "      <th>1</th>\n",
              "      <td>17</td>\n",
              "      <td>2</td>\n",
              "      <td>F</td>\n",
              "      <td>2.0</td>\n",
              "      <td>CE</td>\n",
              "      <td>1</td>\n",
              "      <td>1</td>\n",
              "      <td>1</td>\n",
              "      <td>1</td>\n",
              "      <td>459.8</td>\n",
              "      <td>544.1</td>\n",
              "      <td>599.0</td>\n",
              "      <td>474.5</td>\n",
              "      <td>580.0</td>\n",
              "      <td>0.0</td>\n",
              "      <td>140.0</td>\n",
              "      <td>120.0</td>\n",
              "      <td>120.0</td>\n",
              "      <td>120.0</td>\n",
              "      <td>80.0</td>\n",
              "      <td>A</td>\n",
              "    </tr>\n",
              "    <tr>\n",
              "      <th>2</th>\n",
              "      <td>21</td>\n",
              "      <td>3</td>\n",
              "      <td>F</td>\n",
              "      <td>NaN</td>\n",
              "      <td>CE</td>\n",
              "      <td>0</td>\n",
              "      <td>0</td>\n",
              "      <td>0</td>\n",
              "      <td>0</td>\n",
              "      <td>NaN</td>\n",
              "      <td>NaN</td>\n",
              "      <td>NaN</td>\n",
              "      <td>NaN</td>\n",
              "      <td>NaN</td>\n",
              "      <td>0.0</td>\n",
              "      <td>NaN</td>\n",
              "      <td>NaN</td>\n",
              "      <td>NaN</td>\n",
              "      <td>NaN</td>\n",
              "      <td>NaN</td>\n",
              "      <td>A</td>\n",
              "    </tr>\n",
              "    <tr>\n",
              "      <th>3</th>\n",
              "      <td>25</td>\n",
              "      <td>1</td>\n",
              "      <td>F</td>\n",
              "      <td>NaN</td>\n",
              "      <td>RJ</td>\n",
              "      <td>0</td>\n",
              "      <td>0</td>\n",
              "      <td>0</td>\n",
              "      <td>0</td>\n",
              "      <td>NaN</td>\n",
              "      <td>NaN</td>\n",
              "      <td>NaN</td>\n",
              "      <td>NaN</td>\n",
              "      <td>NaN</td>\n",
              "      <td>0.0</td>\n",
              "      <td>NaN</td>\n",
              "      <td>NaN</td>\n",
              "      <td>NaN</td>\n",
              "      <td>NaN</td>\n",
              "      <td>NaN</td>\n",
              "      <td>C</td>\n",
              "    </tr>\n",
              "    <tr>\n",
              "      <th>4</th>\n",
              "      <td>28</td>\n",
              "      <td>1</td>\n",
              "      <td>M</td>\n",
              "      <td>NaN</td>\n",
              "      <td>AM</td>\n",
              "      <td>0</td>\n",
              "      <td>0</td>\n",
              "      <td>0</td>\n",
              "      <td>0</td>\n",
              "      <td>NaN</td>\n",
              "      <td>NaN</td>\n",
              "      <td>NaN</td>\n",
              "      <td>NaN</td>\n",
              "      <td>NaN</td>\n",
              "      <td>0.0</td>\n",
              "      <td>NaN</td>\n",
              "      <td>NaN</td>\n",
              "      <td>NaN</td>\n",
              "      <td>NaN</td>\n",
              "      <td>NaN</td>\n",
              "      <td>B</td>\n",
              "    </tr>\n",
              "  </tbody>\n",
              "</table>\n",
              "</div>"
            ],
            "text/plain": [
              "   NU_IDADE  TP_ST_CONCLUSAO TP_SEXO  TP_DEPENDENCIA_ADM_ESC SG_UF_PROVA  \\\n",
              "0        24                1       M                     NaN          RS   \n",
              "1        17                2       F                     2.0          CE   \n",
              "2        21                3       F                     NaN          CE   \n",
              "3        25                1       F                     NaN          RJ   \n",
              "4        28                1       M                     NaN          AM   \n",
              "\n",
              "   TP_PRESENCA_CN  TP_PRESENCA_CH  TP_PRESENCA_LC  TP_PRESENCA_MT  NU_NOTA_MT  \\\n",
              "0               1               1               1               1       399.4   \n",
              "1               1               1               1               1       459.8   \n",
              "2               0               0               0               0         NaN   \n",
              "3               0               0               0               0         NaN   \n",
              "4               0               0               0               0         NaN   \n",
              "\n",
              "   NU_NOTA_CH  NU_NOTA_LC  NU_NOTA_CN  NU_NOTA_REDACAO  TP_ESTADO_CIVIL  \\\n",
              "0       495.4       581.2       436.3            520.0              0.0   \n",
              "1       544.1       599.0       474.5            580.0              0.0   \n",
              "2         NaN         NaN         NaN              NaN              0.0   \n",
              "3         NaN         NaN         NaN              NaN              0.0   \n",
              "4         NaN         NaN         NaN              NaN              0.0   \n",
              "\n",
              "   NU_NOTA_COMP1  NU_NOTA_COMP2  NU_NOTA_COMP3  NU_NOTA_COMP4  NU_NOTA_COMP5  \\\n",
              "0          120.0          120.0          120.0           80.0           80.0   \n",
              "1          140.0          120.0          120.0          120.0           80.0   \n",
              "2            NaN            NaN            NaN            NaN            NaN   \n",
              "3            NaN            NaN            NaN            NaN            NaN   \n",
              "4            NaN            NaN            NaN            NaN            NaN   \n",
              "\n",
              "  Q026  \n",
              "0    C  \n",
              "1    A  \n",
              "2    A  \n",
              "3    C  \n",
              "4    B  "
            ]
          },
          "metadata": {
            "tags": []
          },
          "execution_count": 113
        }
      ]
    },
    {
      "cell_type": "markdown",
      "metadata": {
        "id": "vD3V8tCRthKj",
        "colab_type": "text"
      },
      "source": [
        "Descrevendo os atributos selecionados:\n",
        "<ul>\n",
        "  <li>NU_IDADE : Idade do candidato.</li> \n",
        "  <li>TP_ST_CONCLUSAO:Indica se o candidato está no terceiro ano do ensino médio,se ele já terminou o ensino médio, ou se vai terminá-lo após a prova do enem de 2016.</li>\n",
        "  <li>TP_SEXO:Sexo do candidato.</li>\n",
        "  <li>TP_DEPENDENCIA_ADM_ESC: Indica se a escola que o aluno estudou o ensino médio é Federal, Estadual,Municipal ou Privada.\n",
        "  <li>SG_UF_PROVA: UF do Estado onde o candidato realizou a prova.\n",
        "  <li>TP_PRESENCA: Indica se o candidato compareceu, faltou ou teve a prova eliminada em cada uma das disciplinas cobradas no enem: Ciências Naturais(CN), Ciências Humanas(CH), Códigos e Linguagens(LC) e Matématica(MT).</li>\n",
        "  <li>NU_NOTA: Indica a nota do candidato nas disciplinas cobradas. A NU_NOTA_COMP é uma nota avaliada em 5 aspectos que formam a nota final da redação daquele candidato.</li>\n",
        "  <li>TP_ESTADO_CIVIL: Indica se o candidato é solteiro,casado,divorciado ou viúvo.\n",
        "  <li>Q026: Indica se o candidato nunca trabalhou, se já trabalhou mas está desempregado ou se trabalha atualmente.\n"
      ]
    },
    {
      "cell_type": "markdown",
      "metadata": {
        "id": "nYVBpA0gxi11",
        "colab_type": "text"
      },
      "source": [
        "Agora que selecionamos os dados que nos interessam vamos fazer alguns pequenos tratamentos. Para começar vamos ver qual a quantidade de dados faltantes em cada atributo do nosso dataset."
      ]
    },
    {
      "cell_type": "code",
      "metadata": {
        "id": "P05r3QtsxpEN",
        "colab_type": "code",
        "outputId": "9416de3f-c181-4364-840b-6cb414b65697",
        "colab": {
          "base_uri": "https://localhost:8080/",
          "height": 391
        }
      },
      "source": [
        "base.isnull().sum()"
      ],
      "execution_count": 0,
      "outputs": [
        {
          "output_type": "execute_result",
          "data": {
            "text/plain": [
              "NU_IDADE                     0\n",
              "TP_ST_CONCLUSAO              0\n",
              "TP_SEXO                      0\n",
              "TP_DEPENDENCIA_ADM_ESC    9448\n",
              "SG_UF_PROVA                  0\n",
              "TP_PRESENCA_CN               0\n",
              "TP_PRESENCA_CH               0\n",
              "TP_PRESENCA_LC               0\n",
              "TP_PRESENCA_MT               0\n",
              "NU_NOTA_MT                3597\n",
              "NU_NOTA_CH                3389\n",
              "NU_NOTA_LC                3597\n",
              "NU_NOTA_CN                3389\n",
              "NU_NOTA_REDACAO           3597\n",
              "TP_ESTADO_CIVIL            528\n",
              "NU_NOTA_COMP1             3597\n",
              "NU_NOTA_COMP2             3597\n",
              "NU_NOTA_COMP3             3597\n",
              "NU_NOTA_COMP4             3597\n",
              "NU_NOTA_COMP5             3597\n",
              "Q026                         0\n",
              "dtype: int64"
            ]
          },
          "metadata": {
            "tags": []
          },
          "execution_count": 114
        }
      ]
    },
    {
      "cell_type": "markdown",
      "metadata": {
        "id": "uLpm0fLDzII4",
        "colab_type": "text"
      },
      "source": [
        "Temos muitos valores faltantes.Muitos desses valores são as notas do candidato,as quais são extramamente importantes para nossa análise.\n",
        "Para nos ajudar, vamos usar o nosso atributo TP_PRESENCA. Se TP_PRESENCA for igual a 0 significa que o candidato faltou a prova, se for igual 1, ele compareceu e se igual a 2 ele teve a prova eliminada. Se o aluno faltou ou teve a prova eliminada, ele terá a nota das suas provas zerada e podemos seguramente eliminar os dados desses candidatos do nosso dataset. "
      ]
    },
    {
      "cell_type": "code",
      "metadata": {
        "id": "7q0ruM0a0xs1",
        "colab_type": "code",
        "colab": {}
      },
      "source": [
        "indices = base.index[(base.TP_PRESENCA_LC != 1) | (base.TP_PRESENCA_MT != 1)  | (base.TP_PRESENCA_CH != 1)  | (base.TP_PRESENCA_CN != 1) ]"
      ],
      "execution_count": 0,
      "outputs": []
    },
    {
      "cell_type": "code",
      "metadata": {
        "id": "r6G3VoFc3YDR",
        "colab_type": "code",
        "colab": {}
      },
      "source": [
        "base.drop(base.index[indices], axis=0, inplace=True)"
      ],
      "execution_count": 0,
      "outputs": []
    },
    {
      "cell_type": "code",
      "metadata": {
        "id": "u9lGlStJ3b2v",
        "colab_type": "code",
        "outputId": "13e95e13-83d2-4413-9578-ec754beb19b3",
        "colab": {
          "base_uri": "https://localhost:8080/",
          "height": 391
        }
      },
      "source": [
        "base.isnull().sum()"
      ],
      "execution_count": 0,
      "outputs": [
        {
          "output_type": "execute_result",
          "data": {
            "text/plain": [
              "NU_IDADE                     0\n",
              "TP_ST_CONCLUSAO              0\n",
              "TP_SEXO                      0\n",
              "TP_DEPENDENCIA_ADM_ESC    6469\n",
              "SG_UF_PROVA                  0\n",
              "TP_PRESENCA_CN               0\n",
              "TP_PRESENCA_CH               0\n",
              "TP_PRESENCA_LC               0\n",
              "TP_PRESENCA_MT               0\n",
              "NU_NOTA_MT                   0\n",
              "NU_NOTA_CH                   0\n",
              "NU_NOTA_LC                   0\n",
              "NU_NOTA_CN                   0\n",
              "NU_NOTA_REDACAO              0\n",
              "TP_ESTADO_CIVIL            316\n",
              "NU_NOTA_COMP1                0\n",
              "NU_NOTA_COMP2                0\n",
              "NU_NOTA_COMP3                0\n",
              "NU_NOTA_COMP4                0\n",
              "NU_NOTA_COMP5                0\n",
              "Q026                         0\n",
              "dtype: int64"
            ]
          },
          "metadata": {
            "tags": []
          },
          "execution_count": 119
        }
      ]
    },
    {
      "cell_type": "markdown",
      "metadata": {
        "id": "QNlw-6X83jo2",
        "colab_type": "text"
      },
      "source": [
        "Para o nosso alívio, assim que tiramos os candidatos que faltaram e que foram eliminados da prova, conseguimos retirar todos os dados faltantes nas notas no nosso dataset.\n",
        "Para tratar agora os dados faltantes no TP_ESTADO_CIVIL vamos utilizar o sexo e a idade dos nosso candidatos.\n",
        "o código do TP_ESTADO_CIVIL é o seguinte:\n",
        "0: Solteiro,\n",
        "1: Casado,\n",
        "2: Divorciado,\n",
        "3: Viúvo."
      ]
    },
    {
      "cell_type": "code",
      "metadata": {
        "id": "1cYqH8dx4fS_",
        "colab_type": "code",
        "outputId": "f2b84799-369d-4c53-bc19-f882a3734917",
        "colab": {
          "base_uri": "https://localhost:8080/",
          "height": 187
        }
      },
      "source": [
        "base.groupby(['TP_ESTADO_CIVIL','TP_SEXO'])['NU_IDADE'].mean()"
      ],
      "execution_count": 0,
      "outputs": [
        {
          "output_type": "execute_result",
          "data": {
            "text/plain": [
              "TP_ESTADO_CIVIL  TP_SEXO\n",
              "0.0              F          19.429419\n",
              "                 M          19.577022\n",
              "1.0              F          30.705036\n",
              "                 M          33.855204\n",
              "2.0              F          37.115385\n",
              "                 M          36.391304\n",
              "3.0              F          42.571429\n",
              "                 M          39.000000\n",
              "Name: NU_IDADE, dtype: float64"
            ]
          },
          "metadata": {
            "tags": []
          },
          "execution_count": 120
        }
      ]
    },
    {
      "cell_type": "markdown",
      "metadata": {
        "id": "fa5M7jDw4sxl",
        "colab_type": "text"
      },
      "source": [
        "Acima,temos a média da idade por sexo e por estado civil.Vemos que uma mulher solteira com uma média de 30 anos tende a ser casada no nosso dataset, assim como um homem de 37 anos tende a ser viúvo no nosso dataset. Vamos usar essa lógica para preencher nossos dados faltantes de TP_ESTADO_CIVIL."
      ]
    },
    {
      "cell_type": "code",
      "metadata": {
        "id": "sAMw0Gt_50n6",
        "colab_type": "code",
        "colab": {}
      },
      "source": [
        "def preenche_estado_civil(estadocivil_sexo_idade):\n",
        "    estado_civil = estadocivil_sexo_idade[0]\n",
        "    sexo = estadocivil_sexo_idade[1]\n",
        "    idade = estadocivil_sexo_idade[2]\n",
        "    if pd.isnull(estado_civil):\n",
        "        if sexo == 'F':\n",
        "            if idade < 30:\n",
        "                return 0\n",
        "            elif 30 <idade < 37:\n",
        "                return 1\n",
        "            elif 37 < idade < 42:\n",
        "                return 2\n",
        "            else:\n",
        "                return 3\n",
        "        else:\n",
        "            if idade < 30:\n",
        "                return 0\n",
        "            elif 30 < idade < 33:\n",
        "                return 1 \n",
        "            elif 33 < idade < 39:\n",
        "                return 2\n",
        "            else:\n",
        "                return 3\n",
        "    else:\n",
        "        return estado_civil"
      ],
      "execution_count": 0,
      "outputs": []
    },
    {
      "cell_type": "code",
      "metadata": {
        "id": "7oBM8Z6-_7dL",
        "colab_type": "code",
        "colab": {}
      },
      "source": [
        "base['TP_ESTADO_CIVIL'] = base[['TP_ESTADO_CIVIL','TP_SEXO','NU_IDADE']].apply(preenche_estado_civil, axis=1)"
      ],
      "execution_count": 0,
      "outputs": []
    },
    {
      "cell_type": "markdown",
      "metadata": {
        "id": "d9v3OF5YAvZ5",
        "colab_type": "text"
      },
      "source": [
        "No código acima criamos uma função que avalia a idade e o sexo do candidato e aplica um valor condizente com a nossa lógica ao seu estado civil se este for nulo. depois aplicamos essa função a cada linha do nosso dataset."
      ]
    },
    {
      "cell_type": "code",
      "metadata": {
        "id": "DGByOWN3BM7o",
        "colab_type": "code",
        "outputId": "fd2a0d61-aa91-46a3-a145-ab6118bdd21a",
        "colab": {
          "base_uri": "https://localhost:8080/",
          "height": 391
        }
      },
      "source": [
        "base.isnull().sum()"
      ],
      "execution_count": 0,
      "outputs": [
        {
          "output_type": "execute_result",
          "data": {
            "text/plain": [
              "NU_IDADE                     0\n",
              "TP_ST_CONCLUSAO              0\n",
              "TP_SEXO                      0\n",
              "TP_DEPENDENCIA_ADM_ESC    2836\n",
              "SG_UF_PROVA                  0\n",
              "TP_PRESENCA_CN               0\n",
              "TP_PRESENCA_CH               0\n",
              "TP_PRESENCA_LC               0\n",
              "TP_PRESENCA_MT               0\n",
              "NU_NOTA_MT                   0\n",
              "NU_NOTA_CH                   0\n",
              "NU_NOTA_LC                   0\n",
              "NU_NOTA_CN                   0\n",
              "NU_NOTA_REDACAO              0\n",
              "TP_ESTADO_CIVIL              0\n",
              "NU_NOTA_COMP1                0\n",
              "NU_NOTA_COMP2                0\n",
              "NU_NOTA_COMP3                0\n",
              "NU_NOTA_COMP4                0\n",
              "NU_NOTA_COMP5                0\n",
              "Q026                         0\n",
              "dtype: int64"
            ]
          },
          "metadata": {
            "tags": []
          },
          "execution_count": 20
        }
      ]
    },
    {
      "cell_type": "markdown",
      "metadata": {
        "id": "C03dBt_9Bz20",
        "colab_type": "text"
      },
      "source": [
        "Não temos mais dados faltantes no nosso TP_ESTADO_CIVIL.\n",
        "Para finalizar vamos tratar o TP_DEPENDENCIA_ADM_ESC.Esse é um atributo bem mais difícil de entender qual lógica usar no preenchimento.Uma abordagem seria preencher os dados faltantes com a média da nota dos candidatos por dependência. ex. se a média da nota dos candidatos que estudaram na escola federal for x e a média da nota dos candidatos que estudaram numa escola privada for y, podemos verificar a média da nota do candidato e aplicar a ele um tipo de escola baseado na sua média. "
      ]
    },
    {
      "cell_type": "markdown",
      "metadata": {
        "id": "AQXvI02KDdCn",
        "colab_type": "text"
      },
      "source": [
        "Claro que essa abordagem não é 100% efetiva mas nos ajudará a preencher os dados faltantes e fazer uma análise do nosso dataset."
      ]
    },
    {
      "cell_type": "markdown",
      "metadata": {
        "id": "EKC3FOeJDnv9",
        "colab_type": "text"
      },
      "source": [
        "Para utilizar nossa abordagem precisamos primeiro criar no nosso dataset um atributo chamado Nota_Final que nos trará a nota final do candidato, calculando sua nota em cada prova e levando em consideração seus respectivos pesos."
      ]
    },
    {
      "cell_type": "code",
      "metadata": {
        "id": "03r93iPTD3kv",
        "colab_type": "code",
        "colab": {}
      },
      "source": [
        "def nota_final(df):\n",
        "    df['Nota_Final'] = (df['NU_NOTA_MT'] * 3) + (df['NU_NOTA_LC'] * 1.5) + (df['NU_NOTA_CN'] * 1) + (df['NU_NOTA_CH'] * 2) + (df['NU_NOTA_REDACAO'] * 3) /(1.5+3+3+1+2)"
      ],
      "execution_count": 0,
      "outputs": []
    },
    {
      "cell_type": "code",
      "metadata": {
        "id": "1njgq0DgEywu",
        "colab_type": "code",
        "colab": {}
      },
      "source": [
        "nota_final(base)"
      ],
      "execution_count": 0,
      "outputs": []
    },
    {
      "cell_type": "markdown",
      "metadata": {
        "id": "cY3jYjp8FApP",
        "colab_type": "text"
      },
      "source": [
        "Mais uma vez criamos uma função que cria nosso atributo Nota_Final e atribuímos essa função ao nosso dataset.Abaixo podemos ver o atributo criado com suas respectivas notas."
      ]
    },
    {
      "cell_type": "code",
      "metadata": {
        "id": "lTTnr3-wFKi4",
        "colab_type": "code",
        "outputId": "b1f3f341-f27b-413b-a6b9-08b0e48edaaf",
        "colab": {
          "base_uri": "https://localhost:8080/",
          "height": 224
        }
      },
      "source": [
        "base.head()"
      ],
      "execution_count": 0,
      "outputs": [
        {
          "output_type": "execute_result",
          "data": {
            "text/html": [
              "<div>\n",
              "<style scoped>\n",
              "    .dataframe tbody tr th:only-of-type {\n",
              "        vertical-align: middle;\n",
              "    }\n",
              "\n",
              "    .dataframe tbody tr th {\n",
              "        vertical-align: top;\n",
              "    }\n",
              "\n",
              "    .dataframe thead th {\n",
              "        text-align: right;\n",
              "    }\n",
              "</style>\n",
              "<table border=\"1\" class=\"dataframe\">\n",
              "  <thead>\n",
              "    <tr style=\"text-align: right;\">\n",
              "      <th></th>\n",
              "      <th>NU_IDADE</th>\n",
              "      <th>TP_ST_CONCLUSAO</th>\n",
              "      <th>TP_SEXO</th>\n",
              "      <th>TP_DEPENDENCIA_ADM_ESC</th>\n",
              "      <th>SG_UF_PROVA</th>\n",
              "      <th>TP_PRESENCA_CN</th>\n",
              "      <th>TP_PRESENCA_CH</th>\n",
              "      <th>TP_PRESENCA_LC</th>\n",
              "      <th>TP_PRESENCA_MT</th>\n",
              "      <th>NU_NOTA_MT</th>\n",
              "      <th>NU_NOTA_CH</th>\n",
              "      <th>NU_NOTA_LC</th>\n",
              "      <th>NU_NOTA_CN</th>\n",
              "      <th>NU_NOTA_REDACAO</th>\n",
              "      <th>TP_ESTADO_CIVIL</th>\n",
              "      <th>NU_NOTA_COMP1</th>\n",
              "      <th>NU_NOTA_COMP2</th>\n",
              "      <th>NU_NOTA_COMP3</th>\n",
              "      <th>NU_NOTA_COMP4</th>\n",
              "      <th>NU_NOTA_COMP5</th>\n",
              "      <th>Q026</th>\n",
              "      <th>Nota_Final</th>\n",
              "    </tr>\n",
              "  </thead>\n",
              "  <tbody>\n",
              "    <tr>\n",
              "      <th>0</th>\n",
              "      <td>24</td>\n",
              "      <td>1</td>\n",
              "      <td>M</td>\n",
              "      <td>NaN</td>\n",
              "      <td>RS</td>\n",
              "      <td>1</td>\n",
              "      <td>1</td>\n",
              "      <td>1</td>\n",
              "      <td>1</td>\n",
              "      <td>399.4</td>\n",
              "      <td>495.4</td>\n",
              "      <td>581.2</td>\n",
              "      <td>436.3</td>\n",
              "      <td>520.0</td>\n",
              "      <td>0.0</td>\n",
              "      <td>120.0</td>\n",
              "      <td>120.0</td>\n",
              "      <td>120.0</td>\n",
              "      <td>80.0</td>\n",
              "      <td>80.0</td>\n",
              "      <td>C</td>\n",
              "      <td>3645.671429</td>\n",
              "    </tr>\n",
              "    <tr>\n",
              "      <th>1</th>\n",
              "      <td>17</td>\n",
              "      <td>2</td>\n",
              "      <td>F</td>\n",
              "      <td>2.0</td>\n",
              "      <td>CE</td>\n",
              "      <td>1</td>\n",
              "      <td>1</td>\n",
              "      <td>1</td>\n",
              "      <td>1</td>\n",
              "      <td>459.8</td>\n",
              "      <td>544.1</td>\n",
              "      <td>599.0</td>\n",
              "      <td>474.5</td>\n",
              "      <td>580.0</td>\n",
              "      <td>0.0</td>\n",
              "      <td>140.0</td>\n",
              "      <td>120.0</td>\n",
              "      <td>120.0</td>\n",
              "      <td>120.0</td>\n",
              "      <td>80.0</td>\n",
              "      <td>A</td>\n",
              "      <td>4006.314286</td>\n",
              "    </tr>\n",
              "    <tr>\n",
              "      <th>5</th>\n",
              "      <td>18</td>\n",
              "      <td>1</td>\n",
              "      <td>F</td>\n",
              "      <td>NaN</td>\n",
              "      <td>BA</td>\n",
              "      <td>1</td>\n",
              "      <td>1</td>\n",
              "      <td>1</td>\n",
              "      <td>1</td>\n",
              "      <td>364.5</td>\n",
              "      <td>583.2</td>\n",
              "      <td>410.9</td>\n",
              "      <td>439.7</td>\n",
              "      <td>620.0</td>\n",
              "      <td>0.0</td>\n",
              "      <td>120.0</td>\n",
              "      <td>120.0</td>\n",
              "      <td>120.0</td>\n",
              "      <td>160.0</td>\n",
              "      <td>100.0</td>\n",
              "      <td>A</td>\n",
              "      <td>3493.092857</td>\n",
              "    </tr>\n",
              "    <tr>\n",
              "      <th>6</th>\n",
              "      <td>18</td>\n",
              "      <td>2</td>\n",
              "      <td>F</td>\n",
              "      <td>2.0</td>\n",
              "      <td>MT</td>\n",
              "      <td>1</td>\n",
              "      <td>1</td>\n",
              "      <td>1</td>\n",
              "      <td>1</td>\n",
              "      <td>529.2</td>\n",
              "      <td>604.2</td>\n",
              "      <td>484.5</td>\n",
              "      <td>420.1</td>\n",
              "      <td>560.0</td>\n",
              "      <td>0.0</td>\n",
              "      <td>100.0</td>\n",
              "      <td>120.0</td>\n",
              "      <td>120.0</td>\n",
              "      <td>120.0</td>\n",
              "      <td>100.0</td>\n",
              "      <td>C</td>\n",
              "      <td>4102.850000</td>\n",
              "    </tr>\n",
              "    <tr>\n",
              "      <th>7</th>\n",
              "      <td>18</td>\n",
              "      <td>1</td>\n",
              "      <td>F</td>\n",
              "      <td>NaN</td>\n",
              "      <td>SP</td>\n",
              "      <td>1</td>\n",
              "      <td>1</td>\n",
              "      <td>1</td>\n",
              "      <td>1</td>\n",
              "      <td>566.7</td>\n",
              "      <td>625.8</td>\n",
              "      <td>611.2</td>\n",
              "      <td>619.6</td>\n",
              "      <td>620.0</td>\n",
              "      <td>0.0</td>\n",
              "      <td>140.0</td>\n",
              "      <td>120.0</td>\n",
              "      <td>120.0</td>\n",
              "      <td>120.0</td>\n",
              "      <td>120.0</td>\n",
              "      <td>A</td>\n",
              "      <td>4665.242857</td>\n",
              "    </tr>\n",
              "  </tbody>\n",
              "</table>\n",
              "</div>"
            ],
            "text/plain": [
              "   NU_IDADE  TP_ST_CONCLUSAO TP_SEXO  TP_DEPENDENCIA_ADM_ESC SG_UF_PROVA  \\\n",
              "0        24                1       M                     NaN          RS   \n",
              "1        17                2       F                     2.0          CE   \n",
              "5        18                1       F                     NaN          BA   \n",
              "6        18                2       F                     2.0          MT   \n",
              "7        18                1       F                     NaN          SP   \n",
              "\n",
              "   TP_PRESENCA_CN  TP_PRESENCA_CH  TP_PRESENCA_LC  TP_PRESENCA_MT  NU_NOTA_MT  \\\n",
              "0               1               1               1               1       399.4   \n",
              "1               1               1               1               1       459.8   \n",
              "5               1               1               1               1       364.5   \n",
              "6               1               1               1               1       529.2   \n",
              "7               1               1               1               1       566.7   \n",
              "\n",
              "   NU_NOTA_CH  NU_NOTA_LC  NU_NOTA_CN  NU_NOTA_REDACAO  TP_ESTADO_CIVIL  \\\n",
              "0       495.4       581.2       436.3            520.0              0.0   \n",
              "1       544.1       599.0       474.5            580.0              0.0   \n",
              "5       583.2       410.9       439.7            620.0              0.0   \n",
              "6       604.2       484.5       420.1            560.0              0.0   \n",
              "7       625.8       611.2       619.6            620.0              0.0   \n",
              "\n",
              "   NU_NOTA_COMP1  NU_NOTA_COMP2  NU_NOTA_COMP3  NU_NOTA_COMP4  NU_NOTA_COMP5  \\\n",
              "0          120.0          120.0          120.0           80.0           80.0   \n",
              "1          140.0          120.0          120.0          120.0           80.0   \n",
              "5          120.0          120.0          120.0          160.0          100.0   \n",
              "6          100.0          120.0          120.0          120.0          100.0   \n",
              "7          140.0          120.0          120.0          120.0          120.0   \n",
              "\n",
              "  Q026   Nota_Final  \n",
              "0    C  3645.671429  \n",
              "1    A  4006.314286  \n",
              "5    A  3493.092857  \n",
              "6    C  4102.850000  \n",
              "7    A  4665.242857  "
            ]
          },
          "metadata": {
            "tags": []
          },
          "execution_count": 125
        }
      ]
    },
    {
      "cell_type": "markdown",
      "metadata": {
        "id": "eGFL-hWaFYOJ",
        "colab_type": "text"
      },
      "source": [
        "Com nosso atributo criado podemos usar nossa lógica para preencher a TP_DEPENDENCIA_ADM_ESC.\n",
        "O código para TP_DEPENDICIA_ADM_ESC é o seguinte:\n",
        "1 - Federal\n",
        "2 - Estadual\n",
        "3 - Municipal\n",
        "4 - Privada"
      ]
    },
    {
      "cell_type": "markdown",
      "metadata": {
        "id": "12OZkgMJF5no",
        "colab_type": "text"
      },
      "source": [
        "Abaixo vemos a média da nota final dos candidatos por dependência administrativa."
      ]
    },
    {
      "cell_type": "code",
      "metadata": {
        "id": "gW44qPrmFkb1",
        "colab_type": "code",
        "outputId": "9bd29cc6-3692-4345-857f-f11fef4f0cc2",
        "colab": {
          "base_uri": "https://localhost:8080/",
          "height": 119
        }
      },
      "source": [
        "base.groupby('TP_DEPENDENCIA_ADM_ESC')['Nota_Final'].mean()"
      ],
      "execution_count": 0,
      "outputs": [
        {
          "output_type": "execute_result",
          "data": {
            "text/plain": [
              "TP_DEPENDENCIA_ADM_ESC\n",
              "1.0    4460.245622\n",
              "2.0    3768.919499\n",
              "3.0    3939.798810\n",
              "4.0    4500.546145\n",
              "Name: Nota_Final, dtype: float64"
            ]
          },
          "metadata": {
            "tags": []
          },
          "execution_count": 126
        }
      ]
    },
    {
      "cell_type": "markdown",
      "metadata": {
        "id": "AaHiK7WfGjq1",
        "colab_type": "text"
      },
      "source": [
        "Abaixo temos nossa função de preenchimento"
      ]
    },
    {
      "cell_type": "code",
      "metadata": {
        "id": "mL1OioUGGpvI",
        "colab_type": "code",
        "colab": {}
      },
      "source": [
        "def preenche_dependencia(dependencia_nota):\n",
        "    dependencia = dependencia_nota[0]\n",
        "    nota =  dependencia_nota[1]\n",
        "    if pd.isnull(dependencia):\n",
        "        if nota < 3777:\n",
        "            return 2\n",
        "        elif 3714 < nota < 3969:\n",
        "            return 3\n",
        "        elif 3952 < nota < 4464:\n",
        "            return 1\n",
        "        else:\n",
        "            return 4\n",
        "    else:\n",
        "        return dependencia"
      ],
      "execution_count": 0,
      "outputs": []
    },
    {
      "cell_type": "code",
      "metadata": {
        "id": "4jWl4ccVG1IU",
        "colab_type": "code",
        "colab": {}
      },
      "source": [
        "base['TP_DEPENDENCIA_ADM_ESC'] = base[['TP_DEPENDENCIA_ADM_ESC','Nota_Final']].apply(preenche_dependencia, axis=1)"
      ],
      "execution_count": 0,
      "outputs": []
    },
    {
      "cell_type": "code",
      "metadata": {
        "id": "FtZYH9vvG4pW",
        "colab_type": "code",
        "outputId": "292bbae9-8dfd-4633-8314-d2ad87a63ef8",
        "colab": {
          "base_uri": "https://localhost:8080/",
          "height": 408
        }
      },
      "source": [
        "base.isnull().sum()"
      ],
      "execution_count": 0,
      "outputs": [
        {
          "output_type": "execute_result",
          "data": {
            "text/plain": [
              "NU_IDADE                  0\n",
              "TP_ST_CONCLUSAO           0\n",
              "TP_SEXO                   0\n",
              "TP_DEPENDENCIA_ADM_ESC    0\n",
              "SG_UF_PROVA               0\n",
              "TP_PRESENCA_CN            0\n",
              "TP_PRESENCA_CH            0\n",
              "TP_PRESENCA_LC            0\n",
              "TP_PRESENCA_MT            0\n",
              "NU_NOTA_MT                0\n",
              "NU_NOTA_CH                0\n",
              "NU_NOTA_LC                0\n",
              "NU_NOTA_CN                0\n",
              "NU_NOTA_REDACAO           0\n",
              "TP_ESTADO_CIVIL           0\n",
              "NU_NOTA_COMP1             0\n",
              "NU_NOTA_COMP2             0\n",
              "NU_NOTA_COMP3             0\n",
              "NU_NOTA_COMP4             0\n",
              "NU_NOTA_COMP5             0\n",
              "Q026                      0\n",
              "Nota_Final                0\n",
              "dtype: int64"
            ]
          },
          "metadata": {
            "tags": []
          },
          "execution_count": 129
        }
      ]
    },
    {
      "cell_type": "markdown",
      "metadata": {
        "id": "kAEnjCtUJKyT",
        "colab_type": "text"
      },
      "source": [
        "Finalmente não temos mais dados faltantes em nosso dataset, por último vamos criar mais um atributo chamado Região, que nos indicará qual região do Brasil o candidato fez a prova.Para isso vamos utilizar nosso atributo SG_UF_PROVA que traz a UF do Estado onde o candidato realizou a prova."
      ]
    },
    {
      "cell_type": "code",
      "metadata": {
        "id": "iODGlJLOJkkF",
        "colab_type": "code",
        "colab": {}
      },
      "source": [
        "nordeste = ['AL','BA','CE','SE','RN','PI','MA','PB','PE']\n",
        "norte = ['AC','AP','AM','PA','RO','TO']\n",
        "centro_oeste = ['DF','GO','MT','MS','RR']\n",
        "sudeste = ['RJ','SP','MG','ES']\n",
        "sul = ['PR','RS','SC']"
      ],
      "execution_count": 0,
      "outputs": []
    },
    {
      "cell_type": "code",
      "metadata": {
        "id": "3ZB2Fg9RKCdE",
        "colab_type": "code",
        "colab": {}
      },
      "source": [
        "def regioes(uf):\n",
        "    if uf in nordeste:\n",
        "        return 'Nordeste'\n",
        "    elif uf in norte:\n",
        "        return 'Norte'\n",
        "    elif uf in centro_oeste:\n",
        "        return 'Centro-Oeste'\n",
        "    elif uf in sudeste:\n",
        "        return 'Sudeste'\n",
        "    else:\n",
        "        return 'Sul'"
      ],
      "execution_count": 0,
      "outputs": []
    },
    {
      "cell_type": "code",
      "metadata": {
        "id": "0V3CMp4wKJjO",
        "colab_type": "code",
        "colab": {}
      },
      "source": [
        "base['Região'] = base['SG_UF_PROVA'].apply(regioes)"
      ],
      "execution_count": 0,
      "outputs": []
    },
    {
      "cell_type": "markdown",
      "metadata": {
        "id": "UTHTOPhgKWYj",
        "colab_type": "text"
      },
      "source": [
        "Criamos uma lista com os estados de cada região, criamos uma função e aplicamos essa função a cada linha do nosso dataset criando o atributo Região com a região  específica.\n",
        "Abaixo vemos o nosso dataset com o novo atributo criado.\n"
      ]
    },
    {
      "cell_type": "code",
      "metadata": {
        "id": "kfG4pPBzKuLk",
        "colab_type": "code",
        "outputId": "047fcff1-8b52-4bd8-aaea-bbdaa35120eb",
        "colab": {
          "base_uri": "https://localhost:8080/",
          "height": 241
        }
      },
      "source": [
        "base.head()"
      ],
      "execution_count": 0,
      "outputs": [
        {
          "output_type": "execute_result",
          "data": {
            "text/html": [
              "<div>\n",
              "<style scoped>\n",
              "    .dataframe tbody tr th:only-of-type {\n",
              "        vertical-align: middle;\n",
              "    }\n",
              "\n",
              "    .dataframe tbody tr th {\n",
              "        vertical-align: top;\n",
              "    }\n",
              "\n",
              "    .dataframe thead th {\n",
              "        text-align: right;\n",
              "    }\n",
              "</style>\n",
              "<table border=\"1\" class=\"dataframe\">\n",
              "  <thead>\n",
              "    <tr style=\"text-align: right;\">\n",
              "      <th></th>\n",
              "      <th>NU_IDADE</th>\n",
              "      <th>TP_ST_CONCLUSAO</th>\n",
              "      <th>TP_SEXO</th>\n",
              "      <th>TP_DEPENDENCIA_ADM_ESC</th>\n",
              "      <th>SG_UF_PROVA</th>\n",
              "      <th>TP_PRESENCA_CN</th>\n",
              "      <th>TP_PRESENCA_CH</th>\n",
              "      <th>TP_PRESENCA_LC</th>\n",
              "      <th>TP_PRESENCA_MT</th>\n",
              "      <th>NU_NOTA_MT</th>\n",
              "      <th>NU_NOTA_CH</th>\n",
              "      <th>NU_NOTA_LC</th>\n",
              "      <th>NU_NOTA_CN</th>\n",
              "      <th>NU_NOTA_REDACAO</th>\n",
              "      <th>TP_ESTADO_CIVIL</th>\n",
              "      <th>NU_NOTA_COMP1</th>\n",
              "      <th>NU_NOTA_COMP2</th>\n",
              "      <th>NU_NOTA_COMP3</th>\n",
              "      <th>NU_NOTA_COMP4</th>\n",
              "      <th>NU_NOTA_COMP5</th>\n",
              "      <th>Q026</th>\n",
              "      <th>Nota_Final</th>\n",
              "      <th>Região</th>\n",
              "    </tr>\n",
              "  </thead>\n",
              "  <tbody>\n",
              "    <tr>\n",
              "      <th>0</th>\n",
              "      <td>24</td>\n",
              "      <td>1</td>\n",
              "      <td>M</td>\n",
              "      <td>2.0</td>\n",
              "      <td>RS</td>\n",
              "      <td>1</td>\n",
              "      <td>1</td>\n",
              "      <td>1</td>\n",
              "      <td>1</td>\n",
              "      <td>399.4</td>\n",
              "      <td>495.4</td>\n",
              "      <td>581.2</td>\n",
              "      <td>436.3</td>\n",
              "      <td>520.0</td>\n",
              "      <td>0.0</td>\n",
              "      <td>120.0</td>\n",
              "      <td>120.0</td>\n",
              "      <td>120.0</td>\n",
              "      <td>80.0</td>\n",
              "      <td>80.0</td>\n",
              "      <td>C</td>\n",
              "      <td>3645.671429</td>\n",
              "      <td>Sul</td>\n",
              "    </tr>\n",
              "    <tr>\n",
              "      <th>1</th>\n",
              "      <td>17</td>\n",
              "      <td>2</td>\n",
              "      <td>F</td>\n",
              "      <td>2.0</td>\n",
              "      <td>CE</td>\n",
              "      <td>1</td>\n",
              "      <td>1</td>\n",
              "      <td>1</td>\n",
              "      <td>1</td>\n",
              "      <td>459.8</td>\n",
              "      <td>544.1</td>\n",
              "      <td>599.0</td>\n",
              "      <td>474.5</td>\n",
              "      <td>580.0</td>\n",
              "      <td>0.0</td>\n",
              "      <td>140.0</td>\n",
              "      <td>120.0</td>\n",
              "      <td>120.0</td>\n",
              "      <td>120.0</td>\n",
              "      <td>80.0</td>\n",
              "      <td>A</td>\n",
              "      <td>4006.314286</td>\n",
              "      <td>Nordeste</td>\n",
              "    </tr>\n",
              "    <tr>\n",
              "      <th>5</th>\n",
              "      <td>18</td>\n",
              "      <td>1</td>\n",
              "      <td>F</td>\n",
              "      <td>2.0</td>\n",
              "      <td>BA</td>\n",
              "      <td>1</td>\n",
              "      <td>1</td>\n",
              "      <td>1</td>\n",
              "      <td>1</td>\n",
              "      <td>364.5</td>\n",
              "      <td>583.2</td>\n",
              "      <td>410.9</td>\n",
              "      <td>439.7</td>\n",
              "      <td>620.0</td>\n",
              "      <td>0.0</td>\n",
              "      <td>120.0</td>\n",
              "      <td>120.0</td>\n",
              "      <td>120.0</td>\n",
              "      <td>160.0</td>\n",
              "      <td>100.0</td>\n",
              "      <td>A</td>\n",
              "      <td>3493.092857</td>\n",
              "      <td>Nordeste</td>\n",
              "    </tr>\n",
              "    <tr>\n",
              "      <th>6</th>\n",
              "      <td>18</td>\n",
              "      <td>2</td>\n",
              "      <td>F</td>\n",
              "      <td>2.0</td>\n",
              "      <td>MT</td>\n",
              "      <td>1</td>\n",
              "      <td>1</td>\n",
              "      <td>1</td>\n",
              "      <td>1</td>\n",
              "      <td>529.2</td>\n",
              "      <td>604.2</td>\n",
              "      <td>484.5</td>\n",
              "      <td>420.1</td>\n",
              "      <td>560.0</td>\n",
              "      <td>0.0</td>\n",
              "      <td>100.0</td>\n",
              "      <td>120.0</td>\n",
              "      <td>120.0</td>\n",
              "      <td>120.0</td>\n",
              "      <td>100.0</td>\n",
              "      <td>C</td>\n",
              "      <td>4102.850000</td>\n",
              "      <td>Centro-Oeste</td>\n",
              "    </tr>\n",
              "    <tr>\n",
              "      <th>7</th>\n",
              "      <td>18</td>\n",
              "      <td>1</td>\n",
              "      <td>F</td>\n",
              "      <td>4.0</td>\n",
              "      <td>SP</td>\n",
              "      <td>1</td>\n",
              "      <td>1</td>\n",
              "      <td>1</td>\n",
              "      <td>1</td>\n",
              "      <td>566.7</td>\n",
              "      <td>625.8</td>\n",
              "      <td>611.2</td>\n",
              "      <td>619.6</td>\n",
              "      <td>620.0</td>\n",
              "      <td>0.0</td>\n",
              "      <td>140.0</td>\n",
              "      <td>120.0</td>\n",
              "      <td>120.0</td>\n",
              "      <td>120.0</td>\n",
              "      <td>120.0</td>\n",
              "      <td>A</td>\n",
              "      <td>4665.242857</td>\n",
              "      <td>Sudeste</td>\n",
              "    </tr>\n",
              "  </tbody>\n",
              "</table>\n",
              "</div>"
            ],
            "text/plain": [
              "   NU_IDADE  TP_ST_CONCLUSAO TP_SEXO  TP_DEPENDENCIA_ADM_ESC SG_UF_PROVA  \\\n",
              "0        24                1       M                     2.0          RS   \n",
              "1        17                2       F                     2.0          CE   \n",
              "5        18                1       F                     2.0          BA   \n",
              "6        18                2       F                     2.0          MT   \n",
              "7        18                1       F                     4.0          SP   \n",
              "\n",
              "   TP_PRESENCA_CN  TP_PRESENCA_CH  TP_PRESENCA_LC  TP_PRESENCA_MT  NU_NOTA_MT  \\\n",
              "0               1               1               1               1       399.4   \n",
              "1               1               1               1               1       459.8   \n",
              "5               1               1               1               1       364.5   \n",
              "6               1               1               1               1       529.2   \n",
              "7               1               1               1               1       566.7   \n",
              "\n",
              "   NU_NOTA_CH  NU_NOTA_LC  NU_NOTA_CN  NU_NOTA_REDACAO  TP_ESTADO_CIVIL  \\\n",
              "0       495.4       581.2       436.3            520.0              0.0   \n",
              "1       544.1       599.0       474.5            580.0              0.0   \n",
              "5       583.2       410.9       439.7            620.0              0.0   \n",
              "6       604.2       484.5       420.1            560.0              0.0   \n",
              "7       625.8       611.2       619.6            620.0              0.0   \n",
              "\n",
              "   NU_NOTA_COMP1  NU_NOTA_COMP2  NU_NOTA_COMP3  NU_NOTA_COMP4  NU_NOTA_COMP5  \\\n",
              "0          120.0          120.0          120.0           80.0           80.0   \n",
              "1          140.0          120.0          120.0          120.0           80.0   \n",
              "5          120.0          120.0          120.0          160.0          100.0   \n",
              "6          100.0          120.0          120.0          120.0          100.0   \n",
              "7          140.0          120.0          120.0          120.0          120.0   \n",
              "\n",
              "  Q026   Nota_Final        Região  \n",
              "0    C  3645.671429           Sul  \n",
              "1    A  4006.314286      Nordeste  \n",
              "5    A  3493.092857      Nordeste  \n",
              "6    C  4102.850000  Centro-Oeste  \n",
              "7    A  4665.242857       Sudeste  "
            ]
          },
          "metadata": {
            "tags": []
          },
          "execution_count": 133
        }
      ]
    },
    {
      "cell_type": "markdown",
      "metadata": {
        "id": "uVC7Lnb8LxMC",
        "colab_type": "text"
      },
      "source": [
        "Isso termina nossa fase de tratamento de dados. Vamos começar então nossa análise e responder nossas perguntas."
      ]
    },
    {
      "cell_type": "markdown",
      "metadata": {
        "id": "FzAS9gjuNOGH",
        "colab_type": "text"
      },
      "source": [
        "# **2- Análise dos Dados**"
      ]
    },
    {
      "cell_type": "code",
      "metadata": {
        "id": "HN-ncqiFNo96",
        "colab_type": "code",
        "outputId": "880b2930-9a88-4958-8583-ab70d88dd20f",
        "colab": {
          "base_uri": "https://localhost:8080/",
          "height": 317
        }
      },
      "source": [
        "base.describe()"
      ],
      "execution_count": 0,
      "outputs": [
        {
          "output_type": "execute_result",
          "data": {
            "text/html": [
              "<div>\n",
              "<style scoped>\n",
              "    .dataframe tbody tr th:only-of-type {\n",
              "        vertical-align: middle;\n",
              "    }\n",
              "\n",
              "    .dataframe tbody tr th {\n",
              "        vertical-align: top;\n",
              "    }\n",
              "\n",
              "    .dataframe thead th {\n",
              "        text-align: right;\n",
              "    }\n",
              "</style>\n",
              "<table border=\"1\" class=\"dataframe\">\n",
              "  <thead>\n",
              "    <tr style=\"text-align: right;\">\n",
              "      <th></th>\n",
              "      <th>NU_IDADE</th>\n",
              "      <th>TP_ST_CONCLUSAO</th>\n",
              "      <th>TP_DEPENDENCIA_ADM_ESC</th>\n",
              "      <th>TP_PRESENCA_CN</th>\n",
              "      <th>TP_PRESENCA_CH</th>\n",
              "      <th>TP_PRESENCA_LC</th>\n",
              "      <th>TP_PRESENCA_MT</th>\n",
              "      <th>NU_NOTA_MT</th>\n",
              "      <th>NU_NOTA_CH</th>\n",
              "      <th>NU_NOTA_LC</th>\n",
              "      <th>NU_NOTA_CN</th>\n",
              "      <th>NU_NOTA_REDACAO</th>\n",
              "      <th>TP_ESTADO_CIVIL</th>\n",
              "      <th>NU_NOTA_COMP1</th>\n",
              "      <th>NU_NOTA_COMP2</th>\n",
              "      <th>NU_NOTA_COMP3</th>\n",
              "      <th>NU_NOTA_COMP4</th>\n",
              "      <th>NU_NOTA_COMP5</th>\n",
              "      <th>Nota_Final</th>\n",
              "    </tr>\n",
              "  </thead>\n",
              "  <tbody>\n",
              "    <tr>\n",
              "      <th>count</th>\n",
              "      <td>10097.000000</td>\n",
              "      <td>10097.000000</td>\n",
              "      <td>10097.000000</td>\n",
              "      <td>10097.0</td>\n",
              "      <td>10097.0</td>\n",
              "      <td>10097.0</td>\n",
              "      <td>10097.0</td>\n",
              "      <td>10097.000000</td>\n",
              "      <td>10097.000000</td>\n",
              "      <td>10097.000000</td>\n",
              "      <td>10097.000000</td>\n",
              "      <td>10097.000000</td>\n",
              "      <td>10097.000000</td>\n",
              "      <td>10097.000000</td>\n",
              "      <td>10097.000000</td>\n",
              "      <td>10097.000000</td>\n",
              "      <td>10097.000000</td>\n",
              "      <td>10097.000000</td>\n",
              "      <td>10097.000000</td>\n",
              "    </tr>\n",
              "    <tr>\n",
              "      <th>mean</th>\n",
              "      <td>20.575517</td>\n",
              "      <td>1.810439</td>\n",
              "      <td>2.234129</td>\n",
              "      <td>1.0</td>\n",
              "      <td>1.0</td>\n",
              "      <td>1.0</td>\n",
              "      <td>1.0</td>\n",
              "      <td>482.648638</td>\n",
              "      <td>530.346123</td>\n",
              "      <td>516.665059</td>\n",
              "      <td>473.912509</td>\n",
              "      <td>529.452907</td>\n",
              "      <td>0.094979</td>\n",
              "      <td>119.880361</td>\n",
              "      <td>111.998019</td>\n",
              "      <td>106.906012</td>\n",
              "      <td>113.210360</td>\n",
              "      <td>77.458156</td>\n",
              "      <td>3908.820516</td>\n",
              "    </tr>\n",
              "    <tr>\n",
              "      <th>std</th>\n",
              "      <td>6.345231</td>\n",
              "      <td>0.830838</td>\n",
              "      <td>0.897838</td>\n",
              "      <td>0.0</td>\n",
              "      <td>0.0</td>\n",
              "      <td>0.0</td>\n",
              "      <td>0.0</td>\n",
              "      <td>99.685820</td>\n",
              "      <td>73.528309</td>\n",
              "      <td>68.442602</td>\n",
              "      <td>71.098468</td>\n",
              "      <td>154.001881</td>\n",
              "      <td>0.355776</td>\n",
              "      <td>29.770060</td>\n",
              "      <td>33.676266</td>\n",
              "      <td>34.294586</td>\n",
              "      <td>33.413072</td>\n",
              "      <td>43.057358</td>\n",
              "      <td>544.595630</td>\n",
              "    </tr>\n",
              "    <tr>\n",
              "      <th>min</th>\n",
              "      <td>13.000000</td>\n",
              "      <td>1.000000</td>\n",
              "      <td>1.000000</td>\n",
              "      <td>1.0</td>\n",
              "      <td>1.0</td>\n",
              "      <td>1.0</td>\n",
              "      <td>1.0</td>\n",
              "      <td>0.000000</td>\n",
              "      <td>0.000000</td>\n",
              "      <td>0.000000</td>\n",
              "      <td>0.000000</td>\n",
              "      <td>0.000000</td>\n",
              "      <td>0.000000</td>\n",
              "      <td>0.000000</td>\n",
              "      <td>0.000000</td>\n",
              "      <td>0.000000</td>\n",
              "      <td>0.000000</td>\n",
              "      <td>0.000000</td>\n",
              "      <td>0.000000</td>\n",
              "    </tr>\n",
              "    <tr>\n",
              "      <th>25%</th>\n",
              "      <td>17.000000</td>\n",
              "      <td>1.000000</td>\n",
              "      <td>2.000000</td>\n",
              "      <td>1.0</td>\n",
              "      <td>1.0</td>\n",
              "      <td>1.0</td>\n",
              "      <td>1.0</td>\n",
              "      <td>409.000000</td>\n",
              "      <td>481.000000</td>\n",
              "      <td>468.600000</td>\n",
              "      <td>420.100000</td>\n",
              "      <td>440.000000</td>\n",
              "      <td>0.000000</td>\n",
              "      <td>120.000000</td>\n",
              "      <td>100.000000</td>\n",
              "      <td>80.000000</td>\n",
              "      <td>100.000000</td>\n",
              "      <td>40.000000</td>\n",
              "      <td>3518.292857</td>\n",
              "    </tr>\n",
              "    <tr>\n",
              "      <th>50%</th>\n",
              "      <td>18.000000</td>\n",
              "      <td>2.000000</td>\n",
              "      <td>2.000000</td>\n",
              "      <td>1.0</td>\n",
              "      <td>1.0</td>\n",
              "      <td>1.0</td>\n",
              "      <td>1.0</td>\n",
              "      <td>461.300000</td>\n",
              "      <td>532.600000</td>\n",
              "      <td>521.100000</td>\n",
              "      <td>460.400000</td>\n",
              "      <td>540.000000</td>\n",
              "      <td>0.000000</td>\n",
              "      <td>120.000000</td>\n",
              "      <td>120.000000</td>\n",
              "      <td>120.000000</td>\n",
              "      <td>120.000000</td>\n",
              "      <td>80.000000</td>\n",
              "      <td>3814.542857</td>\n",
              "    </tr>\n",
              "    <tr>\n",
              "      <th>75%</th>\n",
              "      <td>21.000000</td>\n",
              "      <td>2.000000</td>\n",
              "      <td>2.000000</td>\n",
              "      <td>1.0</td>\n",
              "      <td>1.0</td>\n",
              "      <td>1.0</td>\n",
              "      <td>1.0</td>\n",
              "      <td>537.700000</td>\n",
              "      <td>581.900000</td>\n",
              "      <td>564.900000</td>\n",
              "      <td>515.100000</td>\n",
              "      <td>600.000000</td>\n",
              "      <td>0.000000</td>\n",
              "      <td>140.000000</td>\n",
              "      <td>120.000000</td>\n",
              "      <td>120.000000</td>\n",
              "      <td>120.000000</td>\n",
              "      <td>100.000000</td>\n",
              "      <td>4208.428571</td>\n",
              "    </tr>\n",
              "    <tr>\n",
              "      <th>max</th>\n",
              "      <td>66.000000</td>\n",
              "      <td>4.000000</td>\n",
              "      <td>4.000000</td>\n",
              "      <td>1.0</td>\n",
              "      <td>1.0</td>\n",
              "      <td>1.0</td>\n",
              "      <td>1.0</td>\n",
              "      <td>952.000000</td>\n",
              "      <td>807.000000</td>\n",
              "      <td>763.600000</td>\n",
              "      <td>806.400000</td>\n",
              "      <td>1000.000000</td>\n",
              "      <td>3.000000</td>\n",
              "      <td>200.000000</td>\n",
              "      <td>200.000000</td>\n",
              "      <td>200.000000</td>\n",
              "      <td>200.000000</td>\n",
              "      <td>200.000000</td>\n",
              "      <td>6249.300000</td>\n",
              "    </tr>\n",
              "  </tbody>\n",
              "</table>\n",
              "</div>"
            ],
            "text/plain": [
              "           NU_IDADE  TP_ST_CONCLUSAO  TP_DEPENDENCIA_ADM_ESC  TP_PRESENCA_CN  \\\n",
              "count  10097.000000     10097.000000            10097.000000         10097.0   \n",
              "mean      20.575517         1.810439                2.234129             1.0   \n",
              "std        6.345231         0.830838                0.897838             0.0   \n",
              "min       13.000000         1.000000                1.000000             1.0   \n",
              "25%       17.000000         1.000000                2.000000             1.0   \n",
              "50%       18.000000         2.000000                2.000000             1.0   \n",
              "75%       21.000000         2.000000                2.000000             1.0   \n",
              "max       66.000000         4.000000                4.000000             1.0   \n",
              "\n",
              "       TP_PRESENCA_CH  TP_PRESENCA_LC  TP_PRESENCA_MT    NU_NOTA_MT  \\\n",
              "count         10097.0         10097.0         10097.0  10097.000000   \n",
              "mean              1.0             1.0             1.0    482.648638   \n",
              "std               0.0             0.0             0.0     99.685820   \n",
              "min               1.0             1.0             1.0      0.000000   \n",
              "25%               1.0             1.0             1.0    409.000000   \n",
              "50%               1.0             1.0             1.0    461.300000   \n",
              "75%               1.0             1.0             1.0    537.700000   \n",
              "max               1.0             1.0             1.0    952.000000   \n",
              "\n",
              "         NU_NOTA_CH    NU_NOTA_LC    NU_NOTA_CN  NU_NOTA_REDACAO  \\\n",
              "count  10097.000000  10097.000000  10097.000000     10097.000000   \n",
              "mean     530.346123    516.665059    473.912509       529.452907   \n",
              "std       73.528309     68.442602     71.098468       154.001881   \n",
              "min        0.000000      0.000000      0.000000         0.000000   \n",
              "25%      481.000000    468.600000    420.100000       440.000000   \n",
              "50%      532.600000    521.100000    460.400000       540.000000   \n",
              "75%      581.900000    564.900000    515.100000       600.000000   \n",
              "max      807.000000    763.600000    806.400000      1000.000000   \n",
              "\n",
              "       TP_ESTADO_CIVIL  NU_NOTA_COMP1  NU_NOTA_COMP2  NU_NOTA_COMP3  \\\n",
              "count     10097.000000   10097.000000   10097.000000   10097.000000   \n",
              "mean          0.094979     119.880361     111.998019     106.906012   \n",
              "std           0.355776      29.770060      33.676266      34.294586   \n",
              "min           0.000000       0.000000       0.000000       0.000000   \n",
              "25%           0.000000     120.000000     100.000000      80.000000   \n",
              "50%           0.000000     120.000000     120.000000     120.000000   \n",
              "75%           0.000000     140.000000     120.000000     120.000000   \n",
              "max           3.000000     200.000000     200.000000     200.000000   \n",
              "\n",
              "       NU_NOTA_COMP4  NU_NOTA_COMP5    Nota_Final  \n",
              "count   10097.000000   10097.000000  10097.000000  \n",
              "mean      113.210360      77.458156   3908.820516  \n",
              "std        33.413072      43.057358    544.595630  \n",
              "min         0.000000       0.000000      0.000000  \n",
              "25%       100.000000      40.000000   3518.292857  \n",
              "50%       120.000000      80.000000   3814.542857  \n",
              "75%       120.000000     100.000000   4208.428571  \n",
              "max       200.000000     200.000000   6249.300000  "
            ]
          },
          "metadata": {
            "tags": []
          },
          "execution_count": 134
        }
      ]
    },
    {
      "cell_type": "markdown",
      "metadata": {
        "id": "f6fjVBGYO_me",
        "colab_type": "text"
      },
      "source": [
        "Acima podemos ver alguns dados do nosso dataset.\n",
        "<ol>\n",
        "  <li> O candidato mais novo a realizar a prova teve 14 anos e o mais velho teve 64 anos.A média da idade dos candidatos é 20 anos.</li>\n",
        "  <li>Olhando para a nota de matemática vemos que a maior nota foi 952.000 e a menor foi 000.000. A média da nota de matemática no enem de 2016 foi 481.750475. Uma média baixa.</li>\n",
        "  <li>Aliás esse enem de 2016, de acordo com nosso dataset, teve uma média muito baixa nas notas. a Menor Nota Final foi 0 e a maior foi 6249.300, bem baixa. A média das notas finais no enem de 2016 foi 3906.787383.Um média baixa pro Brasil, isso pode indicar que em 2016 a educação do Brasil sofreu para preparar os alunos para o enem.</li>\n",
        "  <li>Por fim, analisemos a nota da redação, tivemos uma nota mínima de 000.000  e uma nota máxima de 100.000, isso indica que sim é possível tirar nota máxima na redação do enem rsrs. A média da nota da redação é 529.609778, uma média maior que a de matemática mas ainda assim baixa. No entanto considero que em termos da nota da redação não estamos muito longe do satisfatório,acredito que uma média igual ou maior a 600.000 poderia indicar que estamos caminhando para um país que escreve e lê melhor. Nós vamos chegar lá... "
      ]
    },
    {
      "cell_type": "markdown",
      "metadata": {
        "id": "1bR2MqT6ShNs",
        "colab_type": "text"
      },
      "source": [
        "Após essa análise inicial podemos começar a responder nossas perguntas:\n"
      ]
    },
    {
      "cell_type": "markdown",
      "metadata": {
        "colab_type": "text",
        "id": "HckADOh-Sxnd"
      },
      "source": [
        "<h5><b> Perguntas:<h5></b>\n",
        "<ul>\n",
        "  <li> Os alunos de escola Federal ou Privada tem uma média maior do que os alunos de escola municipal ou estadual?</li>\n",
        "  <li> Os alunos que trabalham teriam menor desempenho  no enem, visto que provavelmente teriam menos tempo para estudar?\n",
        "  <li>Quem está no terceiro ano do ensino médio se sai melhor no enem do que quem já concluiu o ensino médio?teoricamente os alunos do 3° ano estariam com a matéria mais fresca.\n",
        "  <li> Qual a região do Brasil com maior média no enem?\n",
        "\n",
        "  <li>Será que os candidatos casados tiveram menor aproveitamento que os solteiros?teoricamente os casados tem maiores tarefas diárias e isso poderia limitar o tempo de estudo.\n",
        "</ul>\n",
        "\n"
      ]
    },
    {
      "cell_type": "markdown",
      "metadata": {
        "id": "QBhP2x_ISwLS",
        "colab_type": "text"
      },
      "source": [
        "Vamos começar com a primeira.\n",
        "Os alunos de escola Federal ou Privada tem uma média maior do que os alunos de escola municipal ou estadual?Vamos primeiro ver os valores, depois vemos no gráfico.\n",
        "Lembrando dos nosso códigos:\n",
        "1 - Federal 2 - Estadual 3 - Municipal 4 - Privada"
      ]
    },
    {
      "cell_type": "code",
      "metadata": {
        "id": "YIb4tZThTY3O",
        "colab_type": "code",
        "outputId": "e91acfa9-4834-4ee9-e861-6d30f187f0e1",
        "colab": {
          "base_uri": "https://localhost:8080/",
          "height": 119
        }
      },
      "source": [
        "base.groupby('TP_DEPENDENCIA_ADM_ESC')['Nota_Final'].mean()\n"
      ],
      "execution_count": 0,
      "outputs": [
        {
          "output_type": "execute_result",
          "data": {
            "text/plain": [
              "TP_DEPENDENCIA_ADM_ESC\n",
              "1.0    4197.475814\n",
              "2.0    3622.849522\n",
              "3.0    3870.654716\n",
              "4.0    4742.387054\n",
              "Name: Nota_Final, dtype: float64"
            ]
          },
          "metadata": {
            "tags": []
          },
          "execution_count": 135
        }
      ]
    },
    {
      "cell_type": "code",
      "metadata": {
        "id": "x-X3Kh-lTq7A",
        "colab_type": "code",
        "outputId": "2534c311-1acb-4e65-d8c0-a1f3dabfd65f",
        "colab": {
          "base_uri": "https://localhost:8080/",
          "height": 301
        }
      },
      "source": [
        "sns.barplot(x='TP_DEPENDENCIA_ADM_ESC', y='Nota_Final', data=base)"
      ],
      "execution_count": 0,
      "outputs": [
        {
          "output_type": "execute_result",
          "data": {
            "text/plain": [
              "<matplotlib.axes._subplots.AxesSubplot at 0x7f5004d95a20>"
            ]
          },
          "metadata": {
            "tags": []
          },
          "execution_count": 136
        },
        {
          "output_type": "display_data",
          "data": {
            "image/png": "[encoded data removed]",
            "text/plain": [
              "<Figure size 432x288 with 1 Axes>"
            ]
          },
          "metadata": {
            "tags": [],
            "needs_background": "light"
          }
        }
      ]
    },
    {
      "cell_type": "markdown",
      "metadata": {
        "id": "3tHFYmp0UH_o",
        "colab_type": "text"
      },
      "source": [
        "Apesar da média ser baixa podemos ver claramente que os candidatos que estudaram em escolas particulares(código 4) tiveram melhor desempenho que os outros, seguido dos candidatos que estudaram em escolas federais(código 1) e municipais(código 3).No enem de 2016 os candidatos que estudaram em colégios estaduais tiveram menor desempenho. "
      ]
    },
    {
      "cell_type": "markdown",
      "metadata": {
        "id": "sjerfDrTUxgf",
        "colab_type": "text"
      },
      "source": [
        "Nossa segunda pergunta é:Os alunos que trabalham teriam menor desempenho no enem, visto que provavelmente teriam menos tempo para estudar?\n",
        "nosso atributo que traz essa indicação é o Q026 com o seguinte código: \n",
        "'A' - nunca trabalhou. 'B' - Já trabalhou mas não trabalha mais.\n",
        "'C' - está trabalhando atualmente."
      ]
    },
    {
      "cell_type": "code",
      "metadata": {
        "id": "E0znzaC9VOPC",
        "colab_type": "code",
        "outputId": "35861ee2-5d6c-49aa-dc5c-1024ffde636b",
        "colab": {
          "base_uri": "https://localhost:8080/",
          "height": 102
        }
      },
      "source": [
        "base.groupby('Q026')['Nota_Final'].mean()"
      ],
      "execution_count": 0,
      "outputs": [
        {
          "output_type": "execute_result",
          "data": {
            "text/plain": [
              "Q026\n",
              "A    3914.482087\n",
              "B    3913.324399\n",
              "C    3885.850857\n",
              "Name: Nota_Final, dtype: float64"
            ]
          },
          "metadata": {
            "tags": []
          },
          "execution_count": 137
        }
      ]
    },
    {
      "cell_type": "code",
      "metadata": {
        "id": "FJFAJp1CVwBp",
        "colab_type": "code",
        "outputId": "22443ce8-7c2c-4e76-f0b6-84f301c5dce4",
        "colab": {
          "base_uri": "https://localhost:8080/",
          "height": 369
        }
      },
      "source": [
        "sns.relplot(x=\"Q026\", y=\"Nota_Final\", data=base);"
      ],
      "execution_count": 0,
      "outputs": [
        {
          "output_type": "display_data",
          "data": {
            "image/png": "[encoded data removed]",
            "text/plain": [
              "<Figure size 360x360 with 1 Axes>"
            ]
          },
          "metadata": {
            "tags": [],
            "needs_background": "light"
          }
        }
      ]
    },
    {
      "cell_type": "markdown",
      "metadata": {
        "id": "tIrNouuFV8qH",
        "colab_type": "text"
      },
      "source": [
        "O código A e B significa que o candidato não trabalha e percebemos que esses que não trabalham tiveram um desempenho ligeiramente maior do que os alunos que trabalham. Será que esse acréscimo na nota dos que não trabalham é reflexo do seu maior tempo livre para estudo? talve sim, pode ser um indicador."
      ]
    },
    {
      "cell_type": "markdown",
      "metadata": {
        "id": "kNzQXLazWbVd",
        "colab_type": "text"
      },
      "source": [
        "Nossa terceira pergunta é: Quem está no terceiro ano do ensino médio se sai melhor no enem do que quem já concluiu o ensino médio?teoricamente os alunos do 3° ano estariam com a matéria mais fresca."
      ]
    },
    {
      "cell_type": "markdown",
      "metadata": {
        "id": "box5bAdAWsZp",
        "colab_type": "text"
      },
      "source": [
        "Para isso utilizamos nosso atributo TP_ST_CONCLUSAO que traz o seguinte código: \n",
        "1 - Já concluiu o ensino médio;\n",
        "2 - Conclui o ensino médio em 2016;\n",
        "3 - Conclui o ensino médio depois de 2016;\n",
        "4 - Não concluiu e não cursa o ensino médio;"
      ]
    },
    {
      "cell_type": "code",
      "metadata": {
        "id": "lRiBkBWEXG0g",
        "colab_type": "code",
        "outputId": "0b35f57a-9a4a-4580-83a5-95856eb331f5",
        "colab": {
          "base_uri": "https://localhost:8080/",
          "height": 119
        }
      },
      "source": [
        "base.groupby('TP_ST_CONCLUSAO')['Nota_Final'].mean()"
      ],
      "execution_count": 0,
      "outputs": [
        {
          "output_type": "execute_result",
          "data": {
            "text/plain": [
              "TP_ST_CONCLUSAO\n",
              "1    3979.956637\n",
              "2    3890.986494\n",
              "3    3804.947615\n",
              "4    3728.230531\n",
              "Name: Nota_Final, dtype: float64"
            ]
          },
          "metadata": {
            "tags": []
          },
          "execution_count": 139
        }
      ]
    },
    {
      "cell_type": "code",
      "metadata": {
        "id": "Ir5IwtiKXdgg",
        "colab_type": "code",
        "outputId": "706640f8-31a1-483e-f566-95d2dc8f2e0b",
        "colab": {
          "base_uri": "https://localhost:8080/",
          "height": 297
        }
      },
      "source": [
        "sns.scatterplot(x=\"TP_ST_CONCLUSAO\", y=\"Nota_Final\", data=base)"
      ],
      "execution_count": 0,
      "outputs": [
        {
          "output_type": "execute_result",
          "data": {
            "text/plain": [
              "<matplotlib.axes._subplots.AxesSubplot at 0x7f50027ec358>"
            ]
          },
          "metadata": {
            "tags": []
          },
          "execution_count": 140
        },
        {
          "output_type": "display_data",
          "data": {
            "image/png": "[encoded data removed]",
            "text/plain": [
              "<Figure size 432x288 with 1 Axes>"
            ]
          },
          "metadata": {
            "tags": [],
            "needs_background": "light"
          }
        }
      ]
    },
    {
      "cell_type": "markdown",
      "metadata": {
        "id": "aThsspkHXyhR",
        "colab_type": "text"
      },
      "source": [
        "Pelo gráfico vemos que as notas de quem já concluiu o ensino médio, quem vai concluiur em 2016 e quem vai concluir depois são muito parecidas.Mostrando que quem está no 3° ano do ensino médio não teria tanta vantagem sobre quem não está. Agora quem não concluiu o ensino médio e não pensa em concluir tem um desempenho bem mais abaixo que os outros."
      ]
    },
    {
      "cell_type": "markdown",
      "metadata": {
        "id": "1Lj6CgSSYO9S",
        "colab_type": "text"
      },
      "source": [
        "Para a nossa quarta pergunta temos:Qual a região do Brasil com maior média no enem?\n",
        "\n",
        "Para isso vamos usar nosso atributo Região, que criamos especialmente para isso."
      ]
    },
    {
      "cell_type": "code",
      "metadata": {
        "id": "YMY54CyDYY--",
        "colab_type": "code",
        "outputId": "a1a70cbd-bebb-4990-804a-cf4c97e6d3b1",
        "colab": {
          "base_uri": "https://localhost:8080/",
          "height": 136
        }
      },
      "source": [
        "base.groupby('Região')['Nota_Final'].mean()"
      ],
      "execution_count": 0,
      "outputs": [
        {
          "output_type": "execute_result",
          "data": {
            "text/plain": [
              "Região\n",
              "Centro-Oeste    3916.966296\n",
              "Nordeste        3794.278177\n",
              "Norte           3788.096417\n",
              "Sudeste         4061.788733\n",
              "Sul             3966.938817\n",
              "Name: Nota_Final, dtype: float64"
            ]
          },
          "metadata": {
            "tags": []
          },
          "execution_count": 141
        }
      ]
    },
    {
      "cell_type": "code",
      "metadata": {
        "id": "i5wfqL9kYbt3",
        "colab_type": "code",
        "outputId": "245580fb-98ca-46e1-f0f6-d1d67202aa8c",
        "colab": {
          "base_uri": "https://localhost:8080/",
          "height": 296
        }
      },
      "source": [
        "sns.stripplot(x=\"Região\" , y=\"Nota_Final\", data=base)"
      ],
      "execution_count": 0,
      "outputs": [
        {
          "output_type": "execute_result",
          "data": {
            "text/plain": [
              "<matplotlib.axes._subplots.AxesSubplot at 0x7f50024f0da0>"
            ]
          },
          "metadata": {
            "tags": []
          },
          "execution_count": 142
        },
        {
          "output_type": "display_data",
          "data": {
            "image/png": "[encoded data removed]",
            "text/plain": [
              "<Figure size 432x288 with 1 Axes>"
            ]
          },
          "metadata": {
            "tags": [],
            "needs_background": "light"
          }
        }
      ]
    },
    {
      "cell_type": "markdown",
      "metadata": {
        "id": "ypwhEJvKYlx8",
        "colab_type": "text"
      },
      "source": [
        "Pelo gráfico temos que as notas no enem por região são muito parecidas, o sudeste e o sul com uma nota um pouco maior e o norte com um pouco menor que os outros."
      ]
    },
    {
      "cell_type": "markdown",
      "metadata": {
        "id": "VBaRxMy8bpDM",
        "colab_type": "text"
      },
      "source": [
        "Por fim nossa última pergunta é: Será que os candidatos casados tiveram menor aproveitamento que os solteiros?teoricamente os casados tem maiores tarefas diárias e isso poderia limitar o tempo de estudo.\n",
        "Nosso atributo é o TP_ESTADO_CIVIL e nosso código é:\n",
        " 0: Solteiro, 1: Casado, 2: Divorciado, 3: Viúvo."
      ]
    },
    {
      "cell_type": "code",
      "metadata": {
        "id": "rb-oFB_acNJ1",
        "colab_type": "code",
        "outputId": "e8ac83ce-abcc-48d6-d7e4-07edaa98e560",
        "colab": {
          "base_uri": "https://localhost:8080/",
          "height": 119
        }
      },
      "source": [
        "base.groupby('TP_ESTADO_CIVIL')['Nota_Final'].mean()"
      ],
      "execution_count": 0,
      "outputs": [
        {
          "output_type": "execute_result",
          "data": {
            "text/plain": [
              "TP_ESTADO_CIVIL\n",
              "0.0    3914.722831\n",
              "1.0    3841.705538\n",
              "2.0    3821.746468\n",
              "3.0    3843.029135\n",
              "Name: Nota_Final, dtype: float64"
            ]
          },
          "metadata": {
            "tags": []
          },
          "execution_count": 144
        }
      ]
    },
    {
      "cell_type": "code",
      "metadata": {
        "id": "iEjH20gwcRPx",
        "colab_type": "code",
        "outputId": "1ca6c4b0-9b88-4c27-a403-c094a52714bb",
        "colab": {
          "base_uri": "https://localhost:8080/",
          "height": 297
        }
      },
      "source": [
        "sns.barplot(x='TP_ESTADO_CIVIL', y='Nota_Final', data=base)"
      ],
      "execution_count": 0,
      "outputs": [
        {
          "output_type": "execute_result",
          "data": {
            "text/plain": [
              "<matplotlib.axes._subplots.AxesSubplot at 0x7f500db22978>"
            ]
          },
          "metadata": {
            "tags": []
          },
          "execution_count": 145
        },
        {
          "output_type": "display_data",
          "data": {
            "image/png": "[encoded data removed]",
            "text/plain": [
              "<Figure size 432x288 with 1 Axes>"
            ]
          },
          "metadata": {
            "tags": [],
            "needs_background": "light"
          }
        }
      ]
    },
    {
      "cell_type": "markdown",
      "metadata": {
        "id": "YOQTYVg_cuix",
        "colab_type": "text"
      },
      "source": [
        "Mais uma vez o gráfico nega nossa hipótese. Os candidatos casados tiveram desempenho semelhante aos solteiros e isso evidencia que mesmo com afazeres cotiadianos da vida de um casal é possível estudar e se dedicar para uma   prova como o enem."
      ]
    },
    {
      "cell_type": "markdown",
      "metadata": {
        "id": "GQ7OpDbzesTC",
        "colab_type": "text"
      },
      "source": [
        "Bom, essa foram algumas perguntas que pudemos responder com o nosso dataset. Claro que poderiamos ter feito várias outras e analisado alguns outros aspectos e eu te convido a fazê-lo, se aventure e busque outras análises, é assim que a gente aprende.\n",
        "Dito isso, podemos começar nosso 3° passo e treinar nosso modelo de predição das notas matemáticas."
      ]
    },
    {
      "cell_type": "markdown",
      "metadata": {
        "id": "9zGbAZUkfqik",
        "colab_type": "text"
      },
      "source": [
        "# **3- Criação e treinamento do modelo**"
      ]
    },
    {
      "cell_type": "markdown",
      "metadata": {
        "id": "KHn9dMtKgYny",
        "colab_type": "text"
      },
      "source": [
        "Para criar nossos modelos vamos utilizar dois métodos de regressão que é o LinearRegression e o RandomForestRegressor ambos da biblioteca de sklearn do python. Depois vamos verificar na quarta parte, qual modelo se sai melhor.\n",
        "\n",
        "Para isso primeiro vamos dividir a nossa base em dados de treino e dados de teste.Fazemos isso com a biblioteca train_test_split também do sklearn. Utilizaremos os dados de treino para treinar o nosso modelo e os dados de teste para avaliar a perfomance dele.\n"
      ]
    },
    {
      "cell_type": "code",
      "metadata": {
        "id": "etVxrKgvf1bu",
        "colab_type": "code",
        "colab": {}
      },
      "source": [
        "from sklearn.model_selection import train_test_split\n",
        "from sklearn.linear_model import LinearRegression\n",
        "from sklearn.ensemble import RandomForestRegressor\n"
      ],
      "execution_count": 0,
      "outputs": []
    },
    {
      "cell_type": "code",
      "metadata": {
        "id": "xLv0PEB2iQwO",
        "colab_type": "code",
        "colab": {}
      },
      "source": [
        "X_train, X_teste, y_train, y_teste = train_test_split(base.drop('NU_NOTA_MT',axis=1), base['NU_NOTA_MT'], test_size=0.2, random_state=0)"
      ],
      "execution_count": 0,
      "outputs": []
    },
    {
      "cell_type": "markdown",
      "metadata": {
        "id": "TJqukO4viZaf",
        "colab_type": "text"
      },
      "source": [
        "O código acima divide nosso dataset em dados de treino e teste,sendo que os dados de treino tem 80% da nossa base e os dados de teste 20%"
      ]
    },
    {
      "cell_type": "code",
      "metadata": {
        "id": "yhgegSJyik6X",
        "colab_type": "code",
        "outputId": "13431d4c-063e-4fa5-de91-abe6696fffdd",
        "colab": {
          "base_uri": "https://localhost:8080/",
          "height": 34
        }
      },
      "source": [
        "X_train.shape"
      ],
      "execution_count": 0,
      "outputs": [
        {
          "output_type": "execute_result",
          "data": {
            "text/plain": [
              "(8077, 22)"
            ]
          },
          "metadata": {
            "tags": []
          },
          "execution_count": 148
        }
      ]
    },
    {
      "cell_type": "code",
      "metadata": {
        "id": "p0ns8W7fimYS",
        "colab_type": "code",
        "outputId": "33a78409-3a38-400d-ca0b-27545aeedfdd",
        "colab": {
          "base_uri": "https://localhost:8080/",
          "height": 34
        }
      },
      "source": [
        "X_teste.shape"
      ],
      "execution_count": 0,
      "outputs": [
        {
          "output_type": "execute_result",
          "data": {
            "text/plain": [
              "(2020, 22)"
            ]
          },
          "metadata": {
            "tags": []
          },
          "execution_count": 149
        }
      ]
    },
    {
      "cell_type": "code",
      "metadata": {
        "id": "ZBsO2IuUipuS",
        "colab_type": "code",
        "outputId": "fc823a7b-1c43-469c-c45e-5876db047bce",
        "colab": {
          "base_uri": "https://localhost:8080/",
          "height": 34
        }
      },
      "source": [
        "base.shape"
      ],
      "execution_count": 0,
      "outputs": [
        {
          "output_type": "execute_result",
          "data": {
            "text/plain": [
              "(10097, 23)"
            ]
          },
          "metadata": {
            "tags": []
          },
          "execution_count": 150
        }
      ]
    },
    {
      "cell_type": "markdown",
      "metadata": {
        "id": "JYxpLsjHixrb",
        "colab_type": "text"
      },
      "source": [
        "Para predizer a notas de matematica dos alunos vamos avaliar quais são os atributos que realmente se correlacionam a nota de matemática, assim garantimos a utilização apenas de variáveis importantes ao resultado, o que aumenta a taxa de acerto do nosso modelo."
      ]
    },
    {
      "cell_type": "code",
      "metadata": {
        "id": "0n2VRR6LjObR",
        "colab_type": "code",
        "outputId": "e8bd7326-8fb6-498c-b964-96224ddd996a",
        "colab": {
          "base_uri": "https://localhost:8080/",
          "height": 658
        }
      },
      "source": [
        "base.corr()"
      ],
      "execution_count": 0,
      "outputs": [
        {
          "output_type": "execute_result",
          "data": {
            "text/html": [
              "<div>\n",
              "<style scoped>\n",
              "    .dataframe tbody tr th:only-of-type {\n",
              "        vertical-align: middle;\n",
              "    }\n",
              "\n",
              "    .dataframe tbody tr th {\n",
              "        vertical-align: top;\n",
              "    }\n",
              "\n",
              "    .dataframe thead th {\n",
              "        text-align: right;\n",
              "    }\n",
              "</style>\n",
              "<table border=\"1\" class=\"dataframe\">\n",
              "  <thead>\n",
              "    <tr style=\"text-align: right;\">\n",
              "      <th></th>\n",
              "      <th>NU_IDADE</th>\n",
              "      <th>TP_ST_CONCLUSAO</th>\n",
              "      <th>TP_DEPENDENCIA_ADM_ESC</th>\n",
              "      <th>TP_PRESENCA_CN</th>\n",
              "      <th>TP_PRESENCA_CH</th>\n",
              "      <th>TP_PRESENCA_LC</th>\n",
              "      <th>TP_PRESENCA_MT</th>\n",
              "      <th>NU_NOTA_MT</th>\n",
              "      <th>NU_NOTA_CH</th>\n",
              "      <th>NU_NOTA_LC</th>\n",
              "      <th>NU_NOTA_CN</th>\n",
              "      <th>NU_NOTA_REDACAO</th>\n",
              "      <th>TP_ESTADO_CIVIL</th>\n",
              "      <th>NU_NOTA_COMP1</th>\n",
              "      <th>NU_NOTA_COMP2</th>\n",
              "      <th>NU_NOTA_COMP3</th>\n",
              "      <th>NU_NOTA_COMP4</th>\n",
              "      <th>NU_NOTA_COMP5</th>\n",
              "      <th>Nota_Final</th>\n",
              "    </tr>\n",
              "  </thead>\n",
              "  <tbody>\n",
              "    <tr>\n",
              "      <th>NU_IDADE</th>\n",
              "      <td>1.000000</td>\n",
              "      <td>-0.297220</td>\n",
              "      <td>-0.041580</td>\n",
              "      <td>NaN</td>\n",
              "      <td>NaN</td>\n",
              "      <td>NaN</td>\n",
              "      <td>NaN</td>\n",
              "      <td>-0.062208</td>\n",
              "      <td>-0.000076</td>\n",
              "      <td>-0.025205</td>\n",
              "      <td>-0.056657</td>\n",
              "      <td>-0.115139</td>\n",
              "      <td>0.556834</td>\n",
              "      <td>-0.101586</td>\n",
              "      <td>-0.113305</td>\n",
              "      <td>-0.103409</td>\n",
              "      <td>-0.110092</td>\n",
              "      <td>-0.085160</td>\n",
              "      <td>-0.055632</td>\n",
              "    </tr>\n",
              "    <tr>\n",
              "      <th>TP_ST_CONCLUSAO</th>\n",
              "      <td>-0.297220</td>\n",
              "      <td>1.000000</td>\n",
              "      <td>-0.045793</td>\n",
              "      <td>NaN</td>\n",
              "      <td>NaN</td>\n",
              "      <td>NaN</td>\n",
              "      <td>NaN</td>\n",
              "      <td>-0.087215</td>\n",
              "      <td>-0.141062</td>\n",
              "      <td>-0.116986</td>\n",
              "      <td>-0.111349</td>\n",
              "      <td>-0.119494</td>\n",
              "      <td>-0.083507</td>\n",
              "      <td>-0.104147</td>\n",
              "      <td>-0.109111</td>\n",
              "      <td>-0.113471</td>\n",
              "      <td>-0.116655</td>\n",
              "      <td>-0.089141</td>\n",
              "      <td>-0.132229</td>\n",
              "    </tr>\n",
              "    <tr>\n",
              "      <th>TP_DEPENDENCIA_ADM_ESC</th>\n",
              "      <td>-0.041580</td>\n",
              "      <td>-0.045793</td>\n",
              "      <td>1.000000</td>\n",
              "      <td>NaN</td>\n",
              "      <td>NaN</td>\n",
              "      <td>NaN</td>\n",
              "      <td>NaN</td>\n",
              "      <td>0.385577</td>\n",
              "      <td>0.294497</td>\n",
              "      <td>0.261796</td>\n",
              "      <td>0.366905</td>\n",
              "      <td>0.231255</td>\n",
              "      <td>-0.047607</td>\n",
              "      <td>0.176803</td>\n",
              "      <td>0.208866</td>\n",
              "      <td>0.218066</td>\n",
              "      <td>0.208091</td>\n",
              "      <td>0.206353</td>\n",
              "      <td>0.407195</td>\n",
              "    </tr>\n",
              "    <tr>\n",
              "      <th>TP_PRESENCA_CN</th>\n",
              "      <td>NaN</td>\n",
              "      <td>NaN</td>\n",
              "      <td>NaN</td>\n",
              "      <td>NaN</td>\n",
              "      <td>NaN</td>\n",
              "      <td>NaN</td>\n",
              "      <td>NaN</td>\n",
              "      <td>NaN</td>\n",
              "      <td>NaN</td>\n",
              "      <td>NaN</td>\n",
              "      <td>NaN</td>\n",
              "      <td>NaN</td>\n",
              "      <td>NaN</td>\n",
              "      <td>NaN</td>\n",
              "      <td>NaN</td>\n",
              "      <td>NaN</td>\n",
              "      <td>NaN</td>\n",
              "      <td>NaN</td>\n",
              "      <td>NaN</td>\n",
              "    </tr>\n",
              "    <tr>\n",
              "      <th>TP_PRESENCA_CH</th>\n",
              "      <td>NaN</td>\n",
              "      <td>NaN</td>\n",
              "      <td>NaN</td>\n",
              "      <td>NaN</td>\n",
              "      <td>NaN</td>\n",
              "      <td>NaN</td>\n",
              "      <td>NaN</td>\n",
              "      <td>NaN</td>\n",
              "      <td>NaN</td>\n",
              "      <td>NaN</td>\n",
              "      <td>NaN</td>\n",
              "      <td>NaN</td>\n",
              "      <td>NaN</td>\n",
              "      <td>NaN</td>\n",
              "      <td>NaN</td>\n",
              "      <td>NaN</td>\n",
              "      <td>NaN</td>\n",
              "      <td>NaN</td>\n",
              "      <td>NaN</td>\n",
              "    </tr>\n",
              "    <tr>\n",
              "      <th>TP_PRESENCA_LC</th>\n",
              "      <td>NaN</td>\n",
              "      <td>NaN</td>\n",
              "      <td>NaN</td>\n",
              "      <td>NaN</td>\n",
              "      <td>NaN</td>\n",
              "      <td>NaN</td>\n",
              "      <td>NaN</td>\n",
              "      <td>NaN</td>\n",
              "      <td>NaN</td>\n",
              "      <td>NaN</td>\n",
              "      <td>NaN</td>\n",
              "      <td>NaN</td>\n",
              "      <td>NaN</td>\n",
              "      <td>NaN</td>\n",
              "      <td>NaN</td>\n",
              "      <td>NaN</td>\n",
              "      <td>NaN</td>\n",
              "      <td>NaN</td>\n",
              "      <td>NaN</td>\n",
              "    </tr>\n",
              "    <tr>\n",
              "      <th>TP_PRESENCA_MT</th>\n",
              "      <td>NaN</td>\n",
              "      <td>NaN</td>\n",
              "      <td>NaN</td>\n",
              "      <td>NaN</td>\n",
              "      <td>NaN</td>\n",
              "      <td>NaN</td>\n",
              "      <td>NaN</td>\n",
              "      <td>NaN</td>\n",
              "      <td>NaN</td>\n",
              "      <td>NaN</td>\n",
              "      <td>NaN</td>\n",
              "      <td>NaN</td>\n",
              "      <td>NaN</td>\n",
              "      <td>NaN</td>\n",
              "      <td>NaN</td>\n",
              "      <td>NaN</td>\n",
              "      <td>NaN</td>\n",
              "      <td>NaN</td>\n",
              "      <td>NaN</td>\n",
              "    </tr>\n",
              "    <tr>\n",
              "      <th>NU_NOTA_MT</th>\n",
              "      <td>-0.062208</td>\n",
              "      <td>-0.087215</td>\n",
              "      <td>0.385577</td>\n",
              "      <td>NaN</td>\n",
              "      <td>NaN</td>\n",
              "      <td>NaN</td>\n",
              "      <td>NaN</td>\n",
              "      <td>1.000000</td>\n",
              "      <td>0.529594</td>\n",
              "      <td>0.492031</td>\n",
              "      <td>0.584941</td>\n",
              "      <td>0.379891</td>\n",
              "      <td>-0.035551</td>\n",
              "      <td>0.299811</td>\n",
              "      <td>0.335441</td>\n",
              "      <td>0.350556</td>\n",
              "      <td>0.342629</td>\n",
              "      <td>0.343998</td>\n",
              "      <td>0.891956</td>\n",
              "    </tr>\n",
              "    <tr>\n",
              "      <th>NU_NOTA_CH</th>\n",
              "      <td>-0.000076</td>\n",
              "      <td>-0.141062</td>\n",
              "      <td>0.294497</td>\n",
              "      <td>NaN</td>\n",
              "      <td>NaN</td>\n",
              "      <td>NaN</td>\n",
              "      <td>NaN</td>\n",
              "      <td>0.529594</td>\n",
              "      <td>1.000000</td>\n",
              "      <td>0.692988</td>\n",
              "      <td>0.611573</td>\n",
              "      <td>0.550582</td>\n",
              "      <td>-0.002345</td>\n",
              "      <td>0.443809</td>\n",
              "      <td>0.488050</td>\n",
              "      <td>0.510452</td>\n",
              "      <td>0.488797</td>\n",
              "      <td>0.494798</td>\n",
              "      <td>0.815813</td>\n",
              "    </tr>\n",
              "    <tr>\n",
              "      <th>NU_NOTA_LC</th>\n",
              "      <td>-0.025205</td>\n",
              "      <td>-0.116986</td>\n",
              "      <td>0.261796</td>\n",
              "      <td>NaN</td>\n",
              "      <td>NaN</td>\n",
              "      <td>NaN</td>\n",
              "      <td>NaN</td>\n",
              "      <td>0.492031</td>\n",
              "      <td>0.692988</td>\n",
              "      <td>1.000000</td>\n",
              "      <td>0.545667</td>\n",
              "      <td>0.513982</td>\n",
              "      <td>-0.017708</td>\n",
              "      <td>0.431546</td>\n",
              "      <td>0.453135</td>\n",
              "      <td>0.475782</td>\n",
              "      <td>0.468100</td>\n",
              "      <td>0.443357</td>\n",
              "      <td>0.758599</td>\n",
              "    </tr>\n",
              "    <tr>\n",
              "      <th>NU_NOTA_CN</th>\n",
              "      <td>-0.056657</td>\n",
              "      <td>-0.111349</td>\n",
              "      <td>0.366905</td>\n",
              "      <td>NaN</td>\n",
              "      <td>NaN</td>\n",
              "      <td>NaN</td>\n",
              "      <td>NaN</td>\n",
              "      <td>0.584941</td>\n",
              "      <td>0.611573</td>\n",
              "      <td>0.545667</td>\n",
              "      <td>1.000000</td>\n",
              "      <td>0.459938</td>\n",
              "      <td>-0.048313</td>\n",
              "      <td>0.357672</td>\n",
              "      <td>0.412894</td>\n",
              "      <td>0.429447</td>\n",
              "      <td>0.407747</td>\n",
              "      <td>0.416349</td>\n",
              "      <td>0.756935</td>\n",
              "    </tr>\n",
              "    <tr>\n",
              "      <th>NU_NOTA_REDACAO</th>\n",
              "      <td>-0.115139</td>\n",
              "      <td>-0.119494</td>\n",
              "      <td>0.231255</td>\n",
              "      <td>NaN</td>\n",
              "      <td>NaN</td>\n",
              "      <td>NaN</td>\n",
              "      <td>NaN</td>\n",
              "      <td>0.379891</td>\n",
              "      <td>0.550582</td>\n",
              "      <td>0.513982</td>\n",
              "      <td>0.459938</td>\n",
              "      <td>1.000000</td>\n",
              "      <td>-0.060426</td>\n",
              "      <td>0.862036</td>\n",
              "      <td>0.917915</td>\n",
              "      <td>0.925552</td>\n",
              "      <td>0.914132</td>\n",
              "      <td>0.816160</td>\n",
              "      <td>0.595019</td>\n",
              "    </tr>\n",
              "    <tr>\n",
              "      <th>TP_ESTADO_CIVIL</th>\n",
              "      <td>0.556834</td>\n",
              "      <td>-0.083507</td>\n",
              "      <td>-0.047607</td>\n",
              "      <td>NaN</td>\n",
              "      <td>NaN</td>\n",
              "      <td>NaN</td>\n",
              "      <td>NaN</td>\n",
              "      <td>-0.035551</td>\n",
              "      <td>-0.002345</td>\n",
              "      <td>-0.017708</td>\n",
              "      <td>-0.048313</td>\n",
              "      <td>-0.060426</td>\n",
              "      <td>1.000000</td>\n",
              "      <td>-0.050923</td>\n",
              "      <td>-0.064864</td>\n",
              "      <td>-0.056200</td>\n",
              "      <td>-0.061398</td>\n",
              "      <td>-0.037776</td>\n",
              "      <td>-0.034683</td>\n",
              "    </tr>\n",
              "    <tr>\n",
              "      <th>NU_NOTA_COMP1</th>\n",
              "      <td>-0.101586</td>\n",
              "      <td>-0.104147</td>\n",
              "      <td>0.176803</td>\n",
              "      <td>NaN</td>\n",
              "      <td>NaN</td>\n",
              "      <td>NaN</td>\n",
              "      <td>NaN</td>\n",
              "      <td>0.299811</td>\n",
              "      <td>0.443809</td>\n",
              "      <td>0.431546</td>\n",
              "      <td>0.357672</td>\n",
              "      <td>0.862036</td>\n",
              "      <td>-0.050923</td>\n",
              "      <td>1.000000</td>\n",
              "      <td>0.755549</td>\n",
              "      <td>0.758445</td>\n",
              "      <td>0.823696</td>\n",
              "      <td>0.557588</td>\n",
              "      <td>0.482174</td>\n",
              "    </tr>\n",
              "    <tr>\n",
              "      <th>NU_NOTA_COMP2</th>\n",
              "      <td>-0.113305</td>\n",
              "      <td>-0.109111</td>\n",
              "      <td>0.208866</td>\n",
              "      <td>NaN</td>\n",
              "      <td>NaN</td>\n",
              "      <td>NaN</td>\n",
              "      <td>NaN</td>\n",
              "      <td>0.335441</td>\n",
              "      <td>0.488050</td>\n",
              "      <td>0.453135</td>\n",
              "      <td>0.412894</td>\n",
              "      <td>0.917915</td>\n",
              "      <td>-0.064864</td>\n",
              "      <td>0.755549</td>\n",
              "      <td>1.000000</td>\n",
              "      <td>0.874899</td>\n",
              "      <td>0.807150</td>\n",
              "      <td>0.655358</td>\n",
              "      <td>0.529481</td>\n",
              "    </tr>\n",
              "    <tr>\n",
              "      <th>NU_NOTA_COMP3</th>\n",
              "      <td>-0.103409</td>\n",
              "      <td>-0.113471</td>\n",
              "      <td>0.218066</td>\n",
              "      <td>NaN</td>\n",
              "      <td>NaN</td>\n",
              "      <td>NaN</td>\n",
              "      <td>NaN</td>\n",
              "      <td>0.350556</td>\n",
              "      <td>0.510452</td>\n",
              "      <td>0.475782</td>\n",
              "      <td>0.429447</td>\n",
              "      <td>0.925552</td>\n",
              "      <td>-0.056200</td>\n",
              "      <td>0.758445</td>\n",
              "      <td>0.874899</td>\n",
              "      <td>1.000000</td>\n",
              "      <td>0.826533</td>\n",
              "      <td>0.663832</td>\n",
              "      <td>0.550877</td>\n",
              "    </tr>\n",
              "    <tr>\n",
              "      <th>NU_NOTA_COMP4</th>\n",
              "      <td>-0.110092</td>\n",
              "      <td>-0.116655</td>\n",
              "      <td>0.208091</td>\n",
              "      <td>NaN</td>\n",
              "      <td>NaN</td>\n",
              "      <td>NaN</td>\n",
              "      <td>NaN</td>\n",
              "      <td>0.342629</td>\n",
              "      <td>0.488797</td>\n",
              "      <td>0.468100</td>\n",
              "      <td>0.407747</td>\n",
              "      <td>0.914132</td>\n",
              "      <td>-0.061398</td>\n",
              "      <td>0.823696</td>\n",
              "      <td>0.807150</td>\n",
              "      <td>0.826533</td>\n",
              "      <td>1.000000</td>\n",
              "      <td>0.634410</td>\n",
              "      <td>0.535473</td>\n",
              "    </tr>\n",
              "    <tr>\n",
              "      <th>NU_NOTA_COMP5</th>\n",
              "      <td>-0.085160</td>\n",
              "      <td>-0.089141</td>\n",
              "      <td>0.206353</td>\n",
              "      <td>NaN</td>\n",
              "      <td>NaN</td>\n",
              "      <td>NaN</td>\n",
              "      <td>NaN</td>\n",
              "      <td>0.343998</td>\n",
              "      <td>0.494798</td>\n",
              "      <td>0.443357</td>\n",
              "      <td>0.416349</td>\n",
              "      <td>0.816160</td>\n",
              "      <td>-0.037776</td>\n",
              "      <td>0.557588</td>\n",
              "      <td>0.655358</td>\n",
              "      <td>0.663832</td>\n",
              "      <td>0.634410</td>\n",
              "      <td>1.000000</td>\n",
              "      <td>0.526388</td>\n",
              "    </tr>\n",
              "    <tr>\n",
              "      <th>Nota_Final</th>\n",
              "      <td>-0.055632</td>\n",
              "      <td>-0.132229</td>\n",
              "      <td>0.407195</td>\n",
              "      <td>NaN</td>\n",
              "      <td>NaN</td>\n",
              "      <td>NaN</td>\n",
              "      <td>NaN</td>\n",
              "      <td>0.891956</td>\n",
              "      <td>0.815813</td>\n",
              "      <td>0.758599</td>\n",
              "      <td>0.756935</td>\n",
              "      <td>0.595019</td>\n",
              "      <td>-0.034683</td>\n",
              "      <td>0.482174</td>\n",
              "      <td>0.529481</td>\n",
              "      <td>0.550877</td>\n",
              "      <td>0.535473</td>\n",
              "      <td>0.526388</td>\n",
              "      <td>1.000000</td>\n",
              "    </tr>\n",
              "  </tbody>\n",
              "</table>\n",
              "</div>"
            ],
            "text/plain": [
              "                        NU_IDADE  TP_ST_CONCLUSAO  TP_DEPENDENCIA_ADM_ESC  \\\n",
              "NU_IDADE                1.000000        -0.297220               -0.041580   \n",
              "TP_ST_CONCLUSAO        -0.297220         1.000000               -0.045793   \n",
              "TP_DEPENDENCIA_ADM_ESC -0.041580        -0.045793                1.000000   \n",
              "TP_PRESENCA_CN               NaN              NaN                     NaN   \n",
              "TP_PRESENCA_CH               NaN              NaN                     NaN   \n",
              "TP_PRESENCA_LC               NaN              NaN                     NaN   \n",
              "TP_PRESENCA_MT               NaN              NaN                     NaN   \n",
              "NU_NOTA_MT             -0.062208        -0.087215                0.385577   \n",
              "NU_NOTA_CH             -0.000076        -0.141062                0.294497   \n",
              "NU_NOTA_LC             -0.025205        -0.116986                0.261796   \n",
              "NU_NOTA_CN             -0.056657        -0.111349                0.366905   \n",
              "NU_NOTA_REDACAO        -0.115139        -0.119494                0.231255   \n",
              "TP_ESTADO_CIVIL         0.556834        -0.083507               -0.047607   \n",
              "NU_NOTA_COMP1          -0.101586        -0.104147                0.176803   \n",
              "NU_NOTA_COMP2          -0.113305        -0.109111                0.208866   \n",
              "NU_NOTA_COMP3          -0.103409        -0.113471                0.218066   \n",
              "NU_NOTA_COMP4          -0.110092        -0.116655                0.208091   \n",
              "NU_NOTA_COMP5          -0.085160        -0.089141                0.206353   \n",
              "Nota_Final             -0.055632        -0.132229                0.407195   \n",
              "\n",
              "                        TP_PRESENCA_CN  TP_PRESENCA_CH  TP_PRESENCA_LC  \\\n",
              "NU_IDADE                           NaN             NaN             NaN   \n",
              "TP_ST_CONCLUSAO                    NaN             NaN             NaN   \n",
              "TP_DEPENDENCIA_ADM_ESC             NaN             NaN             NaN   \n",
              "TP_PRESENCA_CN                     NaN             NaN             NaN   \n",
              "TP_PRESENCA_CH                     NaN             NaN             NaN   \n",
              "TP_PRESENCA_LC                     NaN             NaN             NaN   \n",
              "TP_PRESENCA_MT                     NaN             NaN             NaN   \n",
              "NU_NOTA_MT                         NaN             NaN             NaN   \n",
              "NU_NOTA_CH                         NaN             NaN             NaN   \n",
              "NU_NOTA_LC                         NaN             NaN             NaN   \n",
              "NU_NOTA_CN                         NaN             NaN             NaN   \n",
              "NU_NOTA_REDACAO                    NaN             NaN             NaN   \n",
              "TP_ESTADO_CIVIL                    NaN             NaN             NaN   \n",
              "NU_NOTA_COMP1                      NaN             NaN             NaN   \n",
              "NU_NOTA_COMP2                      NaN             NaN             NaN   \n",
              "NU_NOTA_COMP3                      NaN             NaN             NaN   \n",
              "NU_NOTA_COMP4                      NaN             NaN             NaN   \n",
              "NU_NOTA_COMP5                      NaN             NaN             NaN   \n",
              "Nota_Final                         NaN             NaN             NaN   \n",
              "\n",
              "                        TP_PRESENCA_MT  NU_NOTA_MT  NU_NOTA_CH  NU_NOTA_LC  \\\n",
              "NU_IDADE                           NaN   -0.062208   -0.000076   -0.025205   \n",
              "TP_ST_CONCLUSAO                    NaN   -0.087215   -0.141062   -0.116986   \n",
              "TP_DEPENDENCIA_ADM_ESC             NaN    0.385577    0.294497    0.261796   \n",
              "TP_PRESENCA_CN                     NaN         NaN         NaN         NaN   \n",
              "TP_PRESENCA_CH                     NaN         NaN         NaN         NaN   \n",
              "TP_PRESENCA_LC                     NaN         NaN         NaN         NaN   \n",
              "TP_PRESENCA_MT                     NaN         NaN         NaN         NaN   \n",
              "NU_NOTA_MT                         NaN    1.000000    0.529594    0.492031   \n",
              "NU_NOTA_CH                         NaN    0.529594    1.000000    0.692988   \n",
              "NU_NOTA_LC                         NaN    0.492031    0.692988    1.000000   \n",
              "NU_NOTA_CN                         NaN    0.584941    0.611573    0.545667   \n",
              "NU_NOTA_REDACAO                    NaN    0.379891    0.550582    0.513982   \n",
              "TP_ESTADO_CIVIL                    NaN   -0.035551   -0.002345   -0.017708   \n",
              "NU_NOTA_COMP1                      NaN    0.299811    0.443809    0.431546   \n",
              "NU_NOTA_COMP2                      NaN    0.335441    0.488050    0.453135   \n",
              "NU_NOTA_COMP3                      NaN    0.350556    0.510452    0.475782   \n",
              "NU_NOTA_COMP4                      NaN    0.342629    0.488797    0.468100   \n",
              "NU_NOTA_COMP5                      NaN    0.343998    0.494798    0.443357   \n",
              "Nota_Final                         NaN    0.891956    0.815813    0.758599   \n",
              "\n",
              "                        NU_NOTA_CN  NU_NOTA_REDACAO  TP_ESTADO_CIVIL  \\\n",
              "NU_IDADE                 -0.056657        -0.115139         0.556834   \n",
              "TP_ST_CONCLUSAO          -0.111349        -0.119494        -0.083507   \n",
              "TP_DEPENDENCIA_ADM_ESC    0.366905         0.231255        -0.047607   \n",
              "TP_PRESENCA_CN                 NaN              NaN              NaN   \n",
              "TP_PRESENCA_CH                 NaN              NaN              NaN   \n",
              "TP_PRESENCA_LC                 NaN              NaN              NaN   \n",
              "TP_PRESENCA_MT                 NaN              NaN              NaN   \n",
              "NU_NOTA_MT                0.584941         0.379891        -0.035551   \n",
              "NU_NOTA_CH                0.611573         0.550582        -0.002345   \n",
              "NU_NOTA_LC                0.545667         0.513982        -0.017708   \n",
              "NU_NOTA_CN                1.000000         0.459938        -0.048313   \n",
              "NU_NOTA_REDACAO           0.459938         1.000000        -0.060426   \n",
              "TP_ESTADO_CIVIL          -0.048313        -0.060426         1.000000   \n",
              "NU_NOTA_COMP1             0.357672         0.862036        -0.050923   \n",
              "NU_NOTA_COMP2             0.412894         0.917915        -0.064864   \n",
              "NU_NOTA_COMP3             0.429447         0.925552        -0.056200   \n",
              "NU_NOTA_COMP4             0.407747         0.914132        -0.061398   \n",
              "NU_NOTA_COMP5             0.416349         0.816160        -0.037776   \n",
              "Nota_Final                0.756935         0.595019        -0.034683   \n",
              "\n",
              "                        NU_NOTA_COMP1  NU_NOTA_COMP2  NU_NOTA_COMP3  \\\n",
              "NU_IDADE                    -0.101586      -0.113305      -0.103409   \n",
              "TP_ST_CONCLUSAO             -0.104147      -0.109111      -0.113471   \n",
              "TP_DEPENDENCIA_ADM_ESC       0.176803       0.208866       0.218066   \n",
              "TP_PRESENCA_CN                    NaN            NaN            NaN   \n",
              "TP_PRESENCA_CH                    NaN            NaN            NaN   \n",
              "TP_PRESENCA_LC                    NaN            NaN            NaN   \n",
              "TP_PRESENCA_MT                    NaN            NaN            NaN   \n",
              "NU_NOTA_MT                   0.299811       0.335441       0.350556   \n",
              "NU_NOTA_CH                   0.443809       0.488050       0.510452   \n",
              "NU_NOTA_LC                   0.431546       0.453135       0.475782   \n",
              "NU_NOTA_CN                   0.357672       0.412894       0.429447   \n",
              "NU_NOTA_REDACAO              0.862036       0.917915       0.925552   \n",
              "TP_ESTADO_CIVIL             -0.050923      -0.064864      -0.056200   \n",
              "NU_NOTA_COMP1                1.000000       0.755549       0.758445   \n",
              "NU_NOTA_COMP2                0.755549       1.000000       0.874899   \n",
              "NU_NOTA_COMP3                0.758445       0.874899       1.000000   \n",
              "NU_NOTA_COMP4                0.823696       0.807150       0.826533   \n",
              "NU_NOTA_COMP5                0.557588       0.655358       0.663832   \n",
              "Nota_Final                   0.482174       0.529481       0.550877   \n",
              "\n",
              "                        NU_NOTA_COMP4  NU_NOTA_COMP5  Nota_Final  \n",
              "NU_IDADE                    -0.110092      -0.085160   -0.055632  \n",
              "TP_ST_CONCLUSAO             -0.116655      -0.089141   -0.132229  \n",
              "TP_DEPENDENCIA_ADM_ESC       0.208091       0.206353    0.407195  \n",
              "TP_PRESENCA_CN                    NaN            NaN         NaN  \n",
              "TP_PRESENCA_CH                    NaN            NaN         NaN  \n",
              "TP_PRESENCA_LC                    NaN            NaN         NaN  \n",
              "TP_PRESENCA_MT                    NaN            NaN         NaN  \n",
              "NU_NOTA_MT                   0.342629       0.343998    0.891956  \n",
              "NU_NOTA_CH                   0.488797       0.494798    0.815813  \n",
              "NU_NOTA_LC                   0.468100       0.443357    0.758599  \n",
              "NU_NOTA_CN                   0.407747       0.416349    0.756935  \n",
              "NU_NOTA_REDACAO              0.914132       0.816160    0.595019  \n",
              "TP_ESTADO_CIVIL             -0.061398      -0.037776   -0.034683  \n",
              "NU_NOTA_COMP1                0.823696       0.557588    0.482174  \n",
              "NU_NOTA_COMP2                0.807150       0.655358    0.529481  \n",
              "NU_NOTA_COMP3                0.826533       0.663832    0.550877  \n",
              "NU_NOTA_COMP4                1.000000       0.634410    0.535473  \n",
              "NU_NOTA_COMP5                0.634410       1.000000    0.526388  \n",
              "Nota_Final                   0.535473       0.526388    1.000000  "
            ]
          },
          "metadata": {
            "tags": []
          },
          "execution_count": 151
        }
      ]
    },
    {
      "cell_type": "markdown",
      "metadata": {
        "id": "G3Cpjc9oj8I8",
        "colab_type": "text"
      },
      "source": [
        "Na tabela acima vemos o grau de correlação entre as variáveis e vamos utilizar para treinamento do nosso modelo apenas as variáveis que tiverem correlação maior ou igual a 0.50 ou seja uma correlção maior ou igual a 50%.\n",
        "Por isso vamos utilizar a Nota_Final com uma correlação de 0.89, a NU_NOTA_CN com uma correlação de 0.59, a NU_NOTA_CH com uma correlção de 0.53 e por último a NU_NOTA_LC que tem uma correlação de 0.49(quase 50%)."
      ]
    },
    {
      "cell_type": "code",
      "metadata": {
        "id": "qmyU2dIjk1q8",
        "colab_type": "code",
        "colab": {}
      },
      "source": [
        "X_train = X_train[['NU_NOTA_CN','NU_NOTA_LC','NU_NOTA_CH','Nota_Final']]"
      ],
      "execution_count": 0,
      "outputs": []
    },
    {
      "cell_type": "code",
      "metadata": {
        "id": "hfRvfwljlQfI",
        "colab_type": "code",
        "outputId": "9a7f6841-6305-4bdb-f942-0ca2f26650c4",
        "colab": {
          "base_uri": "https://localhost:8080/",
          "height": 419
        }
      },
      "source": [
        "X_train"
      ],
      "execution_count": 0,
      "outputs": [
        {
          "output_type": "execute_result",
          "data": {
            "text/html": [
              "<div>\n",
              "<style scoped>\n",
              "    .dataframe tbody tr th:only-of-type {\n",
              "        vertical-align: middle;\n",
              "    }\n",
              "\n",
              "    .dataframe tbody tr th {\n",
              "        vertical-align: top;\n",
              "    }\n",
              "\n",
              "    .dataframe thead th {\n",
              "        text-align: right;\n",
              "    }\n",
              "</style>\n",
              "<table border=\"1\" class=\"dataframe\">\n",
              "  <thead>\n",
              "    <tr style=\"text-align: right;\">\n",
              "      <th></th>\n",
              "      <th>NU_NOTA_CN</th>\n",
              "      <th>NU_NOTA_LC</th>\n",
              "      <th>NU_NOTA_CH</th>\n",
              "      <th>Nota_Final</th>\n",
              "    </tr>\n",
              "  </thead>\n",
              "  <tbody>\n",
              "    <tr>\n",
              "      <th>13351</th>\n",
              "      <td>529.2</td>\n",
              "      <td>494.3</td>\n",
              "      <td>442.0</td>\n",
              "      <td>3651.364286</td>\n",
              "    </tr>\n",
              "    <tr>\n",
              "      <th>10458</th>\n",
              "      <td>428.3</td>\n",
              "      <td>529.8</td>\n",
              "      <td>547.1</td>\n",
              "      <td>4011.700000</td>\n",
              "    </tr>\n",
              "    <tr>\n",
              "      <th>6724</th>\n",
              "      <td>387.7</td>\n",
              "      <td>487.1</td>\n",
              "      <td>475.4</td>\n",
              "      <td>3738.450000</td>\n",
              "    </tr>\n",
              "    <tr>\n",
              "      <th>2875</th>\n",
              "      <td>530.5</td>\n",
              "      <td>572.0</td>\n",
              "      <td>620.6</td>\n",
              "      <td>4834.771429</td>\n",
              "    </tr>\n",
              "    <tr>\n",
              "      <th>4973</th>\n",
              "      <td>395.3</td>\n",
              "      <td>454.5</td>\n",
              "      <td>517.3</td>\n",
              "      <td>3393.264286</td>\n",
              "    </tr>\n",
              "    <tr>\n",
              "      <th>...</th>\n",
              "      <td>...</td>\n",
              "      <td>...</td>\n",
              "      <td>...</td>\n",
              "      <td>...</td>\n",
              "    </tr>\n",
              "    <tr>\n",
              "      <th>12562</th>\n",
              "      <td>394.6</td>\n",
              "      <td>456.1</td>\n",
              "      <td>419.8</td>\n",
              "      <td>3261.992857</td>\n",
              "    </tr>\n",
              "    <tr>\n",
              "      <th>6601</th>\n",
              "      <td>410.3</td>\n",
              "      <td>501.1</td>\n",
              "      <td>651.0</td>\n",
              "      <td>4045.950000</td>\n",
              "    </tr>\n",
              "    <tr>\n",
              "      <th>4442</th>\n",
              "      <td>427.7</td>\n",
              "      <td>401.3</td>\n",
              "      <td>498.4</td>\n",
              "      <td>3595.135714</td>\n",
              "    </tr>\n",
              "    <tr>\n",
              "      <th>13387</th>\n",
              "      <td>416.4</td>\n",
              "      <td>472.1</td>\n",
              "      <td>571.1</td>\n",
              "      <td>3716.535714</td>\n",
              "    </tr>\n",
              "    <tr>\n",
              "      <th>3717</th>\n",
              "      <td>471.3</td>\n",
              "      <td>483.0</td>\n",
              "      <td>496.7</td>\n",
              "      <td>3561.442857</td>\n",
              "    </tr>\n",
              "  </tbody>\n",
              "</table>\n",
              "<p>8077 rows × 4 columns</p>\n",
              "</div>"
            ],
            "text/plain": [
              "       NU_NOTA_CN  NU_NOTA_LC  NU_NOTA_CH   Nota_Final\n",
              "13351       529.2       494.3       442.0  3651.364286\n",
              "10458       428.3       529.8       547.1  4011.700000\n",
              "6724        387.7       487.1       475.4  3738.450000\n",
              "2875        530.5       572.0       620.6  4834.771429\n",
              "4973        395.3       454.5       517.3  3393.264286\n",
              "...           ...         ...         ...          ...\n",
              "12562       394.6       456.1       419.8  3261.992857\n",
              "6601        410.3       501.1       651.0  4045.950000\n",
              "4442        427.7       401.3       498.4  3595.135714\n",
              "13387       416.4       472.1       571.1  3716.535714\n",
              "3717        471.3       483.0       496.7  3561.442857\n",
              "\n",
              "[8077 rows x 4 columns]"
            ]
          },
          "metadata": {
            "tags": []
          },
          "execution_count": 153
        }
      ]
    },
    {
      "cell_type": "markdown",
      "metadata": {
        "id": "KEWM3PP-lqTg",
        "colab_type": "text"
      },
      "source": [
        "Agora com os nosso dados de treino preparados, podemos criar e treinar nosso modelos."
      ]
    },
    {
      "cell_type": "markdown",
      "metadata": {
        "id": "-_OFYv2Il7UP",
        "colab_type": "text"
      },
      "source": [
        "Para usar o modelo LinearRegression(), precisamos que nossos dados estejam no formato de arrays. então vamos transformá-los."
      ]
    },
    {
      "cell_type": "code",
      "metadata": {
        "id": "XLcJSBejmDvy",
        "colab_type": "code",
        "colab": {}
      },
      "source": [
        "X_train_array = X_train.values\n",
        "y_train_array = y_train.values"
      ],
      "execution_count": 0,
      "outputs": []
    },
    {
      "cell_type": "code",
      "metadata": {
        "id": "YIFN2BKXmRWv",
        "colab_type": "code",
        "colab": {}
      },
      "source": [
        "modeloLinear = LinearRegression()"
      ],
      "execution_count": 0,
      "outputs": []
    },
    {
      "cell_type": "code",
      "metadata": {
        "id": "ft2Ag6LcmVET",
        "colab_type": "code",
        "outputId": "27cdb04c-74d7-461d-c4fa-fdf2a29b4032",
        "colab": {
          "base_uri": "https://localhost:8080/",
          "height": 34
        }
      },
      "source": [
        "modeloLinear.fit(X_train_array, y_train_array)"
      ],
      "execution_count": 0,
      "outputs": [
        {
          "output_type": "execute_result",
          "data": {
            "text/plain": [
              "LinearRegression(copy_X=True, fit_intercept=True, n_jobs=None, normalize=False)"
            ]
          },
          "metadata": {
            "tags": []
          },
          "execution_count": 156
        }
      ]
    },
    {
      "cell_type": "markdown",
      "metadata": {
        "id": "qOuUzuOmmfoi",
        "colab_type": "text"
      },
      "source": [
        "Criamos agora nosso modelo do RandomForestRegressor"
      ]
    },
    {
      "cell_type": "code",
      "metadata": {
        "id": "p8tgwDMcmkFJ",
        "colab_type": "code",
        "colab": {}
      },
      "source": [
        "modeloRegressor = RandomForestRegressor(n_estimators=10, random_state=39, max_depth=4)"
      ],
      "execution_count": 0,
      "outputs": []
    },
    {
      "cell_type": "code",
      "metadata": {
        "id": "5menIO8RmvBS",
        "colab_type": "code",
        "outputId": "6dca1485-46e0-4662-8ccd-c8dfb008d61a",
        "colab": {
          "base_uri": "https://localhost:8080/",
          "height": 136
        }
      },
      "source": [
        "modeloRegressor.fit(X_train, y_train)"
      ],
      "execution_count": 0,
      "outputs": [
        {
          "output_type": "execute_result",
          "data": {
            "text/plain": [
              "RandomForestRegressor(bootstrap=True, ccp_alpha=0.0, criterion='mse',\n",
              "                      max_depth=4, max_features='auto', max_leaf_nodes=None,\n",
              "                      max_samples=None, min_impurity_decrease=0.0,\n",
              "                      min_impurity_split=None, min_samples_leaf=1,\n",
              "                      min_samples_split=2, min_weight_fraction_leaf=0.0,\n",
              "                      n_estimators=10, n_jobs=None, oob_score=False,\n",
              "                      random_state=39, verbose=0, warm_start=False)"
            ]
          },
          "metadata": {
            "tags": []
          },
          "execution_count": 158
        }
      ]
    },
    {
      "cell_type": "markdown",
      "metadata": {
        "id": "BLrYTSUQyE40",
        "colab_type": "text"
      },
      "source": [
        "Com nosso modelo treinado podemos ir para a quarta e última parte que é a predição e avaliação dos nossos modelos."
      ]
    },
    {
      "cell_type": "markdown",
      "metadata": {
        "id": "-ZJSMe6YybMY",
        "colab_type": "text"
      },
      "source": [
        "# **4- Predição e Avaliação dos Modelos**"
      ]
    },
    {
      "cell_type": "markdown",
      "metadata": {
        "id": "TiUNmTNayl8k",
        "colab_type": "text"
      },
      "source": [
        "Vamos criar duas variáveis que vão armazenar as predições da nota de matemática dos nosssos modelos.Utilizando nossas variavéis de teste."
      ]
    },
    {
      "cell_type": "markdown",
      "metadata": {
        "id": "8Bw_lTMiy6FR",
        "colab_type": "text"
      },
      "source": [
        "Para utilizar nossos dados de teste precisamos que elas tenham as mesmas colunas que os dados de treino"
      ]
    },
    {
      "cell_type": "code",
      "metadata": {
        "id": "3pdKVVu3zAiu",
        "colab_type": "code",
        "colab": {}
      },
      "source": [
        "X_teste = X_teste[['NU_NOTA_CN','NU_NOTA_LC','NU_NOTA_CH','Nota_Final']]"
      ],
      "execution_count": 0,
      "outputs": []
    },
    {
      "cell_type": "markdown",
      "metadata": {
        "id": "o5OB8zUl9dje",
        "colab_type": "text"
      },
      "source": [
        "Com os nossos dados de teste prontos, podemos predizer as notas de matemática dos nossos dados de teste e avaliar a perfomance do modelo. Vamos começar com o modelo linear"
      ]
    },
    {
      "cell_type": "code",
      "metadata": {
        "id": "rHevGNh14_NK",
        "colab_type": "code",
        "colab": {}
      },
      "source": [
        "predicaoLinear = modeloLinear.predict(X_teste)"
      ],
      "execution_count": 0,
      "outputs": []
    },
    {
      "cell_type": "markdown",
      "metadata": {
        "id": "QKtgkda4-JK7",
        "colab_type": "text"
      },
      "source": [
        ""
      ]
    },
    {
      "cell_type": "markdown",
      "metadata": {
        "id": "IXzNJprD-JmC",
        "colab_type": "text"
      },
      "source": [
        "Com a predição feita podemos avaliar a perfomance do nosso modelo com ajuda da lib metrics também do sklearn"
      ]
    },
    {
      "cell_type": "code",
      "metadata": {
        "id": "IeWQxwzW-TOY",
        "colab_type": "code",
        "outputId": "8bdb6ad7-b141-4a54-cd9e-3d87db1b0791",
        "colab": {
          "base_uri": "https://localhost:8080/",
          "height": 142
        }
      },
      "source": [
        "from sklearn import metrics\n",
        "\n",
        "EQMLin = metrics.mean_squared_error(y_teste, predicaoLinear).round(2)\n",
        "REQMLin = np.sqrt(metrics.mean_squared_error(y_teste, predicaoLinear)).round(2)\n",
        "R2Lin = metrics.r2_score(y_teste, predicaoLinear).round(2)\n",
        "\n",
        "pd.DataFrame([EQMLin, REQMLin, R2Lin], [\"EQMLin\", \"REQMLin\", \"R2Lin\"], columns=[\"Métricas\"])"
      ],
      "execution_count": 0,
      "outputs": [
        {
          "output_type": "execute_result",
          "data": {
            "text/html": [
              "<div>\n",
              "<style scoped>\n",
              "    .dataframe tbody tr th:only-of-type {\n",
              "        vertical-align: middle;\n",
              "    }\n",
              "\n",
              "    .dataframe tbody tr th {\n",
              "        vertical-align: top;\n",
              "    }\n",
              "\n",
              "    .dataframe thead th {\n",
              "        text-align: right;\n",
              "    }\n",
              "</style>\n",
              "<table border=\"1\" class=\"dataframe\">\n",
              "  <thead>\n",
              "    <tr style=\"text-align: right;\">\n",
              "      <th></th>\n",
              "      <th>Métricas</th>\n",
              "    </tr>\n",
              "  </thead>\n",
              "  <tbody>\n",
              "    <tr>\n",
              "      <th>EQMLin</th>\n",
              "      <td>136.32</td>\n",
              "    </tr>\n",
              "    <tr>\n",
              "      <th>REQMLin</th>\n",
              "      <td>11.68</td>\n",
              "    </tr>\n",
              "    <tr>\n",
              "      <th>R2Lin</th>\n",
              "      <td>0.99</td>\n",
              "    </tr>\n",
              "  </tbody>\n",
              "</table>\n",
              "</div>"
            ],
            "text/plain": [
              "         Métricas\n",
              "EQMLin     136.32\n",
              "REQMLin     11.68\n",
              "R2Lin        0.99"
            ]
          },
          "metadata": {
            "tags": []
          },
          "execution_count": 172
        }
      ]
    },
    {
      "cell_type": "markdown",
      "metadata": {
        "id": "A0h-TKlS-i3r",
        "colab_type": "text"
      },
      "source": [
        "O R2Lin representa para nós a perfomance do modelo que está em 99%. Uau!!! Muito alta! Claro que estamos num ambiente de treinamento e poderemos depois fazer outros teste para avaliar nosso modelo mais criticamente mas para uma primeira tentativa está muito bom."
      ]
    },
    {
      "cell_type": "markdown",
      "metadata": {
        "id": "09fO1qXa-6UP",
        "colab_type": "text"
      },
      "source": [
        "Podemos avaliar a perfomance do modelo linear também com a ajuda de uma lib chamada yellowbrick. Para instalá-la usamos o comando !pip install yellowbrick"
      ]
    },
    {
      "cell_type": "code",
      "metadata": {
        "id": "SgxWkavx_R0I",
        "colab_type": "code",
        "outputId": "6c92bba7-7ed7-4e37-ae44-f73acec55e4b",
        "colab": {
          "base_uri": "https://localhost:8080/",
          "height": 224
        }
      },
      "source": [
        "!pip install yellowbrick"
      ],
      "execution_count": 0,
      "outputs": [
        {
          "output_type": "stream",
          "text": [
            "Requirement already satisfied: yellowbrick in /usr/local/lib/python3.6/dist-packages (0.9.1)\n",
            "Requirement already satisfied: matplotlib!=3.0.0,>=1.5.1 in /usr/local/lib/python3.6/dist-packages (from yellowbrick) (3.2.1)\n",
            "Requirement already satisfied: scikit-learn>=0.20 in /usr/local/lib/python3.6/dist-packages (from yellowbrick) (0.22.2.post1)\n",
            "Requirement already satisfied: scipy>=1.0.0 in /usr/local/lib/python3.6/dist-packages (from yellowbrick) (1.4.1)\n",
            "Requirement already satisfied: numpy>=1.13.0 in /usr/local/lib/python3.6/dist-packages (from yellowbrick) (1.18.5)\n",
            "Requirement already satisfied: cycler>=0.10.0 in /usr/local/lib/python3.6/dist-packages (from yellowbrick) (0.10.0)\n",
            "Requirement already satisfied: python-dateutil>=2.1 in /usr/local/lib/python3.6/dist-packages (from matplotlib!=3.0.0,>=1.5.1->yellowbrick) (2.8.1)\n",
            "Requirement already satisfied: pyparsing!=2.0.4,!=2.1.2,!=2.1.6,>=2.0.1 in /usr/local/lib/python3.6/dist-packages (from matplotlib!=3.0.0,>=1.5.1->yellowbrick) (2.4.7)\n",
            "Requirement already satisfied: kiwisolver>=1.0.1 in /usr/local/lib/python3.6/dist-packages (from matplotlib!=3.0.0,>=1.5.1->yellowbrick) (1.2.0)\n",
            "Requirement already satisfied: joblib>=0.11 in /usr/local/lib/python3.6/dist-packages (from scikit-learn>=0.20->yellowbrick) (0.15.1)\n",
            "Requirement already satisfied: six in /usr/local/lib/python3.6/dist-packages (from cycler>=0.10.0->yellowbrick) (1.12.0)\n"
          ],
          "name": "stdout"
        }
      ]
    },
    {
      "cell_type": "code",
      "metadata": {
        "id": "FiIUCMax_br6",
        "colab_type": "code",
        "colab": {}
      },
      "source": [
        "from yellowbrick.regressor import PredictionError, ResidualsPlot"
      ],
      "execution_count": 0,
      "outputs": []
    },
    {
      "cell_type": "code",
      "metadata": {
        "id": "FwrHeWZI_nQa",
        "colab_type": "code",
        "outputId": "8112d5c3-9138-444d-fe35-85a6e441deaf",
        "colab": {
          "base_uri": "https://localhost:8080/",
          "height": 376
        }
      },
      "source": [
        "visualizador = ResidualsPlot(modeloLinear)\n",
        "visualizador.fit(X_train, y_train)\n",
        "visualizador.poof()"
      ],
      "execution_count": 0,
      "outputs": [
        {
          "output_type": "display_data",
          "data": {
            "image/png": "[encoded data removed]",
            "text/plain": [
              "<Figure size 576x396 with 2 Axes>"
            ]
          },
          "metadata": {
            "tags": []
          }
        }
      ]
    },
    {
      "cell_type": "code",
      "metadata": {
        "id": "XzzSavui_rN7",
        "colab_type": "code",
        "outputId": "c867b23e-8519-4494-b306-3d4ebf54f546",
        "colab": {
          "base_uri": "https://localhost:8080/",
          "height": 364
        }
      },
      "source": [
        "visualizador = PredictionError(modeloLinear)\n",
        "\n",
        "visualizador.fit(X_train, y_train)  # Fit the training data to the visualizer\n",
        "visualizador.score(X_teste, y_teste)  # Evaluate the model on the test data"
      ],
      "execution_count": 0,
      "outputs": [
        {
          "output_type": "execute_result",
          "data": {
            "text/plain": [
              "0.9863753159623664"
            ]
          },
          "metadata": {
            "tags": []
          },
          "execution_count": 185
        },
        {
          "output_type": "display_data",
          "data": {
            "image/png": "[encoded data removed]",
            "text/plain": [
              "<Figure size 576x396 with 1 Axes>"
            ]
          },
          "metadata": {
            "tags": []
          }
        }
      ]
    },
    {
      "cell_type": "markdown",
      "metadata": {
        "id": "xLTUO_CxAr-Z",
        "colab_type": "text"
      },
      "source": [
        "Esse é um outro modo de avaliar nosso modelo linear\n",
        "Vamos agora usar o modelo do Random Forest Regressor"
      ]
    },
    {
      "cell_type": "code",
      "metadata": {
        "id": "oXj6RFheAzNU",
        "colab_type": "code",
        "colab": {}
      },
      "source": [
        "predicaoRegressor = modeloRegressor.predict(X_teste)"
      ],
      "execution_count": 0,
      "outputs": []
    },
    {
      "cell_type": "code",
      "metadata": {
        "id": "zGFVwVkcA3nw",
        "colab_type": "code",
        "outputId": "2160cd3f-bf42-43a3-d592-db9796e03a55",
        "colab": {
          "base_uri": "https://localhost:8080/",
          "height": 142
        }
      },
      "source": [
        "\n",
        "EQMReg = metrics.mean_squared_error(y_teste, predicaoLinear).round(2)\n",
        "REQMReg = np.sqrt(metrics.mean_squared_error(y_teste, predicaoLinear)).round(2)\n",
        "R2Reg = metrics.r2_score(y_teste, predicaoLinear).round(2)\n",
        "\n",
        "pd.DataFrame([EQMReg, REQMReg, R2Reg], [\"EQMReg\", \"REQMReg\", \"R2Reg\"], columns=[\"Métricas\"])"
      ],
      "execution_count": 0,
      "outputs": [
        {
          "output_type": "execute_result",
          "data": {
            "text/html": [
              "<div>\n",
              "<style scoped>\n",
              "    .dataframe tbody tr th:only-of-type {\n",
              "        vertical-align: middle;\n",
              "    }\n",
              "\n",
              "    .dataframe tbody tr th {\n",
              "        vertical-align: top;\n",
              "    }\n",
              "\n",
              "    .dataframe thead th {\n",
              "        text-align: right;\n",
              "    }\n",
              "</style>\n",
              "<table border=\"1\" class=\"dataframe\">\n",
              "  <thead>\n",
              "    <tr style=\"text-align: right;\">\n",
              "      <th></th>\n",
              "      <th>Métricas</th>\n",
              "    </tr>\n",
              "  </thead>\n",
              "  <tbody>\n",
              "    <tr>\n",
              "      <th>EQMReg</th>\n",
              "      <td>136.32</td>\n",
              "    </tr>\n",
              "    <tr>\n",
              "      <th>REQMReg</th>\n",
              "      <td>11.68</td>\n",
              "    </tr>\n",
              "    <tr>\n",
              "      <th>R2Reg</th>\n",
              "      <td>0.99</td>\n",
              "    </tr>\n",
              "  </tbody>\n",
              "</table>\n",
              "</div>"
            ],
            "text/plain": [
              "         Métricas\n",
              "EQMReg     136.32\n",
              "REQMReg     11.68\n",
              "R2Reg        0.99"
            ]
          },
          "metadata": {
            "tags": []
          },
          "execution_count": 188
        }
      ]
    },
    {
      "cell_type": "markdown",
      "metadata": {
        "id": "2DjAa_d2BRCS",
        "colab_type": "text"
      },
      "source": [
        "Nosso modelo com Random Forest também teve uma margem alta de acerto. Muito Muito Bom!!! \n",
        "Claro que precisaríamos de um ambiente de produção para verificar se nosso modelo está overfitted mas acho que essa análise já nos ajudou bastante."
      ]
    },
    {
      "cell_type": "markdown",
      "metadata": {
        "id": "TvPOXoXKB39h",
        "colab_type": "text"
      },
      "source": [
        "Bom, cumprimos nosso objetivo de análisar os dados do enem respondendo algmas perguntas e construir um modelo para predizer as notas de matemática dos candidatos. Espero que ajude a quem precisar, até a próxima...!"
      ]
    },
    {
      "cell_type": "markdown",
      "metadata": {
        "id": "F7JdSOu8CW3d",
        "colab_type": "text"
      },
      "source": [
        ""
      ]
    }
  ]
}